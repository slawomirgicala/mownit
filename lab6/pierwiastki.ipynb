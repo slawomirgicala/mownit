{
 "cells": [
  {
   "cell_type": "markdown",
   "metadata": {},
   "source": [
    "\n",
    "Zadanie:\n",
    "\n",
    "A. Wybrać trzy metody poszukiwania pierwiastków:\n",
    "\n",
    "    wykorzystującą przedział i zmianę znaku,\n",
    "    wykorzystującą pochodną,\n",
    "    wykorzystującą przybliżenie pochodnej\n",
    "\n",
    "1.Każdą z trzech wybranych metod przetestować (ilość iteracji, ilość wywołań funkcji) na sześciu wybranych funkcjach ze zbioru http://people.sc.fsu.edu/~jburkardt/py_src/test_zero/test_zero.html Wyniki przedstawić w formie tabelki. Pamiętać o sprawdzeniu czy wynik jest poprawny poprzez obliczenie wartości funkcji dla znalezionego pierwiastka !\n",
    "\n",
    "2.Zademonstrować wybrany, ciekawy przykład trudnej funkcji z p.1 i działania metod na niej.\n",
    "\n",
    "3.Dla każdej z wybranych metod zademonstrować i wyjaśnić po jednym przykładzie, dla którego nie działają (można na podstawie p.1 lub wymyślić własny)\n",
    "\n",
    "B. Namalowac wstegę Newtona i objaśnić, w jaki sposób powstała i jaki jest jej związek z metodą Newtona do znajdowania pierwiastków. Sposób i język - dowolny.\n"
   ]
  },
  {
   "cell_type": "markdown",
   "metadata": {},
   "source": [
    "Bisection, Newton, Secant"
   ]
  },
  {
   "cell_type": "code",
   "execution_count": 2,
   "metadata": {},
   "outputs": [
    {
     "name": "stdout",
     "output_type": "stream",
     "text": [
      "\u001b[32m\u001b[1m Resolving\u001b[22m\u001b[39m package versions...\n",
      "\u001b[32m\u001b[1m  Updating\u001b[22m\u001b[39m `~/.julia/Project.toml`\n",
      "\u001b[90m [no changes]\u001b[39m\n",
      "\u001b[32m\u001b[1m  Updating\u001b[22m\u001b[39m `~/.julia/Manifest.toml`\n",
      "\u001b[90m [no changes]\u001b[39m\n"
     ]
    },
    {
     "data": {
      "text/plain": [
       "f6 (generic function with 1 method)"
      ]
     },
     "execution_count": 2,
     "metadata": {},
     "output_type": "execute_result"
    }
   ],
   "source": [
    "f1(x) = 2*x - exp(-x)\n",
    "f2(x) = x^3 - 2*x - 5 #wallis function\n",
    "f3(x) = (x-1)*(x-1)*(x-1)*(x-1)*(x-1)*(x-1)*(x-1)\n",
    "f4(x) = sin(x) - x/2\n",
    "f5(x) = cos(x) - x\n",
    "import Pkg\n",
    "Pkg.add(\"SpecialFunctions\")\n",
    "import SpecialFunctions: erf\n",
    "f6(x) = cos(100*x)-4*erf(30*x-10)"
   ]
  },
  {
   "cell_type": "code",
   "execution_count": 1,
   "metadata": {},
   "outputs": [
    {
     "ename": "UndefVarError",
     "evalue": "UndefVarError: f1 not defined",
     "output_type": "error",
     "traceback": [
      "UndefVarError: f1 not defined",
      "",
      "Stacktrace:",
      " [1] top-level scope at In[1]:2"
     ]
    }
   ],
   "source": [
    "using Plots\n",
    "plot(f1)"
   ]
  },
  {
   "cell_type": "code",
   "execution_count": 4,
   "metadata": {},
   "outputs": [
    {
     "data": {
      "image/svg+xml": [
       "<?xml version=\"1.0\" encoding=\"utf-8\"?>\n",
       "<svg xmlns=\"http://www.w3.org/2000/svg\" xmlns:xlink=\"http://www.w3.org/1999/xlink\" width=\"600\" height=\"400\" viewBox=\"0 0 2400 1600\">\n",
       "<defs>\n",
       "  <clipPath id=\"clip4300\">\n",
       "    <rect x=\"0\" y=\"0\" width=\"2000\" height=\"2000\"/>\n",
       "  </clipPath>\n",
       "</defs>\n",
       "<defs>\n",
       "  <clipPath id=\"clip4301\">\n",
       "    <rect x=\"0\" y=\"0\" width=\"2400\" height=\"1600\"/>\n",
       "  </clipPath>\n",
       "</defs>\n",
       "<polygon clip-path=\"url(#clip4301)\" points=\"\n",
       "0,1600 2400,1600 2400,0 0,0 \n",
       "  \" fill=\"#ffffff\" fill-rule=\"evenodd\" fill-opacity=\"1\"/>\n",
       "<defs>\n",
       "  <clipPath id=\"clip4302\">\n",
       "    <rect x=\"480\" y=\"0\" width=\"1681\" height=\"1600\"/>\n",
       "  </clipPath>\n",
       "</defs>\n",
       "<polygon clip-path=\"url(#clip4301)\" points=\"\n",
       "202.885,1503.47 2321.26,1503.47 2321.26,47.2441 202.885,47.2441 \n",
       "  \" fill=\"#ffffff\" fill-rule=\"evenodd\" fill-opacity=\"1\"/>\n",
       "<defs>\n",
       "  <clipPath id=\"clip4303\">\n",
       "    <rect x=\"202\" y=\"47\" width=\"2119\" height=\"1457\"/>\n",
       "  </clipPath>\n",
       "</defs>\n",
       "<polyline clip-path=\"url(#clip4303)\" style=\"stroke:#000000; stroke-width:2; stroke-opacity:0.1; fill:none\" points=\"\n",
       "  458.908,1503.47 458.908,47.2441 \n",
       "  \"/>\n",
       "<polyline clip-path=\"url(#clip4303)\" style=\"stroke:#000000; stroke-width:2; stroke-opacity:0.1; fill:none\" points=\"\n",
       "  860.86,1503.47 860.86,47.2441 \n",
       "  \"/>\n",
       "<polyline clip-path=\"url(#clip4303)\" style=\"stroke:#000000; stroke-width:2; stroke-opacity:0.1; fill:none\" points=\"\n",
       "  1262.81,1503.47 1262.81,47.2441 \n",
       "  \"/>\n",
       "<polyline clip-path=\"url(#clip4303)\" style=\"stroke:#000000; stroke-width:2; stroke-opacity:0.1; fill:none\" points=\"\n",
       "  1664.76,1503.47 1664.76,47.2441 \n",
       "  \"/>\n",
       "<polyline clip-path=\"url(#clip4303)\" style=\"stroke:#000000; stroke-width:2; stroke-opacity:0.1; fill:none\" points=\"\n",
       "  2066.72,1503.47 2066.72,47.2441 \n",
       "  \"/>\n",
       "<polyline clip-path=\"url(#clip4303)\" style=\"stroke:#000000; stroke-width:2; stroke-opacity:0.1; fill:none\" points=\"\n",
       "  202.885,1351.43 2321.26,1351.43 \n",
       "  \"/>\n",
       "<polyline clip-path=\"url(#clip4303)\" style=\"stroke:#000000; stroke-width:2; stroke-opacity:0.1; fill:none\" points=\"\n",
       "  202.885,1047.38 2321.26,1047.38 \n",
       "  \"/>\n",
       "<polyline clip-path=\"url(#clip4303)\" style=\"stroke:#000000; stroke-width:2; stroke-opacity:0.1; fill:none\" points=\"\n",
       "  202.885,743.341 2321.26,743.341 \n",
       "  \"/>\n",
       "<polyline clip-path=\"url(#clip4303)\" style=\"stroke:#000000; stroke-width:2; stroke-opacity:0.1; fill:none\" points=\"\n",
       "  202.885,439.298 2321.26,439.298 \n",
       "  \"/>\n",
       "<polyline clip-path=\"url(#clip4303)\" style=\"stroke:#000000; stroke-width:2; stroke-opacity:0.1; fill:none\" points=\"\n",
       "  202.885,135.255 2321.26,135.255 \n",
       "  \"/>\n",
       "<polyline clip-path=\"url(#clip4301)\" style=\"stroke:#000000; stroke-width:4; stroke-opacity:1; fill:none\" points=\"\n",
       "  202.885,1503.47 2321.26,1503.47 \n",
       "  \"/>\n",
       "<polyline clip-path=\"url(#clip4301)\" style=\"stroke:#000000; stroke-width:4; stroke-opacity:1; fill:none\" points=\"\n",
       "  202.885,1503.47 202.885,47.2441 \n",
       "  \"/>\n",
       "<polyline clip-path=\"url(#clip4301)\" style=\"stroke:#000000; stroke-width:4; stroke-opacity:1; fill:none\" points=\"\n",
       "  458.908,1503.47 458.908,1481.63 \n",
       "  \"/>\n",
       "<polyline clip-path=\"url(#clip4301)\" style=\"stroke:#000000; stroke-width:4; stroke-opacity:1; fill:none\" points=\"\n",
       "  860.86,1503.47 860.86,1481.63 \n",
       "  \"/>\n",
       "<polyline clip-path=\"url(#clip4301)\" style=\"stroke:#000000; stroke-width:4; stroke-opacity:1; fill:none\" points=\"\n",
       "  1262.81,1503.47 1262.81,1481.63 \n",
       "  \"/>\n",
       "<polyline clip-path=\"url(#clip4301)\" style=\"stroke:#000000; stroke-width:4; stroke-opacity:1; fill:none\" points=\"\n",
       "  1664.76,1503.47 1664.76,1481.63 \n",
       "  \"/>\n",
       "<polyline clip-path=\"url(#clip4301)\" style=\"stroke:#000000; stroke-width:4; stroke-opacity:1; fill:none\" points=\"\n",
       "  2066.72,1503.47 2066.72,1481.63 \n",
       "  \"/>\n",
       "<polyline clip-path=\"url(#clip4301)\" style=\"stroke:#000000; stroke-width:4; stroke-opacity:1; fill:none\" points=\"\n",
       "  202.885,1351.43 234.661,1351.43 \n",
       "  \"/>\n",
       "<polyline clip-path=\"url(#clip4301)\" style=\"stroke:#000000; stroke-width:4; stroke-opacity:1; fill:none\" points=\"\n",
       "  202.885,1047.38 234.661,1047.38 \n",
       "  \"/>\n",
       "<polyline clip-path=\"url(#clip4301)\" style=\"stroke:#000000; stroke-width:4; stroke-opacity:1; fill:none\" points=\"\n",
       "  202.885,743.341 234.661,743.341 \n",
       "  \"/>\n",
       "<polyline clip-path=\"url(#clip4301)\" style=\"stroke:#000000; stroke-width:4; stroke-opacity:1; fill:none\" points=\"\n",
       "  202.885,439.298 234.661,439.298 \n",
       "  \"/>\n",
       "<polyline clip-path=\"url(#clip4301)\" style=\"stroke:#000000; stroke-width:4; stroke-opacity:1; fill:none\" points=\"\n",
       "  202.885,135.255 234.661,135.255 \n",
       "  \"/>\n",
       "<g clip-path=\"url(#clip4301)\">\n",
       "<text style=\"fill:#000000; fill-opacity:1; font-family:Arial,Helvetica Neue,Helvetica,sans-serif; font-size:48px; text-anchor:middle;\" transform=\"rotate(0, 458.908, 1557.47)\" x=\"458.908\" y=\"1557.47\">-4</text>\n",
       "</g>\n",
       "<g clip-path=\"url(#clip4301)\">\n",
       "<text style=\"fill:#000000; fill-opacity:1; font-family:Arial,Helvetica Neue,Helvetica,sans-serif; font-size:48px; text-anchor:middle;\" transform=\"rotate(0, 860.86, 1557.47)\" x=\"860.86\" y=\"1557.47\">-2</text>\n",
       "</g>\n",
       "<g clip-path=\"url(#clip4301)\">\n",
       "<text style=\"fill:#000000; fill-opacity:1; font-family:Arial,Helvetica Neue,Helvetica,sans-serif; font-size:48px; text-anchor:middle;\" transform=\"rotate(0, 1262.81, 1557.47)\" x=\"1262.81\" y=\"1557.47\">0</text>\n",
       "</g>\n",
       "<g clip-path=\"url(#clip4301)\">\n",
       "<text style=\"fill:#000000; fill-opacity:1; font-family:Arial,Helvetica Neue,Helvetica,sans-serif; font-size:48px; text-anchor:middle;\" transform=\"rotate(0, 1664.76, 1557.47)\" x=\"1664.76\" y=\"1557.47\">2</text>\n",
       "</g>\n",
       "<g clip-path=\"url(#clip4301)\">\n",
       "<text style=\"fill:#000000; fill-opacity:1; font-family:Arial,Helvetica Neue,Helvetica,sans-serif; font-size:48px; text-anchor:middle;\" transform=\"rotate(0, 2066.72, 1557.47)\" x=\"2066.72\" y=\"1557.47\">4</text>\n",
       "</g>\n",
       "<g clip-path=\"url(#clip4301)\">\n",
       "<text style=\"fill:#000000; fill-opacity:1; font-family:Arial,Helvetica Neue,Helvetica,sans-serif; font-size:48px; text-anchor:end;\" transform=\"rotate(0, 178.885, 1368.93)\" x=\"178.885\" y=\"1368.93\">-100</text>\n",
       "</g>\n",
       "<g clip-path=\"url(#clip4301)\">\n",
       "<text style=\"fill:#000000; fill-opacity:1; font-family:Arial,Helvetica Neue,Helvetica,sans-serif; font-size:48px; text-anchor:end;\" transform=\"rotate(0, 178.885, 1064.88)\" x=\"178.885\" y=\"1064.88\">-50</text>\n",
       "</g>\n",
       "<g clip-path=\"url(#clip4301)\">\n",
       "<text style=\"fill:#000000; fill-opacity:1; font-family:Arial,Helvetica Neue,Helvetica,sans-serif; font-size:48px; text-anchor:end;\" transform=\"rotate(0, 178.885, 760.841)\" x=\"178.885\" y=\"760.841\">0</text>\n",
       "</g>\n",
       "<g clip-path=\"url(#clip4301)\">\n",
       "<text style=\"fill:#000000; fill-opacity:1; font-family:Arial,Helvetica Neue,Helvetica,sans-serif; font-size:48px; text-anchor:end;\" transform=\"rotate(0, 178.885, 456.798)\" x=\"178.885\" y=\"456.798\">50</text>\n",
       "</g>\n",
       "<g clip-path=\"url(#clip4301)\">\n",
       "<text style=\"fill:#000000; fill-opacity:1; font-family:Arial,Helvetica Neue,Helvetica,sans-serif; font-size:48px; text-anchor:end;\" transform=\"rotate(0, 178.885, 152.755)\" x=\"178.885\" y=\"152.755\">100</text>\n",
       "</g>\n",
       "<polyline clip-path=\"url(#clip4303)\" style=\"stroke:#009af9; stroke-width:4; stroke-opacity:1; fill:none\" points=\"\n",
       "  262.839,1462.26 267.746,1451.59 272.653,1441.02 277.559,1430.56 322.929,1338.82 368.299,1255.77 413.669,1181 459.039,1114.09 486.304,1077.48 513.57,1043.47 \n",
       "  540.835,1011.96 568.1,982.864 614.206,938.894 660.311,901.121 710.394,866.597 760.477,838.301 806.649,817.245 852.821,800.56 902.322,787.023 951.824,777.456 \n",
       "  1009.18,770.619 1066.53,767.532 1168.46,768.665 1257.85,773.445 1355.31,778.75 1453.35,780.093 1507.54,777.575 1561.74,771.825 1613.3,762.701 1664.87,749.389 \n",
       "  1718.49,730.443 1772.1,705.609 1817.24,679.632 1862.37,648.578 1917.48,603.182 1972.58,548.851 2024.38,488.96 2076.18,419.885 2117.67,357.508 2159.16,288.515 \n",
       "  2200.66,212.587 2242.15,129.401 2248.53,115.935 2254.92,102.287 2261.31,88.4582 \n",
       "  \"/>\n",
       "<polygon clip-path=\"url(#clip4301)\" points=\"\n",
       "1958.43,251.724 2249.26,251.724 2249.26,130.764 1958.43,130.764 \n",
       "  \" fill=\"#ffffff\" fill-rule=\"evenodd\" fill-opacity=\"1\"/>\n",
       "<polyline clip-path=\"url(#clip4301)\" style=\"stroke:#000000; stroke-width:4; stroke-opacity:1; fill:none\" points=\"\n",
       "  1958.43,251.724 2249.26,251.724 2249.26,130.764 1958.43,130.764 1958.43,251.724 \n",
       "  \"/>\n",
       "<polyline clip-path=\"url(#clip4301)\" style=\"stroke:#009af9; stroke-width:4; stroke-opacity:1; fill:none\" points=\"\n",
       "  1982.43,191.244 2126.43,191.244 \n",
       "  \"/>\n",
       "<g clip-path=\"url(#clip4301)\">\n",
       "<text style=\"fill:#000000; fill-opacity:1; font-family:Arial,Helvetica Neue,Helvetica,sans-serif; font-size:48px; text-anchor:start;\" transform=\"rotate(0, 2150.43, 208.744)\" x=\"2150.43\" y=\"208.744\">y1</text>\n",
       "</g>\n",
       "</svg>\n"
      ]
     },
     "execution_count": 4,
     "metadata": {},
     "output_type": "execute_result"
    }
   ],
   "source": [
    "plot(f2)"
   ]
  },
  {
   "cell_type": "code",
   "execution_count": 5,
   "metadata": {},
   "outputs": [
    {
     "data": {
      "image/svg+xml": [
       "<?xml version=\"1.0\" encoding=\"utf-8\"?>\n",
       "<svg xmlns=\"http://www.w3.org/2000/svg\" xmlns:xlink=\"http://www.w3.org/1999/xlink\" width=\"600\" height=\"400\" viewBox=\"0 0 2400 1600\">\n",
       "<defs>\n",
       "  <clipPath id=\"clip4500\">\n",
       "    <rect x=\"0\" y=\"0\" width=\"2000\" height=\"2000\"/>\n",
       "  </clipPath>\n",
       "</defs>\n",
       "<defs>\n",
       "  <clipPath id=\"clip4501\">\n",
       "    <rect x=\"0\" y=\"0\" width=\"2400\" height=\"1600\"/>\n",
       "  </clipPath>\n",
       "</defs>\n",
       "<polygon clip-path=\"url(#clip4501)\" points=\"\n",
       "0,1600 2400,1600 2400,0 0,0 \n",
       "  \" fill=\"#ffffff\" fill-rule=\"evenodd\" fill-opacity=\"1\"/>\n",
       "<defs>\n",
       "  <clipPath id=\"clip4502\">\n",
       "    <rect x=\"480\" y=\"0\" width=\"1681\" height=\"1600\"/>\n",
       "  </clipPath>\n",
       "</defs>\n",
       "<polygon clip-path=\"url(#clip4501)\" points=\"\n",
       "336.938,1503.47 2321.26,1503.47 2321.26,47.2441 336.938,47.2441 \n",
       "  \" fill=\"#ffffff\" fill-rule=\"evenodd\" fill-opacity=\"1\"/>\n",
       "<defs>\n",
       "  <clipPath id=\"clip4503\">\n",
       "    <rect x=\"336\" y=\"47\" width=\"1985\" height=\"1457\"/>\n",
       "  </clipPath>\n",
       "</defs>\n",
       "<polyline clip-path=\"url(#clip4503)\" style=\"stroke:#000000; stroke-width:2; stroke-opacity:0.1; fill:none\" points=\"\n",
       "  578.537,1503.47 578.537,47.2441 \n",
       "  \"/>\n",
       "<polyline clip-path=\"url(#clip4503)\" style=\"stroke:#000000; stroke-width:2; stroke-opacity:0.1; fill:none\" points=\"\n",
       "  958.697,1503.47 958.697,47.2441 \n",
       "  \"/>\n",
       "<polyline clip-path=\"url(#clip4503)\" style=\"stroke:#000000; stroke-width:2; stroke-opacity:0.1; fill:none\" points=\"\n",
       "  1338.86,1503.47 1338.86,47.2441 \n",
       "  \"/>\n",
       "<polyline clip-path=\"url(#clip4503)\" style=\"stroke:#000000; stroke-width:2; stroke-opacity:0.1; fill:none\" points=\"\n",
       "  1719.02,1503.47 1719.02,47.2441 \n",
       "  \"/>\n",
       "<polyline clip-path=\"url(#clip4503)\" style=\"stroke:#000000; stroke-width:2; stroke-opacity:0.1; fill:none\" points=\"\n",
       "  2099.18,1503.47 2099.18,47.2441 \n",
       "  \"/>\n",
       "<polyline clip-path=\"url(#clip4503)\" style=\"stroke:#000000; stroke-width:2; stroke-opacity:0.1; fill:none\" points=\"\n",
       "  336.938,1355.98 2321.26,1355.98 \n",
       "  \"/>\n",
       "<polyline clip-path=\"url(#clip4503)\" style=\"stroke:#000000; stroke-width:2; stroke-opacity:0.1; fill:none\" points=\"\n",
       "  336.938,1115.07 2321.26,1115.07 \n",
       "  \"/>\n",
       "<polyline clip-path=\"url(#clip4503)\" style=\"stroke:#000000; stroke-width:2; stroke-opacity:0.1; fill:none\" points=\"\n",
       "  336.938,874.157 2321.26,874.157 \n",
       "  \"/>\n",
       "<polyline clip-path=\"url(#clip4503)\" style=\"stroke:#000000; stroke-width:2; stroke-opacity:0.1; fill:none\" points=\"\n",
       "  336.938,633.248 2321.26,633.248 \n",
       "  \"/>\n",
       "<polyline clip-path=\"url(#clip4503)\" style=\"stroke:#000000; stroke-width:2; stroke-opacity:0.1; fill:none\" points=\"\n",
       "  336.938,392.339 2321.26,392.339 \n",
       "  \"/>\n",
       "<polyline clip-path=\"url(#clip4503)\" style=\"stroke:#000000; stroke-width:2; stroke-opacity:0.1; fill:none\" points=\"\n",
       "  336.938,151.43 2321.26,151.43 \n",
       "  \"/>\n",
       "<polyline clip-path=\"url(#clip4501)\" style=\"stroke:#000000; stroke-width:4; stroke-opacity:1; fill:none\" points=\"\n",
       "  336.938,1503.47 2321.26,1503.47 \n",
       "  \"/>\n",
       "<polyline clip-path=\"url(#clip4501)\" style=\"stroke:#000000; stroke-width:4; stroke-opacity:1; fill:none\" points=\"\n",
       "  336.938,1503.47 336.938,47.2441 \n",
       "  \"/>\n",
       "<polyline clip-path=\"url(#clip4501)\" style=\"stroke:#000000; stroke-width:4; stroke-opacity:1; fill:none\" points=\"\n",
       "  578.537,1503.47 578.537,1481.63 \n",
       "  \"/>\n",
       "<polyline clip-path=\"url(#clip4501)\" style=\"stroke:#000000; stroke-width:4; stroke-opacity:1; fill:none\" points=\"\n",
       "  958.697,1503.47 958.697,1481.63 \n",
       "  \"/>\n",
       "<polyline clip-path=\"url(#clip4501)\" style=\"stroke:#000000; stroke-width:4; stroke-opacity:1; fill:none\" points=\"\n",
       "  1338.86,1503.47 1338.86,1481.63 \n",
       "  \"/>\n",
       "<polyline clip-path=\"url(#clip4501)\" style=\"stroke:#000000; stroke-width:4; stroke-opacity:1; fill:none\" points=\"\n",
       "  1719.02,1503.47 1719.02,1481.63 \n",
       "  \"/>\n",
       "<polyline clip-path=\"url(#clip4501)\" style=\"stroke:#000000; stroke-width:4; stroke-opacity:1; fill:none\" points=\"\n",
       "  2099.18,1503.47 2099.18,1481.63 \n",
       "  \"/>\n",
       "<polyline clip-path=\"url(#clip4501)\" style=\"stroke:#000000; stroke-width:4; stroke-opacity:1; fill:none\" points=\"\n",
       "  336.938,1355.98 366.702,1355.98 \n",
       "  \"/>\n",
       "<polyline clip-path=\"url(#clip4501)\" style=\"stroke:#000000; stroke-width:4; stroke-opacity:1; fill:none\" points=\"\n",
       "  336.938,1115.07 366.702,1115.07 \n",
       "  \"/>\n",
       "<polyline clip-path=\"url(#clip4501)\" style=\"stroke:#000000; stroke-width:4; stroke-opacity:1; fill:none\" points=\"\n",
       "  336.938,874.157 366.702,874.157 \n",
       "  \"/>\n",
       "<polyline clip-path=\"url(#clip4501)\" style=\"stroke:#000000; stroke-width:4; stroke-opacity:1; fill:none\" points=\"\n",
       "  336.938,633.248 366.702,633.248 \n",
       "  \"/>\n",
       "<polyline clip-path=\"url(#clip4501)\" style=\"stroke:#000000; stroke-width:4; stroke-opacity:1; fill:none\" points=\"\n",
       "  336.938,392.339 366.702,392.339 \n",
       "  \"/>\n",
       "<polyline clip-path=\"url(#clip4501)\" style=\"stroke:#000000; stroke-width:4; stroke-opacity:1; fill:none\" points=\"\n",
       "  336.938,151.43 366.702,151.43 \n",
       "  \"/>\n",
       "<g clip-path=\"url(#clip4501)\">\n",
       "<text style=\"fill:#000000; fill-opacity:1; font-family:Arial,Helvetica Neue,Helvetica,sans-serif; font-size:48px; text-anchor:middle;\" transform=\"rotate(0, 578.537, 1557.47)\" x=\"578.537\" y=\"1557.47\">-4</text>\n",
       "</g>\n",
       "<g clip-path=\"url(#clip4501)\">\n",
       "<text style=\"fill:#000000; fill-opacity:1; font-family:Arial,Helvetica Neue,Helvetica,sans-serif; font-size:48px; text-anchor:middle;\" transform=\"rotate(0, 958.697, 1557.47)\" x=\"958.697\" y=\"1557.47\">-2</text>\n",
       "</g>\n",
       "<g clip-path=\"url(#clip4501)\">\n",
       "<text style=\"fill:#000000; fill-opacity:1; font-family:Arial,Helvetica Neue,Helvetica,sans-serif; font-size:48px; text-anchor:middle;\" transform=\"rotate(0, 1338.86, 1557.47)\" x=\"1338.86\" y=\"1557.47\">0</text>\n",
       "</g>\n",
       "<g clip-path=\"url(#clip4501)\">\n",
       "<text style=\"fill:#000000; fill-opacity:1; font-family:Arial,Helvetica Neue,Helvetica,sans-serif; font-size:48px; text-anchor:middle;\" transform=\"rotate(0, 1719.02, 1557.47)\" x=\"1719.02\" y=\"1557.47\">2</text>\n",
       "</g>\n",
       "<g clip-path=\"url(#clip4501)\">\n",
       "<text style=\"fill:#000000; fill-opacity:1; font-family:Arial,Helvetica Neue,Helvetica,sans-serif; font-size:48px; text-anchor:middle;\" transform=\"rotate(0, 2099.18, 1557.47)\" x=\"2099.18\" y=\"1557.47\">4</text>\n",
       "</g>\n",
       "<g clip-path=\"url(#clip4501)\">\n",
       "<text style=\"fill:#000000; fill-opacity:1; font-family:Arial,Helvetica Neue,Helvetica,sans-serif; font-size:48px; text-anchor:start;\" transform=\"rotate(0, 114.543, 1379.7)\" x=\"114.543\" y=\"1379.7\">-</text>\n",
       "</g>\n",
       "<g clip-path=\"url(#clip4501)\">\n",
       "<text style=\"fill:#000000; fill-opacity:1; font-family:Arial,Helvetica Neue,Helvetica,sans-serif; font-size:48px; text-anchor:start;\" transform=\"rotate(0, 142.653, 1379.7)\" x=\"142.653\" y=\"1379.7\">2.5×10</text>\n",
       "</g>\n",
       "<g clip-path=\"url(#clip4501)\">\n",
       "<text style=\"fill:#000000; fill-opacity:1; font-family:Arial,Helvetica Neue,Helvetica,sans-serif; font-size:38px; text-anchor:start;\" transform=\"rotate(0, 291.193, 1352.29)\" x=\"291.193\" y=\"1352.29\">5</text>\n",
       "</g>\n",
       "<g clip-path=\"url(#clip4501)\">\n",
       "<text style=\"fill:#000000; fill-opacity:1; font-family:Arial,Helvetica Neue,Helvetica,sans-serif; font-size:48px; text-anchor:start;\" transform=\"rotate(0, 114.543, 1138.79)\" x=\"114.543\" y=\"1138.79\">-</text>\n",
       "</g>\n",
       "<g clip-path=\"url(#clip4501)\">\n",
       "<text style=\"fill:#000000; fill-opacity:1; font-family:Arial,Helvetica Neue,Helvetica,sans-serif; font-size:48px; text-anchor:start;\" transform=\"rotate(0, 142.653, 1138.79)\" x=\"142.653\" y=\"1138.79\">2.0×10</text>\n",
       "</g>\n",
       "<g clip-path=\"url(#clip4501)\">\n",
       "<text style=\"fill:#000000; fill-opacity:1; font-family:Arial,Helvetica Neue,Helvetica,sans-serif; font-size:38px; text-anchor:start;\" transform=\"rotate(0, 291.193, 1111.38)\" x=\"291.193\" y=\"1111.38\">5</text>\n",
       "</g>\n",
       "<g clip-path=\"url(#clip4501)\">\n",
       "<text style=\"fill:#000000; fill-opacity:1; font-family:Arial,Helvetica Neue,Helvetica,sans-serif; font-size:48px; text-anchor:start;\" transform=\"rotate(0, 114.543, 897.885)\" x=\"114.543\" y=\"897.885\">-</text>\n",
       "</g>\n",
       "<g clip-path=\"url(#clip4501)\">\n",
       "<text style=\"fill:#000000; fill-opacity:1; font-family:Arial,Helvetica Neue,Helvetica,sans-serif; font-size:48px; text-anchor:start;\" transform=\"rotate(0, 142.653, 897.885)\" x=\"142.653\" y=\"897.885\">1.5×10</text>\n",
       "</g>\n",
       "<g clip-path=\"url(#clip4501)\">\n",
       "<text style=\"fill:#000000; fill-opacity:1; font-family:Arial,Helvetica Neue,Helvetica,sans-serif; font-size:38px; text-anchor:start;\" transform=\"rotate(0, 291.193, 870.475)\" x=\"291.193\" y=\"870.475\">5</text>\n",
       "</g>\n",
       "<g clip-path=\"url(#clip4501)\">\n",
       "<text style=\"fill:#000000; fill-opacity:1; font-family:Arial,Helvetica Neue,Helvetica,sans-serif; font-size:48px; text-anchor:start;\" transform=\"rotate(0, 114.543, 656.976)\" x=\"114.543\" y=\"656.976\">-</text>\n",
       "</g>\n",
       "<g clip-path=\"url(#clip4501)\">\n",
       "<text style=\"fill:#000000; fill-opacity:1; font-family:Arial,Helvetica Neue,Helvetica,sans-serif; font-size:48px; text-anchor:start;\" transform=\"rotate(0, 142.653, 656.976)\" x=\"142.653\" y=\"656.976\">1.0×10</text>\n",
       "</g>\n",
       "<g clip-path=\"url(#clip4501)\">\n",
       "<text style=\"fill:#000000; fill-opacity:1; font-family:Arial,Helvetica Neue,Helvetica,sans-serif; font-size:38px; text-anchor:start;\" transform=\"rotate(0, 291.193, 629.565)\" x=\"291.193\" y=\"629.565\">5</text>\n",
       "</g>\n",
       "<g clip-path=\"url(#clip4501)\">\n",
       "<text style=\"fill:#000000; fill-opacity:1; font-family:Arial,Helvetica Neue,Helvetica,sans-serif; font-size:48px; text-anchor:start;\" transform=\"rotate(0, 114.543, 416.067)\" x=\"114.543\" y=\"416.067\">-</text>\n",
       "</g>\n",
       "<g clip-path=\"url(#clip4501)\">\n",
       "<text style=\"fill:#000000; fill-opacity:1; font-family:Arial,Helvetica Neue,Helvetica,sans-serif; font-size:48px; text-anchor:start;\" transform=\"rotate(0, 142.653, 416.067)\" x=\"142.653\" y=\"416.067\">5.0×10</text>\n",
       "</g>\n",
       "<g clip-path=\"url(#clip4501)\">\n",
       "<text style=\"fill:#000000; fill-opacity:1; font-family:Arial,Helvetica Neue,Helvetica,sans-serif; font-size:38px; text-anchor:start;\" transform=\"rotate(0, 291.193, 388.656)\" x=\"291.193\" y=\"388.656\">4</text>\n",
       "</g>\n",
       "<g clip-path=\"url(#clip4501)\">\n",
       "<text style=\"fill:#000000; fill-opacity:1; font-family:Arial,Helvetica Neue,Helvetica,sans-serif; font-size:48px; text-anchor:end;\" transform=\"rotate(0, 312.938, 168.93)\" x=\"312.938\" y=\"168.93\">0</text>\n",
       "</g>\n",
       "<polyline clip-path=\"url(#clip4503)\" style=\"stroke:#009af9; stroke-width:4; stroke-opacity:1; fill:none\" points=\"\n",
       "  393.098,1462.26 397.738,1425.23 402.379,1389.09 407.02,1353.84 428.475,1201.83 449.93,1066.59 471.385,946.564 492.84,840.29 514.295,746.431 535.75,663.754 \n",
       "  557.205,591.126 578.66,527.508 604.448,461.63 630.235,405.901 656.022,358.984 681.809,319.686 725.415,267.659 769.02,230.078 816.388,201.552 863.756,182.397 \n",
       "  907.425,170.682 951.094,162.991 1044.73,154.784 1153.21,151.998 1249.62,151.501 1334.17,151.435 1426.34,151.43 1519.06,151.43 1621.58,151.43 1719.12,151.425 \n",
       "  1820.54,151.333 1905.91,150.848 2010.15,148.219 2108.13,139.679 2265.1,88.4582 \n",
       "  \"/>\n",
       "<polygon clip-path=\"url(#clip4501)\" points=\"\n",
       "1958.43,251.724 2249.26,251.724 2249.26,130.764 1958.43,130.764 \n",
       "  \" fill=\"#ffffff\" fill-rule=\"evenodd\" fill-opacity=\"1\"/>\n",
       "<polyline clip-path=\"url(#clip4501)\" style=\"stroke:#000000; stroke-width:4; stroke-opacity:1; fill:none\" points=\"\n",
       "  1958.43,251.724 2249.26,251.724 2249.26,130.764 1958.43,130.764 1958.43,251.724 \n",
       "  \"/>\n",
       "<polyline clip-path=\"url(#clip4501)\" style=\"stroke:#009af9; stroke-width:4; stroke-opacity:1; fill:none\" points=\"\n",
       "  1982.43,191.244 2126.43,191.244 \n",
       "  \"/>\n",
       "<g clip-path=\"url(#clip4501)\">\n",
       "<text style=\"fill:#000000; fill-opacity:1; font-family:Arial,Helvetica Neue,Helvetica,sans-serif; font-size:48px; text-anchor:start;\" transform=\"rotate(0, 2150.43, 208.744)\" x=\"2150.43\" y=\"208.744\">y1</text>\n",
       "</g>\n",
       "</svg>\n"
      ]
     },
     "execution_count": 5,
     "metadata": {},
     "output_type": "execute_result"
    }
   ],
   "source": [
    "plot(f3)"
   ]
  },
  {
   "cell_type": "code",
   "execution_count": 6,
   "metadata": {},
   "outputs": [
    {
     "data": {
      "image/svg+xml": [
       "<?xml version=\"1.0\" encoding=\"utf-8\"?>\n",
       "<svg xmlns=\"http://www.w3.org/2000/svg\" xmlns:xlink=\"http://www.w3.org/1999/xlink\" width=\"600\" height=\"400\" viewBox=\"0 0 2400 1600\">\n",
       "<defs>\n",
       "  <clipPath id=\"clip4700\">\n",
       "    <rect x=\"0\" y=\"0\" width=\"2000\" height=\"2000\"/>\n",
       "  </clipPath>\n",
       "</defs>\n",
       "<defs>\n",
       "  <clipPath id=\"clip4701\">\n",
       "    <rect x=\"0\" y=\"0\" width=\"2400\" height=\"1600\"/>\n",
       "  </clipPath>\n",
       "</defs>\n",
       "<polygon clip-path=\"url(#clip4701)\" points=\"\n",
       "0,1600 2400,1600 2400,0 0,0 \n",
       "  \" fill=\"#ffffff\" fill-rule=\"evenodd\" fill-opacity=\"1\"/>\n",
       "<defs>\n",
       "  <clipPath id=\"clip4702\">\n",
       "    <rect x=\"480\" y=\"0\" width=\"1681\" height=\"1600\"/>\n",
       "  </clipPath>\n",
       "</defs>\n",
       "<polygon clip-path=\"url(#clip4701)\" points=\"\n",
       "149.361,1503.47 2321.26,1503.47 2321.26,47.2441 149.361,47.2441 \n",
       "  \" fill=\"#ffffff\" fill-rule=\"evenodd\" fill-opacity=\"1\"/>\n",
       "<defs>\n",
       "  <clipPath id=\"clip4703\">\n",
       "    <rect x=\"149\" y=\"47\" width=\"2173\" height=\"1457\"/>\n",
       "  </clipPath>\n",
       "</defs>\n",
       "<polyline clip-path=\"url(#clip4703)\" style=\"stroke:#000000; stroke-width:2; stroke-opacity:0.1; fill:none\" points=\"\n",
       "  411.853,1503.47 411.853,47.2441 \n",
       "  \"/>\n",
       "<polyline clip-path=\"url(#clip4703)\" style=\"stroke:#000000; stroke-width:2; stroke-opacity:0.1; fill:none\" points=\"\n",
       "  823.96,1503.47 823.96,47.2441 \n",
       "  \"/>\n",
       "<polyline clip-path=\"url(#clip4703)\" style=\"stroke:#000000; stroke-width:2; stroke-opacity:0.1; fill:none\" points=\"\n",
       "  1236.07,1503.47 1236.07,47.2441 \n",
       "  \"/>\n",
       "<polyline clip-path=\"url(#clip4703)\" style=\"stroke:#000000; stroke-width:2; stroke-opacity:0.1; fill:none\" points=\"\n",
       "  1648.18,1503.47 1648.18,47.2441 \n",
       "  \"/>\n",
       "<polyline clip-path=\"url(#clip4703)\" style=\"stroke:#000000; stroke-width:2; stroke-opacity:0.1; fill:none\" points=\"\n",
       "  2060.28,1503.47 2060.28,47.2441 \n",
       "  \"/>\n",
       "<polyline clip-path=\"url(#clip4703)\" style=\"stroke:#000000; stroke-width:2; stroke-opacity:0.1; fill:none\" points=\"\n",
       "  149.361,1372.42 2321.26,1372.42 \n",
       "  \"/>\n",
       "<polyline clip-path=\"url(#clip4703)\" style=\"stroke:#000000; stroke-width:2; stroke-opacity:0.1; fill:none\" points=\"\n",
       "  149.361,1173.46 2321.26,1173.46 \n",
       "  \"/>\n",
       "<polyline clip-path=\"url(#clip4703)\" style=\"stroke:#000000; stroke-width:2; stroke-opacity:0.1; fill:none\" points=\"\n",
       "  149.361,974.497 2321.26,974.497 \n",
       "  \"/>\n",
       "<polyline clip-path=\"url(#clip4703)\" style=\"stroke:#000000; stroke-width:2; stroke-opacity:0.1; fill:none\" points=\"\n",
       "  149.361,775.538 2321.26,775.538 \n",
       "  \"/>\n",
       "<polyline clip-path=\"url(#clip4703)\" style=\"stroke:#000000; stroke-width:2; stroke-opacity:0.1; fill:none\" points=\"\n",
       "  149.361,576.578 2321.26,576.578 \n",
       "  \"/>\n",
       "<polyline clip-path=\"url(#clip4703)\" style=\"stroke:#000000; stroke-width:2; stroke-opacity:0.1; fill:none\" points=\"\n",
       "  149.361,377.618 2321.26,377.618 \n",
       "  \"/>\n",
       "<polyline clip-path=\"url(#clip4703)\" style=\"stroke:#000000; stroke-width:2; stroke-opacity:0.1; fill:none\" points=\"\n",
       "  149.361,178.658 2321.26,178.658 \n",
       "  \"/>\n",
       "<polyline clip-path=\"url(#clip4701)\" style=\"stroke:#000000; stroke-width:4; stroke-opacity:1; fill:none\" points=\"\n",
       "  149.361,1503.47 2321.26,1503.47 \n",
       "  \"/>\n",
       "<polyline clip-path=\"url(#clip4701)\" style=\"stroke:#000000; stroke-width:4; stroke-opacity:1; fill:none\" points=\"\n",
       "  149.361,1503.47 149.361,47.2441 \n",
       "  \"/>\n",
       "<polyline clip-path=\"url(#clip4701)\" style=\"stroke:#000000; stroke-width:4; stroke-opacity:1; fill:none\" points=\"\n",
       "  411.853,1503.47 411.853,1481.63 \n",
       "  \"/>\n",
       "<polyline clip-path=\"url(#clip4701)\" style=\"stroke:#000000; stroke-width:4; stroke-opacity:1; fill:none\" points=\"\n",
       "  823.96,1503.47 823.96,1481.63 \n",
       "  \"/>\n",
       "<polyline clip-path=\"url(#clip4701)\" style=\"stroke:#000000; stroke-width:4; stroke-opacity:1; fill:none\" points=\"\n",
       "  1236.07,1503.47 1236.07,1481.63 \n",
       "  \"/>\n",
       "<polyline clip-path=\"url(#clip4701)\" style=\"stroke:#000000; stroke-width:4; stroke-opacity:1; fill:none\" points=\"\n",
       "  1648.18,1503.47 1648.18,1481.63 \n",
       "  \"/>\n",
       "<polyline clip-path=\"url(#clip4701)\" style=\"stroke:#000000; stroke-width:4; stroke-opacity:1; fill:none\" points=\"\n",
       "  2060.28,1503.47 2060.28,1481.63 \n",
       "  \"/>\n",
       "<polyline clip-path=\"url(#clip4701)\" style=\"stroke:#000000; stroke-width:4; stroke-opacity:1; fill:none\" points=\"\n",
       "  149.361,1372.42 181.939,1372.42 \n",
       "  \"/>\n",
       "<polyline clip-path=\"url(#clip4701)\" style=\"stroke:#000000; stroke-width:4; stroke-opacity:1; fill:none\" points=\"\n",
       "  149.361,1173.46 181.939,1173.46 \n",
       "  \"/>\n",
       "<polyline clip-path=\"url(#clip4701)\" style=\"stroke:#000000; stroke-width:4; stroke-opacity:1; fill:none\" points=\"\n",
       "  149.361,974.497 181.939,974.497 \n",
       "  \"/>\n",
       "<polyline clip-path=\"url(#clip4701)\" style=\"stroke:#000000; stroke-width:4; stroke-opacity:1; fill:none\" points=\"\n",
       "  149.361,775.538 181.939,775.538 \n",
       "  \"/>\n",
       "<polyline clip-path=\"url(#clip4701)\" style=\"stroke:#000000; stroke-width:4; stroke-opacity:1; fill:none\" points=\"\n",
       "  149.361,576.578 181.939,576.578 \n",
       "  \"/>\n",
       "<polyline clip-path=\"url(#clip4701)\" style=\"stroke:#000000; stroke-width:4; stroke-opacity:1; fill:none\" points=\"\n",
       "  149.361,377.618 181.939,377.618 \n",
       "  \"/>\n",
       "<polyline clip-path=\"url(#clip4701)\" style=\"stroke:#000000; stroke-width:4; stroke-opacity:1; fill:none\" points=\"\n",
       "  149.361,178.658 181.939,178.658 \n",
       "  \"/>\n",
       "<g clip-path=\"url(#clip4701)\">\n",
       "<text style=\"fill:#000000; fill-opacity:1; font-family:Arial,Helvetica Neue,Helvetica,sans-serif; font-size:48px; text-anchor:middle;\" transform=\"rotate(0, 411.853, 1557.47)\" x=\"411.853\" y=\"1557.47\">-4</text>\n",
       "</g>\n",
       "<g clip-path=\"url(#clip4701)\">\n",
       "<text style=\"fill:#000000; fill-opacity:1; font-family:Arial,Helvetica Neue,Helvetica,sans-serif; font-size:48px; text-anchor:middle;\" transform=\"rotate(0, 823.96, 1557.47)\" x=\"823.96\" y=\"1557.47\">-2</text>\n",
       "</g>\n",
       "<g clip-path=\"url(#clip4701)\">\n",
       "<text style=\"fill:#000000; fill-opacity:1; font-family:Arial,Helvetica Neue,Helvetica,sans-serif; font-size:48px; text-anchor:middle;\" transform=\"rotate(0, 1236.07, 1557.47)\" x=\"1236.07\" y=\"1557.47\">0</text>\n",
       "</g>\n",
       "<g clip-path=\"url(#clip4701)\">\n",
       "<text style=\"fill:#000000; fill-opacity:1; font-family:Arial,Helvetica Neue,Helvetica,sans-serif; font-size:48px; text-anchor:middle;\" transform=\"rotate(0, 1648.18, 1557.47)\" x=\"1648.18\" y=\"1557.47\">2</text>\n",
       "</g>\n",
       "<g clip-path=\"url(#clip4701)\">\n",
       "<text style=\"fill:#000000; fill-opacity:1; font-family:Arial,Helvetica Neue,Helvetica,sans-serif; font-size:48px; text-anchor:middle;\" transform=\"rotate(0, 2060.28, 1557.47)\" x=\"2060.28\" y=\"1557.47\">4</text>\n",
       "</g>\n",
       "<g clip-path=\"url(#clip4701)\">\n",
       "<text style=\"fill:#000000; fill-opacity:1; font-family:Arial,Helvetica Neue,Helvetica,sans-serif; font-size:48px; text-anchor:end;\" transform=\"rotate(0, 125.361, 1389.92)\" x=\"125.361\" y=\"1389.92\">-3</text>\n",
       "</g>\n",
       "<g clip-path=\"url(#clip4701)\">\n",
       "<text style=\"fill:#000000; fill-opacity:1; font-family:Arial,Helvetica Neue,Helvetica,sans-serif; font-size:48px; text-anchor:end;\" transform=\"rotate(0, 125.361, 1190.96)\" x=\"125.361\" y=\"1190.96\">-2</text>\n",
       "</g>\n",
       "<g clip-path=\"url(#clip4701)\">\n",
       "<text style=\"fill:#000000; fill-opacity:1; font-family:Arial,Helvetica Neue,Helvetica,sans-serif; font-size:48px; text-anchor:end;\" transform=\"rotate(0, 125.361, 991.997)\" x=\"125.361\" y=\"991.997\">-1</text>\n",
       "</g>\n",
       "<g clip-path=\"url(#clip4701)\">\n",
       "<text style=\"fill:#000000; fill-opacity:1; font-family:Arial,Helvetica Neue,Helvetica,sans-serif; font-size:48px; text-anchor:end;\" transform=\"rotate(0, 125.361, 793.038)\" x=\"125.361\" y=\"793.038\">0</text>\n",
       "</g>\n",
       "<g clip-path=\"url(#clip4701)\">\n",
       "<text style=\"fill:#000000; fill-opacity:1; font-family:Arial,Helvetica Neue,Helvetica,sans-serif; font-size:48px; text-anchor:end;\" transform=\"rotate(0, 125.361, 594.078)\" x=\"125.361\" y=\"594.078\">1</text>\n",
       "</g>\n",
       "<g clip-path=\"url(#clip4701)\">\n",
       "<text style=\"fill:#000000; fill-opacity:1; font-family:Arial,Helvetica Neue,Helvetica,sans-serif; font-size:48px; text-anchor:end;\" transform=\"rotate(0, 125.361, 395.118)\" x=\"125.361\" y=\"395.118\">2</text>\n",
       "</g>\n",
       "<g clip-path=\"url(#clip4701)\">\n",
       "<text style=\"fill:#000000; fill-opacity:1; font-family:Arial,Helvetica Neue,Helvetica,sans-serif; font-size:48px; text-anchor:end;\" transform=\"rotate(0, 125.361, 196.158)\" x=\"125.361\" y=\"196.158\">3</text>\n",
       "</g>\n",
       "<polyline clip-path=\"url(#clip4703)\" style=\"stroke:#009af9; stroke-width:4; stroke-opacity:1; fill:none\" points=\"\n",
       "  210.829,88.4582 215.86,89.6805 220.891,91.0181 225.922,92.4716 272.438,111.478 318.954,140.574 342.212,158.82 365.47,179.423 388.728,202.263 411.986,227.193 \n",
       "  467.895,294.572 523.804,370.006 571.074,437.459 618.344,505.804 669.692,578.277 721.041,646.044 768.379,702.052 815.718,750.056 841.094,772.015 866.47,791.139 \n",
       "  891.846,807.323 917.222,820.509 946.623,832.019 976.024,839.542 1005.42,843.212 1034.83,843.244 1087.08,835.255 1139.34,818.845 1185.16,799.617 1230.98,777.992 \n",
       "  1280.94,754.214 1330.9,732.951 1381.16,716.783 1431.42,708.238 1459.2,707.519 1486.98,709.989 1514.77,715.849 1542.55,725.234 1568.98,737.504 1595.42,753.042 \n",
       "  1621.85,771.8 1648.29,793.681 1675.77,819.582 1703.26,848.472 1730.74,880.074 1758.23,914.061 1804.5,975.633 1850.78,1040.94 1907.27,1122.58 1963.77,1202.51 \n",
       "  2016.88,1272.55 2069.99,1334.67 2112.53,1377.06 2155.07,1411.87 2197.61,1438.51 2240.15,1456.7 2246.7,1458.75 2253.24,1460.6 2259.79,1462.26 \n",
       "  \"/>\n",
       "<polygon clip-path=\"url(#clip4701)\" points=\"\n",
       "1958.43,251.724 2249.26,251.724 2249.26,130.764 1958.43,130.764 \n",
       "  \" fill=\"#ffffff\" fill-rule=\"evenodd\" fill-opacity=\"1\"/>\n",
       "<polyline clip-path=\"url(#clip4701)\" style=\"stroke:#000000; stroke-width:4; stroke-opacity:1; fill:none\" points=\"\n",
       "  1958.43,251.724 2249.26,251.724 2249.26,130.764 1958.43,130.764 1958.43,251.724 \n",
       "  \"/>\n",
       "<polyline clip-path=\"url(#clip4701)\" style=\"stroke:#009af9; stroke-width:4; stroke-opacity:1; fill:none\" points=\"\n",
       "  1982.43,191.244 2126.43,191.244 \n",
       "  \"/>\n",
       "<g clip-path=\"url(#clip4701)\">\n",
       "<text style=\"fill:#000000; fill-opacity:1; font-family:Arial,Helvetica Neue,Helvetica,sans-serif; font-size:48px; text-anchor:start;\" transform=\"rotate(0, 2150.43, 208.744)\" x=\"2150.43\" y=\"208.744\">y1</text>\n",
       "</g>\n",
       "</svg>\n"
      ]
     },
     "execution_count": 6,
     "metadata": {},
     "output_type": "execute_result"
    }
   ],
   "source": [
    "plot(f4)"
   ]
  },
  {
   "cell_type": "code",
   "execution_count": 7,
   "metadata": {},
   "outputs": [
    {
     "data": {
      "image/svg+xml": [
       "<?xml version=\"1.0\" encoding=\"utf-8\"?>\n",
       "<svg xmlns=\"http://www.w3.org/2000/svg\" xmlns:xlink=\"http://www.w3.org/1999/xlink\" width=\"600\" height=\"400\" viewBox=\"0 0 2400 1600\">\n",
       "<defs>\n",
       "  <clipPath id=\"clip4900\">\n",
       "    <rect x=\"0\" y=\"0\" width=\"2000\" height=\"2000\"/>\n",
       "  </clipPath>\n",
       "</defs>\n",
       "<defs>\n",
       "  <clipPath id=\"clip4901\">\n",
       "    <rect x=\"0\" y=\"0\" width=\"2400\" height=\"1600\"/>\n",
       "  </clipPath>\n",
       "</defs>\n",
       "<polygon clip-path=\"url(#clip4901)\" points=\"\n",
       "0,1600 2400,1600 2400,0 0,0 \n",
       "  \" fill=\"#ffffff\" fill-rule=\"evenodd\" fill-opacity=\"1\"/>\n",
       "<defs>\n",
       "  <clipPath id=\"clip4902\">\n",
       "    <rect x=\"480\" y=\"0\" width=\"1681\" height=\"1600\"/>\n",
       "  </clipPath>\n",
       "</defs>\n",
       "<polygon clip-path=\"url(#clip4901)\" points=\"\n",
       "149.361,1503.47 2321.26,1503.47 2321.26,47.2441 149.361,47.2441 \n",
       "  \" fill=\"#ffffff\" fill-rule=\"evenodd\" fill-opacity=\"1\"/>\n",
       "<defs>\n",
       "  <clipPath id=\"clip4903\">\n",
       "    <rect x=\"149\" y=\"47\" width=\"2173\" height=\"1457\"/>\n",
       "  </clipPath>\n",
       "</defs>\n",
       "<polyline clip-path=\"url(#clip4903)\" style=\"stroke:#000000; stroke-width:2; stroke-opacity:0.1; fill:none\" points=\"\n",
       "  407.936,1503.47 407.936,47.2441 \n",
       "  \"/>\n",
       "<polyline clip-path=\"url(#clip4903)\" style=\"stroke:#000000; stroke-width:2; stroke-opacity:0.1; fill:none\" points=\"\n",
       "  822.385,1503.47 822.385,47.2441 \n",
       "  \"/>\n",
       "<polyline clip-path=\"url(#clip4903)\" style=\"stroke:#000000; stroke-width:2; stroke-opacity:0.1; fill:none\" points=\"\n",
       "  1236.84,1503.47 1236.84,47.2441 \n",
       "  \"/>\n",
       "<polyline clip-path=\"url(#clip4903)\" style=\"stroke:#000000; stroke-width:2; stroke-opacity:0.1; fill:none\" points=\"\n",
       "  1651.28,1503.47 1651.28,47.2441 \n",
       "  \"/>\n",
       "<polyline clip-path=\"url(#clip4903)\" style=\"stroke:#000000; stroke-width:2; stroke-opacity:0.1; fill:none\" points=\"\n",
       "  2065.73,1503.47 2065.73,47.2441 \n",
       "  \"/>\n",
       "<polyline clip-path=\"url(#clip4903)\" style=\"stroke:#000000; stroke-width:2; stroke-opacity:0.1; fill:none\" points=\"\n",
       "  149.361,1363.16 2321.26,1363.16 \n",
       "  \"/>\n",
       "<polyline clip-path=\"url(#clip4903)\" style=\"stroke:#000000; stroke-width:2; stroke-opacity:0.1; fill:none\" points=\"\n",
       "  149.361,1085.68 2321.26,1085.68 \n",
       "  \"/>\n",
       "<polyline clip-path=\"url(#clip4903)\" style=\"stroke:#000000; stroke-width:2; stroke-opacity:0.1; fill:none\" points=\"\n",
       "  149.361,808.201 2321.26,808.201 \n",
       "  \"/>\n",
       "<polyline clip-path=\"url(#clip4903)\" style=\"stroke:#000000; stroke-width:2; stroke-opacity:0.1; fill:none\" points=\"\n",
       "  149.361,530.72 2321.26,530.72 \n",
       "  \"/>\n",
       "<polyline clip-path=\"url(#clip4903)\" style=\"stroke:#000000; stroke-width:2; stroke-opacity:0.1; fill:none\" points=\"\n",
       "  149.361,253.239 2321.26,253.239 \n",
       "  \"/>\n",
       "<polyline clip-path=\"url(#clip4901)\" style=\"stroke:#000000; stroke-width:4; stroke-opacity:1; fill:none\" points=\"\n",
       "  149.361,1503.47 2321.26,1503.47 \n",
       "  \"/>\n",
       "<polyline clip-path=\"url(#clip4901)\" style=\"stroke:#000000; stroke-width:4; stroke-opacity:1; fill:none\" points=\"\n",
       "  149.361,1503.47 149.361,47.2441 \n",
       "  \"/>\n",
       "<polyline clip-path=\"url(#clip4901)\" style=\"stroke:#000000; stroke-width:4; stroke-opacity:1; fill:none\" points=\"\n",
       "  407.936,1503.47 407.936,1481.63 \n",
       "  \"/>\n",
       "<polyline clip-path=\"url(#clip4901)\" style=\"stroke:#000000; stroke-width:4; stroke-opacity:1; fill:none\" points=\"\n",
       "  822.385,1503.47 822.385,1481.63 \n",
       "  \"/>\n",
       "<polyline clip-path=\"url(#clip4901)\" style=\"stroke:#000000; stroke-width:4; stroke-opacity:1; fill:none\" points=\"\n",
       "  1236.84,1503.47 1236.84,1481.63 \n",
       "  \"/>\n",
       "<polyline clip-path=\"url(#clip4901)\" style=\"stroke:#000000; stroke-width:4; stroke-opacity:1; fill:none\" points=\"\n",
       "  1651.28,1503.47 1651.28,1481.63 \n",
       "  \"/>\n",
       "<polyline clip-path=\"url(#clip4901)\" style=\"stroke:#000000; stroke-width:4; stroke-opacity:1; fill:none\" points=\"\n",
       "  2065.73,1503.47 2065.73,1481.63 \n",
       "  \"/>\n",
       "<polyline clip-path=\"url(#clip4901)\" style=\"stroke:#000000; stroke-width:4; stroke-opacity:1; fill:none\" points=\"\n",
       "  149.361,1363.16 181.939,1363.16 \n",
       "  \"/>\n",
       "<polyline clip-path=\"url(#clip4901)\" style=\"stroke:#000000; stroke-width:4; stroke-opacity:1; fill:none\" points=\"\n",
       "  149.361,1085.68 181.939,1085.68 \n",
       "  \"/>\n",
       "<polyline clip-path=\"url(#clip4901)\" style=\"stroke:#000000; stroke-width:4; stroke-opacity:1; fill:none\" points=\"\n",
       "  149.361,808.201 181.939,808.201 \n",
       "  \"/>\n",
       "<polyline clip-path=\"url(#clip4901)\" style=\"stroke:#000000; stroke-width:4; stroke-opacity:1; fill:none\" points=\"\n",
       "  149.361,530.72 181.939,530.72 \n",
       "  \"/>\n",
       "<polyline clip-path=\"url(#clip4901)\" style=\"stroke:#000000; stroke-width:4; stroke-opacity:1; fill:none\" points=\"\n",
       "  149.361,253.239 181.939,253.239 \n",
       "  \"/>\n",
       "<g clip-path=\"url(#clip4901)\">\n",
       "<text style=\"fill:#000000; fill-opacity:1; font-family:Arial,Helvetica Neue,Helvetica,sans-serif; font-size:48px; text-anchor:middle;\" transform=\"rotate(0, 407.936, 1557.47)\" x=\"407.936\" y=\"1557.47\">-4</text>\n",
       "</g>\n",
       "<g clip-path=\"url(#clip4901)\">\n",
       "<text style=\"fill:#000000; fill-opacity:1; font-family:Arial,Helvetica Neue,Helvetica,sans-serif; font-size:48px; text-anchor:middle;\" transform=\"rotate(0, 822.385, 1557.47)\" x=\"822.385\" y=\"1557.47\">-2</text>\n",
       "</g>\n",
       "<g clip-path=\"url(#clip4901)\">\n",
       "<text style=\"fill:#000000; fill-opacity:1; font-family:Arial,Helvetica Neue,Helvetica,sans-serif; font-size:48px; text-anchor:middle;\" transform=\"rotate(0, 1236.84, 1557.47)\" x=\"1236.84\" y=\"1557.47\">0</text>\n",
       "</g>\n",
       "<g clip-path=\"url(#clip4901)\">\n",
       "<text style=\"fill:#000000; fill-opacity:1; font-family:Arial,Helvetica Neue,Helvetica,sans-serif; font-size:48px; text-anchor:middle;\" transform=\"rotate(0, 1651.28, 1557.47)\" x=\"1651.28\" y=\"1557.47\">2</text>\n",
       "</g>\n",
       "<g clip-path=\"url(#clip4901)\">\n",
       "<text style=\"fill:#000000; fill-opacity:1; font-family:Arial,Helvetica Neue,Helvetica,sans-serif; font-size:48px; text-anchor:middle;\" transform=\"rotate(0, 2065.73, 1557.47)\" x=\"2065.73\" y=\"1557.47\">4</text>\n",
       "</g>\n",
       "<g clip-path=\"url(#clip4901)\">\n",
       "<text style=\"fill:#000000; fill-opacity:1; font-family:Arial,Helvetica Neue,Helvetica,sans-serif; font-size:48px; text-anchor:end;\" transform=\"rotate(0, 125.361, 1380.66)\" x=\"125.361\" y=\"1380.66\">-4</text>\n",
       "</g>\n",
       "<g clip-path=\"url(#clip4901)\">\n",
       "<text style=\"fill:#000000; fill-opacity:1; font-family:Arial,Helvetica Neue,Helvetica,sans-serif; font-size:48px; text-anchor:end;\" transform=\"rotate(0, 125.361, 1103.18)\" x=\"125.361\" y=\"1103.18\">-2</text>\n",
       "</g>\n",
       "<g clip-path=\"url(#clip4901)\">\n",
       "<text style=\"fill:#000000; fill-opacity:1; font-family:Arial,Helvetica Neue,Helvetica,sans-serif; font-size:48px; text-anchor:end;\" transform=\"rotate(0, 125.361, 825.701)\" x=\"125.361\" y=\"825.701\">0</text>\n",
       "</g>\n",
       "<g clip-path=\"url(#clip4901)\">\n",
       "<text style=\"fill:#000000; fill-opacity:1; font-family:Arial,Helvetica Neue,Helvetica,sans-serif; font-size:48px; text-anchor:end;\" transform=\"rotate(0, 125.361, 548.22)\" x=\"125.361\" y=\"548.22\">2</text>\n",
       "</g>\n",
       "<g clip-path=\"url(#clip4901)\">\n",
       "<text style=\"fill:#000000; fill-opacity:1; font-family:Arial,Helvetica Neue,Helvetica,sans-serif; font-size:48px; text-anchor:end;\" transform=\"rotate(0, 125.361, 270.739)\" x=\"125.361\" y=\"270.739\">4</text>\n",
       "</g>\n",
       "<polyline clip-path=\"url(#clip4903)\" style=\"stroke:#009af9; stroke-width:4; stroke-opacity:1; fill:none\" points=\"\n",
       "  210.829,88.4582 220.948,101.852 314.509,226.563 408.07,344.084 464.297,406.534 520.523,460.528 544.292,480.496 568.061,498.678 591.831,515.042 615.6,529.584 \n",
       "  667.24,555.016 718.881,572.53 766.488,582.563 814.096,587.906 865.137,590.013 916.177,590.269 975.313,590.946 1034.45,595.033 1087,603.859 1139.55,619.339 \n",
       "  1185.64,639.396 1231.72,666.079 1256.84,683.503 1281.97,702.954 1307.09,724.393 1332.21,747.752 1382.75,800.152 1433.29,858.811 1545.06,1003 1651.4,1143.56 \n",
       "  1706.68,1211.78 1761.96,1273.7 1808.5,1319.63 1855.04,1359.1 1883.45,1379.83 1911.85,1397.95 1940.26,1413.49 1968.67,1426.5 2022.08,1444.57 2075.49,1455.34 \n",
       "  2161.06,1461.63 2246.62,1462.1 2259.79,1462.26 \n",
       "  \"/>\n",
       "<polygon clip-path=\"url(#clip4901)\" points=\"\n",
       "1958.43,251.724 2249.26,251.724 2249.26,130.764 1958.43,130.764 \n",
       "  \" fill=\"#ffffff\" fill-rule=\"evenodd\" fill-opacity=\"1\"/>\n",
       "<polyline clip-path=\"url(#clip4901)\" style=\"stroke:#000000; stroke-width:4; stroke-opacity:1; fill:none\" points=\"\n",
       "  1958.43,251.724 2249.26,251.724 2249.26,130.764 1958.43,130.764 1958.43,251.724 \n",
       "  \"/>\n",
       "<polyline clip-path=\"url(#clip4901)\" style=\"stroke:#009af9; stroke-width:4; stroke-opacity:1; fill:none\" points=\"\n",
       "  1982.43,191.244 2126.43,191.244 \n",
       "  \"/>\n",
       "<g clip-path=\"url(#clip4901)\">\n",
       "<text style=\"fill:#000000; fill-opacity:1; font-family:Arial,Helvetica Neue,Helvetica,sans-serif; font-size:48px; text-anchor:start;\" transform=\"rotate(0, 2150.43, 208.744)\" x=\"2150.43\" y=\"208.744\">y1</text>\n",
       "</g>\n",
       "</svg>\n"
      ]
     },
     "execution_count": 7,
     "metadata": {},
     "output_type": "execute_result"
    }
   ],
   "source": [
    "plot(f5)"
   ]
  },
  {
   "cell_type": "code",
   "execution_count": 7,
   "metadata": {},
   "outputs": [
    {
     "data": {
      "image/svg+xml": [
       "<?xml version=\"1.0\" encoding=\"utf-8\"?>\n",
       "<svg xmlns=\"http://www.w3.org/2000/svg\" xmlns:xlink=\"http://www.w3.org/1999/xlink\" width=\"600\" height=\"400\" viewBox=\"0 0 2400 1600\">\n",
       "<defs>\n",
       "  <clipPath id=\"clip7900\">\n",
       "    <rect x=\"0\" y=\"0\" width=\"2000\" height=\"2000\"/>\n",
       "  </clipPath>\n",
       "</defs>\n",
       "<defs>\n",
       "  <clipPath id=\"clip7901\">\n",
       "    <rect x=\"0\" y=\"0\" width=\"2400\" height=\"1600\"/>\n",
       "  </clipPath>\n",
       "</defs>\n",
       "<polygon clip-path=\"url(#clip7901)\" points=\"\n",
       "0,1600 2400,1600 2400,0 0,0 \n",
       "  \" fill=\"#ffffff\" fill-rule=\"evenodd\" fill-opacity=\"1\"/>\n",
       "<defs>\n",
       "  <clipPath id=\"clip7902\">\n",
       "    <rect x=\"480\" y=\"0\" width=\"1681\" height=\"1600\"/>\n",
       "  </clipPath>\n",
       "</defs>\n",
       "<polygon clip-path=\"url(#clip7901)\" points=\"\n",
       "149.361,1503.47 2321.26,1503.47 2321.26,47.2441 149.361,47.2441 \n",
       "  \" fill=\"#ffffff\" fill-rule=\"evenodd\" fill-opacity=\"1\"/>\n",
       "<defs>\n",
       "  <clipPath id=\"clip7903\">\n",
       "    <rect x=\"149\" y=\"47\" width=\"2173\" height=\"1457\"/>\n",
       "  </clipPath>\n",
       "</defs>\n",
       "<polyline clip-path=\"url(#clip7903)\" style=\"stroke:#000000; stroke-width:2; stroke-opacity:0.1; fill:none\" points=\"\n",
       "  415.485,1503.47 415.485,47.2441 \n",
       "  \"/>\n",
       "<polyline clip-path=\"url(#clip7903)\" style=\"stroke:#000000; stroke-width:2; stroke-opacity:0.1; fill:none\" points=\"\n",
       "  825.421,1503.47 825.421,47.2441 \n",
       "  \"/>\n",
       "<polyline clip-path=\"url(#clip7903)\" style=\"stroke:#000000; stroke-width:2; stroke-opacity:0.1; fill:none\" points=\"\n",
       "  1235.36,1503.47 1235.36,47.2441 \n",
       "  \"/>\n",
       "<polyline clip-path=\"url(#clip7903)\" style=\"stroke:#000000; stroke-width:2; stroke-opacity:0.1; fill:none\" points=\"\n",
       "  1645.29,1503.47 1645.29,47.2441 \n",
       "  \"/>\n",
       "<polyline clip-path=\"url(#clip7903)\" style=\"stroke:#000000; stroke-width:2; stroke-opacity:0.1; fill:none\" points=\"\n",
       "  2055.23,1503.47 2055.23,47.2441 \n",
       "  \"/>\n",
       "<polyline clip-path=\"url(#clip7903)\" style=\"stroke:#000000; stroke-width:2; stroke-opacity:0.1; fill:none\" points=\"\n",
       "  149.361,1324.88 2321.26,1324.88 \n",
       "  \"/>\n",
       "<polyline clip-path=\"url(#clip7903)\" style=\"stroke:#000000; stroke-width:2; stroke-opacity:0.1; fill:none\" points=\"\n",
       "  149.361,1050.12 2321.26,1050.12 \n",
       "  \"/>\n",
       "<polyline clip-path=\"url(#clip7903)\" style=\"stroke:#000000; stroke-width:2; stroke-opacity:0.1; fill:none\" points=\"\n",
       "  149.361,775.358 2321.26,775.358 \n",
       "  \"/>\n",
       "<polyline clip-path=\"url(#clip7903)\" style=\"stroke:#000000; stroke-width:2; stroke-opacity:0.1; fill:none\" points=\"\n",
       "  149.361,500.597 2321.26,500.597 \n",
       "  \"/>\n",
       "<polyline clip-path=\"url(#clip7903)\" style=\"stroke:#000000; stroke-width:2; stroke-opacity:0.1; fill:none\" points=\"\n",
       "  149.361,225.836 2321.26,225.836 \n",
       "  \"/>\n",
       "<polyline clip-path=\"url(#clip7901)\" style=\"stroke:#000000; stroke-width:4; stroke-opacity:1; fill:none\" points=\"\n",
       "  149.361,1503.47 2321.26,1503.47 \n",
       "  \"/>\n",
       "<polyline clip-path=\"url(#clip7901)\" style=\"stroke:#000000; stroke-width:4; stroke-opacity:1; fill:none\" points=\"\n",
       "  149.361,1503.47 149.361,47.2441 \n",
       "  \"/>\n",
       "<polyline clip-path=\"url(#clip7901)\" style=\"stroke:#000000; stroke-width:4; stroke-opacity:1; fill:none\" points=\"\n",
       "  415.485,1503.47 415.485,1481.63 \n",
       "  \"/>\n",
       "<polyline clip-path=\"url(#clip7901)\" style=\"stroke:#000000; stroke-width:4; stroke-opacity:1; fill:none\" points=\"\n",
       "  825.421,1503.47 825.421,1481.63 \n",
       "  \"/>\n",
       "<polyline clip-path=\"url(#clip7901)\" style=\"stroke:#000000; stroke-width:4; stroke-opacity:1; fill:none\" points=\"\n",
       "  1235.36,1503.47 1235.36,1481.63 \n",
       "  \"/>\n",
       "<polyline clip-path=\"url(#clip7901)\" style=\"stroke:#000000; stroke-width:4; stroke-opacity:1; fill:none\" points=\"\n",
       "  1645.29,1503.47 1645.29,1481.63 \n",
       "  \"/>\n",
       "<polyline clip-path=\"url(#clip7901)\" style=\"stroke:#000000; stroke-width:4; stroke-opacity:1; fill:none\" points=\"\n",
       "  2055.23,1503.47 2055.23,1481.63 \n",
       "  \"/>\n",
       "<polyline clip-path=\"url(#clip7901)\" style=\"stroke:#000000; stroke-width:4; stroke-opacity:1; fill:none\" points=\"\n",
       "  149.361,1324.88 181.939,1324.88 \n",
       "  \"/>\n",
       "<polyline clip-path=\"url(#clip7901)\" style=\"stroke:#000000; stroke-width:4; stroke-opacity:1; fill:none\" points=\"\n",
       "  149.361,1050.12 181.939,1050.12 \n",
       "  \"/>\n",
       "<polyline clip-path=\"url(#clip7901)\" style=\"stroke:#000000; stroke-width:4; stroke-opacity:1; fill:none\" points=\"\n",
       "  149.361,775.358 181.939,775.358 \n",
       "  \"/>\n",
       "<polyline clip-path=\"url(#clip7901)\" style=\"stroke:#000000; stroke-width:4; stroke-opacity:1; fill:none\" points=\"\n",
       "  149.361,500.597 181.939,500.597 \n",
       "  \"/>\n",
       "<polyline clip-path=\"url(#clip7901)\" style=\"stroke:#000000; stroke-width:4; stroke-opacity:1; fill:none\" points=\"\n",
       "  149.361,225.836 181.939,225.836 \n",
       "  \"/>\n",
       "<g clip-path=\"url(#clip7901)\">\n",
       "<text style=\"fill:#000000; fill-opacity:1; font-family:Arial,Helvetica Neue,Helvetica,sans-serif; font-size:48px; text-anchor:middle;\" transform=\"rotate(0, 415.485, 1557.47)\" x=\"415.485\" y=\"1557.47\">-4</text>\n",
       "</g>\n",
       "<g clip-path=\"url(#clip7901)\">\n",
       "<text style=\"fill:#000000; fill-opacity:1; font-family:Arial,Helvetica Neue,Helvetica,sans-serif; font-size:48px; text-anchor:middle;\" transform=\"rotate(0, 825.421, 1557.47)\" x=\"825.421\" y=\"1557.47\">-2</text>\n",
       "</g>\n",
       "<g clip-path=\"url(#clip7901)\">\n",
       "<text style=\"fill:#000000; fill-opacity:1; font-family:Arial,Helvetica Neue,Helvetica,sans-serif; font-size:48px; text-anchor:middle;\" transform=\"rotate(0, 1235.36, 1557.47)\" x=\"1235.36\" y=\"1557.47\">0</text>\n",
       "</g>\n",
       "<g clip-path=\"url(#clip7901)\">\n",
       "<text style=\"fill:#000000; fill-opacity:1; font-family:Arial,Helvetica Neue,Helvetica,sans-serif; font-size:48px; text-anchor:middle;\" transform=\"rotate(0, 1645.29, 1557.47)\" x=\"1645.29\" y=\"1557.47\">2</text>\n",
       "</g>\n",
       "<g clip-path=\"url(#clip7901)\">\n",
       "<text style=\"fill:#000000; fill-opacity:1; font-family:Arial,Helvetica Neue,Helvetica,sans-serif; font-size:48px; text-anchor:middle;\" transform=\"rotate(0, 2055.23, 1557.47)\" x=\"2055.23\" y=\"1557.47\">4</text>\n",
       "</g>\n",
       "<g clip-path=\"url(#clip7901)\">\n",
       "<text style=\"fill:#000000; fill-opacity:1; font-family:Arial,Helvetica Neue,Helvetica,sans-serif; font-size:48px; text-anchor:end;\" transform=\"rotate(0, 125.361, 1342.38)\" x=\"125.361\" y=\"1342.38\">-4</text>\n",
       "</g>\n",
       "<g clip-path=\"url(#clip7901)\">\n",
       "<text style=\"fill:#000000; fill-opacity:1; font-family:Arial,Helvetica Neue,Helvetica,sans-serif; font-size:48px; text-anchor:end;\" transform=\"rotate(0, 125.361, 1067.62)\" x=\"125.361\" y=\"1067.62\">-2</text>\n",
       "</g>\n",
       "<g clip-path=\"url(#clip7901)\">\n",
       "<text style=\"fill:#000000; fill-opacity:1; font-family:Arial,Helvetica Neue,Helvetica,sans-serif; font-size:48px; text-anchor:end;\" transform=\"rotate(0, 125.361, 792.858)\" x=\"125.361\" y=\"792.858\">0</text>\n",
       "</g>\n",
       "<g clip-path=\"url(#clip7901)\">\n",
       "<text style=\"fill:#000000; fill-opacity:1; font-family:Arial,Helvetica Neue,Helvetica,sans-serif; font-size:48px; text-anchor:end;\" transform=\"rotate(0, 125.361, 518.097)\" x=\"125.361\" y=\"518.097\">2</text>\n",
       "</g>\n",
       "<g clip-path=\"url(#clip7901)\">\n",
       "<text style=\"fill:#000000; fill-opacity:1; font-family:Arial,Helvetica Neue,Helvetica,sans-serif; font-size:48px; text-anchor:end;\" transform=\"rotate(0, 125.361, 243.336)\" x=\"125.361\" y=\"243.336\">4</text>\n",
       "</g>\n",
       "<polyline clip-path=\"url(#clip7903)\" style=\"stroke:#009af9; stroke-width:4; stroke-opacity:1; fill:none\" points=\"\n",
       "  210.829,355.617 211.142,360.958 211.455,363.159 211.768,362.169 212.081,358.01 212.393,350.78 212.706,340.647 213.019,327.845 213.644,295.482 214.27,256.684 \n",
       "  214.895,215.034 215.521,174.383 216.146,138.486 216.772,110.663 217.085,100.618 217.397,93.4825 217.71,89.4232 218.023,88.5339 218.336,90.8354 218.649,96.2741 \n",
       "  218.961,104.724 219.274,115.988 219.9,145.853 220.525,183.11 221.151,224.316 221.776,265.662 222.402,303.327 223.027,333.831 223.34,345.483 223.653,354.355 \n",
       "  223.965,360.24 224.278,363.002 224.591,362.576 224.904,358.972 225.217,352.274 225.529,342.638 226.155,315.511 226.78,280.095 227.406,239.666 228.031,197.958 \n",
       "  228.657,158.827 229.282,125.888 229.595,112.723 229.908,102.186 230.221,94.5231 230.534,89.9115 231.979,109.42 233.425,184.503 234.871,279.317 236.317,348.601 \n",
       "  237.763,359.279 239.209,306.255 240.655,214.841 242.101,128.676 243.547,88.8921 244.993,114.482 246.439,193.23 247.885,287.543 249.331,352.398 250.777,356.836 \n",
       "  252.223,298.738 253.669,205.838 255.115,122.484 256.561,88.4684 258.007,120.028 259.453,202.098 260.899,295.5 262.345,355.646 263.791,353.824 265.237,290.903 \n",
       "  266.683,196.921 268.129,116.743 269.575,88.6423 271.021,126.035 272.467,211.07 273.913,303.154 275.359,358.328 276.805,350.254 278.251,282.785 279.697,188.131 \n",
       "  281.143,111.476 282.588,89.4131 284.034,132.476 285.48,220.106 286.926,310.472 288.372,360.434 289.818,346.143 291.264,274.42 292.71,179.504 294.156,106.706 \n",
       "  295.602,90.7775 297.048,139.323 298.494,229.167 299.94,317.421 301.386,361.955 302.832,341.509 304.278,265.843 305.724,171.079 307.17,102.455 308.616,92.7293 \n",
       "  310.062,146.546 311.508,238.214 312.954,323.973 314.4,362.883 315.846,336.371 317.292,257.092 318.738,162.892 320.184,98.74 321.63,95.2603 323.076,154.114 \n",
       "  324.522,247.206 325.968,330.097 327.414,363.216 328.86,330.753 330.306,248.205 331.752,154.979 333.198,95.5783 334.643,98.3593 336.089,161.994 337.535,256.106 \n",
       "  338.981,335.767 340.427,362.95 341.873,324.678 343.319,239.221 344.765,147.374 346.211,92.9834 347.657,102.013 349.103,170.153 350.549,264.874 351.995,340.96 \n",
       "  353.441,362.088 354.887,318.173 356.333,230.179 357.779,140.111 359.225,90.9664 360.671,106.205 362.117,178.553 363.563,273.472 365.009,345.651 366.455,360.633 \n",
       "  367.901,311.267 369.347,221.117 370.793,133.22 372.239,89.5361 373.685,110.918 375.131,187.159 376.577,281.863 378.023,349.821 379.469,358.592 380.915,303.988 \n",
       "  382.361,212.076 383.807,126.733 385.252,88.6988 386.698,116.131 388.144,195.933 389.59,290.01 391.036,353.452 392.482,355.973 393.928,296.37 395.374,203.095 \n",
       "  396.82,120.677 398.266,88.4582 399.712,121.821 401.158,204.837 402.604,297.878 404.05,356.528 405.496,352.789 406.942,288.445 408.388,194.213 409.834,115.078 \n",
       "  411.28,88.8152 412.726,127.963 414.172,213.833 415.618,305.433 416.487,344.448 417.356,362.461 418.225,356.284 419.094,327.009 419.963,279.821 420.832,223.074 \n",
       "  421.701,166.816 422.57,121.008 423.439,93.7613 424.308,89.8995 425.177,110.107 426.046,150.805 426.914,204.788 427.783,262.498 428.652,313.717 429.521,349.375 \n",
       "  430.39,363.16 431.259,352.63 432.128,319.649 432.997,270.059 433.866,212.638 434.735,157.554 435.604,114.56 436.473,91.2685 437.342,91.8036 438.211,116.071 \n",
       "  439.08,159.772 439.949,215.172 440.818,272.459 441.687,321.491 442.556,353.587 443.425,363.063 444.294,348.241 445.163,311.747 446.032,260.041 446.901,202.278 \n",
       "  447.77,148.687 448.639,108.756 449.508,89.555 450.377,94.4839 451.246,122.67 452.115,169.123 452.984,225.617 453.853,282.15 454.721,328.712 455.59,357.059 \n",
       "  456.459,362.171 457.328,343.144 458.197,303.346 459.066,249.825 459.935,192.055 460.804,140.267 461.673,103.63 462.542,88.6305 463.411,97.9246 464.28,129.867 \n",
       "  465.149,178.801 466.018,236.064 466.887,291.515 467.756,335.338 468.625,359.771 469.494,360.491 470.363,337.368 471.232,294.497 472.101,239.47 472.97,182.028 \n",
       "  473.839,132.343 474.708,99.2114 475.577,88.5004 476.446,102.106 477.315,137.619 478.184,188.752 479.053,246.451 479.922,300.5 480.791,341.329 481.66,361.708 \n",
       "  482.528,358.03 483.397,330.946 484.266,285.251 485.135,229.036 486.004,172.254 486.873,124.959 487.742,95.5261 488.611,89.1655 489.48,107.004 490.349,145.883 \n",
       "  491.218,198.918 492.087,256.719 492.956,309.053 493.825,346.651 494.694,362.859 495.563,354.805 496.432,323.915 497.301,275.66 498.17,218.583 499.039,162.79 \n",
       "  499.908,118.16 500.777,92.5952 501.646,90.622 502.515,112.59 503.384,154.609 504.253,209.239 505.122,266.809 505.991,317.123 506.86,351.274 507.729,363.215 \n",
       "  508.598,350.832 509.467,316.317 510.335,265.781 511.204,208.173 512.073,153.692 512.942,111.984 513.811,90.4359 514.68,92.8613 515.549,118.831 516.418,163.747 \n",
       "  517.287,219.657 518.156,276.661 519.025,324.665 519.894,355.171 520.763,362.777 521.632,346.136 522.501,308.194 523.37,255.671 524.239,197.864 525.108,145.011 \n",
       "  525.977,106.468 526.846,89.0605 527.581,93.2348 528.315,114.265 529.05,149.477 529.785,194.395 530.519,243.31 531.254,290.004 531.989,328.541 532.723,354.023 \n",
       "  533.458,363.21 534.193,354.935 534.928,330.25 535.662,292.292 536.397,245.887 537.132,196.933 537.866,151.653 538.601,115.802 539.336,93.9386 540.071,88.8412 \n",
       "  540.805,101.158 541.54,129.323 542.275,169.756 543.009,217.317 543.744,265.962 544.479,309.506 545.213,342.414 545.948,360.504 546.683,361.475 547.418,345.205 \n",
       "  548.152,313.761 548.887,271.14 549.622,222.761 550.356,174.773 551.091,133.275 551.826,103.543 552.56,89.3569 553.295,92.5187 554.03,112.627 554.765,147.126 \n",
       "  555.499,191.63 556.234,240.482 556.969,287.472 557.703,326.628 558.438,352.971 559.173,363.154 559.907,355.881 560.642,332.078 561.377,294.77 562.112,248.7 \n",
       "  562.846,199.723 563.581,154.065 564.316,117.531 565.05,94.7634 565.785,88.6573 566.52,99.9886 567.254,127.317 567.989,167.168 568.724,214.477 569.459,263.23 \n",
       "  570.193,307.23 570.928,340.883 571.663,359.912 572.397,361.898 573.132,346.588 573.867,315.93 574.602,273.819 575.336,225.608 576.071,177.427 576.806,135.399 \n",
       "  577.54,104.867 578.275,89.7118 579.01,91.86 579.744,111.038 580.479,144.809 581.214,188.88 581.949,237.648 582.683,284.915 583.418,324.671 584.153,351.865 \n",
       "  584.887,363.038 585.622,356.771 586.357,333.861 587.091,297.218 587.826,251.502 588.561,202.524 589.296,156.508 590.03,119.306 590.765,95.6445 591.5,88.5324 \n",
       "  592.234,98.8737 592.969,125.354 593.704,164.606 594.438,211.642 595.173,260.482 595.908,304.918 596.643,339.302 597.377,359.262 598.112,362.262 598.847,347.92 \n",
       "  599.581,318.06 600.316,276.477 601.051,228.456 601.785,180.102 602.52,137.562 603.255,106.243 603.99,90.1253 604.724,91.2588 605.459,109.499 606.194,142.527 \n",
       "  606.928,186.145 607.663,234.808 608.398,282.331 609.133,322.673 609.867,350.705 610.602,362.864 611.337,357.605 612.071,335.597 612.806,299.636 613.541,254.294 \n",
       "  614.275,205.335 615.01,158.982 615.745,121.127 616.48,96.5815 617.214,88.4666 617.949,97.8132 618.684,123.433 619.418,162.07 620.153,208.813 620.888,257.719 \n",
       "  621.686,306.06 622.484,342.39 623.282,361.272 624.08,359.878 624.878,338.417 625.676,300.102 626.474,250.669 627.272,197.518 628.071,148.607 628.869,111.257 \n",
       "  629.667,91.0606 630.465,91.0408 631.263,111.201 632.061,148.522 632.859,197.418 633.657,250.568 634.455,300.016 635.253,338.358 636.051,359.855 636.85,361.289 \n",
       "  637.648,342.444 638.446,306.143 639.244,257.819 640.042,204.707 640.84,154.758 641.638,115.45 642.436,92.6673 643.234,89.8208 644.032,107.337 644.831,142.592 \n",
       "  645.629,190.31 646.427,243.347 647.225,293.762 648.023,334.007 648.821,358.059 649.619,362.317 650.417,346.142 651.215,311.957 652.013,264.879 652.811,211.956 \n",
       "  653.61,161.111 654.408,119.955 655.206,94.651 656.004,88.9858 656.802,103.808 657.6,136.898 658.398,183.303 659.196,236.076 659.994,287.315 660.792,329.351 \n",
       "  661.59,355.889 662.389,362.958 663.187,349.499 663.985,317.527 664.783,271.828 665.581,219.244 666.379,167.646 667.177,124.76 667.975,97.0058 668.773,88.538 \n",
       "  669.571,100.625 670.369,131.456 671.168,176.417 671.966,228.776 672.764,280.695 673.562,324.401 674.36,353.351 675.158,363.212 675.956,352.507 676.754,322.838 \n",
       "  677.552,278.647 678.35,226.55 679.148,174.347 679.947,129.851 680.745,99.7253 681.543,88.4788 682.341,97.7956 683.139,126.281 683.937,169.67 684.735,221.468 \n",
       "  685.533,273.919 686.331,319.172 687.129,350.453 687.927,363.077 688.726,355.155 689.524,327.874 690.322,285.317 691.12,233.855 691.918,181.193 692.716,135.214 \n",
       "  693.514,102.802 694.312,88.8084 695.11,95.329 695.908,121.387 696.707,163.082 697.505,214.172 698.303,267.007 699.101,313.68 699.899,347.201 700.697,362.553 \n",
       "  701.495,357.438 702.293,332.621 703.091,291.818 703.889,241.137 704.687,188.165 705.486,140.833 706.284,106.226 707.082,89.5257 707.88,93.2317 708.678,116.789 \n",
       "  709.476,156.672 710.274,206.909 711.072,259.979 711.87,307.938 712.668,343.606 713.466,361.643 714.265,359.348 715.063,337.066 715.861,298.133 716.659,248.376 \n",
       "  717.457,195.244 718.255,146.692 719.053,109.989 719.851,90.6287 720.649,91.5097 721.447,112.5 722.245,150.458 723.044,199.7 723.779,248.747 724.515,294.874 \n",
       "  725.251,332.199 725.987,355.966 726.722,363.143 727.458,352.817 728.194,326.303 728.93,286.981 729.665,239.864 730.401,190.96 731.137,146.501 731.873,112.156 \n",
       "  732.609,92.3025 733.344,89.4723 734.08,104.026 734.816,134.108 735.552,175.883 736.287,224.027 737.023,272.401 737.759,314.839 738.495,345.931 739.231,361.713 \n",
       "  739.966,360.173 740.702,341.508 741.438,308.098 742.174,264.2 742.909,215.412 743.645,167.952 744.381,127.872 745.117,100.28 745.852,88.6942 746.588,94.591 \n",
       "  747.324,117.219 748.06,153.694 748.796,199.365 749.531,248.411 750.267,294.579 751.003,331.983 751.739,355.856 752.474,363.154 753.21,352.947 753.946,326.535 \n",
       "  754.682,287.286 755.417,240.204 756.153,191.29 756.889,146.779 757.625,112.347 758.361,92.3831 759.096,89.4313 759.832,103.868 760.568,133.854 761.304,175.566 \n",
       "  762.039,223.686 762.775,272.08 763.511,314.579 764.247,345.765 764.982,361.662 765.718,360.244 766.454,341.692 767.19,308.371 767.926,264.527 768.661,215.752 \n",
       "  769.397,168.262 770.133,128.111 770.869,100.419 771.604,88.7147 772.34,94.4907 773.076,117.011 773.812,153.404 774.547,199.03 775.283,248.074 776.019,294.283 \n",
       "  776.755,331.767 777.491,355.746 778.226,363.164 778.962,353.076 779.698,326.767 780.434,287.591 781.169,240.543 781.905,191.62 782.641,147.059 783.377,112.54 \n",
       "  784.113,92.4645 784.848,89.3912 785.584,103.712 786.32,133.601 787.056,175.248 787.791,223.345 788.527,271.758 789.263,314.318 789.999,345.598 790.734,361.61 \n",
       "  791.47,360.314 792.206,341.875 792.942,308.643 793.678,264.855 794.413,216.092 795.149,168.572 795.885,128.351 796.621,100.559 797.356,88.736 798.092,94.3911 \n",
       "  798.828,116.803 799.564,153.114 800.299,198.696 801.035,247.738 801.771,293.987 802.507,331.549 803.243,355.634 803.978,363.173 804.714,353.204 805.45,326.998 \n",
       "  806.186,287.895 806.921,240.882 807.657,191.95 808.393,147.338 809.129,112.733 809.864,92.5467 810.6,89.3518 811.336,103.556 812.072,133.349 812.808,174.931 \n",
       "  813.543,223.004 814.279,271.437 815.015,314.057 815.751,345.43 816.486,361.558 817.222,360.384 818.011,340.122 818.8,303.142 819.589,254.852 820.377,202.318 \n",
       "  821.166,153.224 821.955,114.752 822.744,92.5314 823.533,89.8119 824.322,106.992 825.11,141.557 825.899,188.452 826.688,240.816 827.477,290.989 828.266,331.63 \n",
       "  829.055,356.794 829.843,362.8 830.632,348.77 831.421,316.755 832.21,271.439 832.999,219.452 833.787,168.399 834.576,125.749 835.365,97.7402 836.154,88.471 \n",
       "  836.943,99.2972 837.732,128.635 838.52,172.192 839.309,223.597 840.098,275.33 840.887,319.822 841.676,350.565 842.465,363.06 843.253,355.481 844.042,328.936 \n",
       "  844.831,287.308 845.62,236.688 846.409,184.479 847.197,138.321 847.986,104.966 848.775,89.2926 849.564,93.5947 850.353,117.243 851.142,156.777 851.93,206.414 \n",
       "  852.719,258.892 853.508,306.535 854.297,342.371 855.086,361.16 855.875,360.152 856.663,339.494 857.452,302.21 858.241,253.752 859.03,201.21 859.819,152.271 \n",
       "  860.607,114.094 861.396,92.2639 862.185,89.9742 862.974,107.56 863.763,142.448 864.552,189.536 865.34,241.934 866.129,291.977 866.918,332.344 867.707,357.129 \n",
       "  868.496,362.708 869.285,348.263 870.073,315.909 870.862,270.377 871.651,218.329 872.44,167.38 873.229,124.982 874.017,97.338 874.806,88.4926 875.595,99.7393 \n",
       "  876.384,129.433 877.173,173.23 877.962,224.722 878.75,276.378 879.539,320.639 880.328,351.032 881.117,363.109 881.906,355.105 882.695,328.189 883.483,286.3 \n",
       "  884.272,235.566 885.061,183.408 885.85,137.457 886.639,104.435 887.427,89.1732 888.216,93.9039 889.005,117.935 889.794,157.751 890.583,207.528 891.372,259.983 \n",
       "  892.16,307.442 892.949,342.963 893.738,361.349 894.527,359.911 895.316,338.859 896.105,301.272 896.893,252.65 897.682,200.105 898.471,151.324 899.26,113.444 \n",
       "  900.049,92.0054 900.837,90.1455 901.626,108.136 902.415,143.345 903.204,190.622 903.993,243.05 904.782,292.96 905.57,333.051 906.359,357.456 907.148,362.607 \n",
       "  907.937,347.749 908.726,315.056 909.515,269.311 910.303,217.206 911.092,166.364 911.881,124.221 912.67,96.9445 913.459,88.5233 914.247,100.19 915.036,130.237 \n",
       "  915.825,174.27 916.614,225.847 917.403,277.422 918.192,321.45 919.106,354.644 920.019,362.651 920.933,343.904 921.847,302.07 922.761,245.328 923.675,184.775 \n",
       "  924.589,132.251 925.503,98.0273 926.417,88.7956 927.331,106.361 928.245,147.29 929.159,203.577 930.073,264.218 930.987,317.352 931.901,352.592 932.814,363.045 \n",
       "  933.728,346.667 934.642,306.662 935.556,250.851 936.47,190.149 937.384,136.426 938.298,100.186 939.212,88.5157 940.126,103.698 941.04,142.764 941.954,198.074 \n",
       "  942.868,258.813 943.782,313.103 944.696,350.329 945.61,363.211 946.523,349.23 947.437,311.12 948.351,256.333 949.265,195.583 950.179,140.748 951.093,102.552 \n",
       "  952.007,88.4638 952.921,101.238 953.835,138.376 954.749,192.616 955.663,253.353 956.577,308.709 957.491,347.859 958.405,363.148 959.318,351.587 960.232,315.436 \n",
       "  961.146,261.764 962.06,201.066 962.974,145.212 963.888,105.124 964.802,88.6399 965.716,98.9838 966.63,134.133 967.544,187.214 968.458,247.848 969.372,304.177 \n",
       "  970.286,345.187 971.2,362.858 972.113,353.736 973.027,319.604 973.941,267.135 974.855,206.591 975.769,149.81 976.683,107.896 977.597,89.0437 978.511,96.9407 \n",
       "  979.425,130.042 980.339,181.876 981.253,242.306 982.167,299.515 983.081,342.316 983.995,362.341 984.908,355.673 985.822,323.616 986.736,272.438 987.65,212.148 \n",
       "  988.564,154.534 989.478,110.863 990.392,89.6746 991.306,95.1115 992.22,126.111 993.134,176.611 994.048,236.736 994.962,294.731 995.876,339.253 996.79,361.597 \n",
       "  997.703,357.394 998.617,327.465 999.531,277.664 1000.45,217.727 1001.36,159.377 1002.27,114.022 1003.19,90.5315 1004.1,93.4993 1005.01,122.345 1005.93,171.427 \n",
       "  1006.84,231.149 1007.76,289.832 1008.67,336.001 1009.58,360.628 1010.5,358.896 1011.41,331.146 1012.33,282.803 1013.24,223.32 1014.15,164.329 1015.07,117.366 \n",
       "  1015.98,91.613 1016.9,92.1067 1017.81,118.75 1018.72,166.334 1019.64,225.553 1020.55,284.827 1021.47,332.566 1022.38,359.434 1023.29,360.178 1024.21,334.652 \n",
       "  1025.12,287.848 1026.04,228.917 1026.95,169.384 1027.86,120.89 1028.78,92.9172 1029.69,90.9361 1030.6,115.334 1031.52,161.34 1032.43,219.957 1033.35,279.725 \n",
       "  1034.26,328.954 1035.17,358.02 1035.99,362.223 1036.8,345.291 1037.61,309.846 1038.42,261.382 1039.24,207.409 1040.05,156.292 1040.86,115.952 1041.67,92.6416 \n",
       "  1042.48,89.9725 1043.3,108.358 1044.11,144.95 1044.92,194.077 1045.73,248.126 1046.55,298.72 1047.36,338.019 1048.17,359.933 1048.98,361.066 1049.79,341.241 \n",
       "  1050.61,303.532 1051.42,253.782 1052.23,199.701 1053.04,149.671 1053.86,111.443 1054.67,90.9441 1055.48,91.3493 1056.29,112.596 1057.1,151.392 1057.92,201.725 \n",
       "  1058.73,255.794 1059.54,305.221 1060.35,342.345 1061.16,361.413 1061.98,359.471 1062.79,336.818 1063.6,296.967 1064.41,246.092 1065.23,192.078 1066.04,143.295 \n",
       "  1066.85,107.304 1067.66,89.6826 1068.47,93.1609 1069.29,117.2 1070.1,158.075 1070.91,209.451 1071.72,263.366 1072.54,311.465 1073.35,346.294 1074.16,362.455 \n",
       "  1074.97,357.444 1075.78,332.037 1076.6,290.172 1077.41,238.336 1078.22,184.564 1079.03,137.187 1079.85,103.549 1080.66,88.8614 1081.47,95.4014 1082.28,122.155 \n",
       "  1083.09,164.977 1083.91,217.23 1084.72,270.817 1085.53,317.433 1086.34,349.854 1087.15,363.055 1087.97,354.992 1088.78,326.912 1089.59,283.169 1090.4,230.541 \n",
       "  1091.22,177.183 1092.03,131.365 1092.84,100.188 1093.65,88.4829 1094.46,98.0636 1095.28,127.446 1096.09,172.075 1096.9,225.036 1097.71,278.122 1098.53,323.104 \n",
       "  1099.34,353.012 1100.15,363.212 1100.96,352.122 1101.77,321.461 1102.59,275.981 1103.4,222.729 1104.21,169.96 1105.02,125.849 1105.84,97.234 1106.65,88.5485 \n",
       "  1107.46,101.139 1108.27,133.054 1109.08,179.348 1109.9,232.846 1110.71,285.258 1111.52,328.461 1112.33,355.76 1113.15,362.924 1113.96,348.843 1114.77,315.7 \n",
       "  1115.58,268.63 1116.39,214.928 1117.21,162.917 1118.02,120.656 1118.83,94.6955 1119.64,89.0579 1120.45,104.617 1121.27,138.962 1122.08,186.77 1122.89,240.632 \n",
       "  1123.7,292.201 1124.52,333.486 1125.33,358.087 1126.14,362.193 1126.95,345.168 1127.76,309.649 1128.58,261.141 1129.39,207.163 1130.2,156.078 1131.01,115.803 \n",
       "  1131.83,92.5809 1132.64,90.0095 1133.45,108.488 1134.26,145.151 1135.07,194.319 1135.89,248.371 1136.7,298.931 1137.51,338.163 1138.32,359.987 1139.14,361.022 \n",
       "  1139.85,344.613 1140.56,314.007 1141.27,272.862 1141.98,226.095 1142.7,179.298 1143.41,138.063 1144.12,107.32 1144.83,90.7435 1145.55,90.3146 1146.26,106.085 \n",
       "  1146.97,136.169 1147.68,176.971 1148.39,223.614 1149.11,270.523 1149.82,312.09 1150.53,343.347 1151.24,360.558 1151.96,361.665 1152.67,346.537 1153.38,316.981 \n",
       "  1154.09,276.53 1154.8,230.02 1155.52,183.01 1156.23,141.119 1156.94,109.354 1157.65,91.5121 1158.37,89.7264 1159.08,104.21 1159.79,133.232 1160.5,173.323 \n",
       "  1161.21,219.69 1161.93,266.793 1162.64,308.999 1163.35,341.266 1164.06,359.734 1164.78,362.198 1165.49,348.362 1166.2,319.881 1166.91,280.158 1167.62,233.942 \n",
       "  1168.34,186.757 1169.05,144.243 1169.76,111.482 1170.47,92.3903 1171.19,89.2492 1171.9,102.435 1172.61,130.37 1173.32,169.717 1174.03,215.772 1174.75,263.029 \n",
       "  1175.46,305.841 1176.17,339.09 1176.88,358.802 1177.6,362.619 1178.31,350.087 1179.02,322.703 1179.73,283.741 1180.44,237.857 1181.16,190.536 1181.87,147.434 \n",
       "  1182.58,113.704 1183.29,93.3775 1184.01,88.8836 1184.72,100.76 1185.43,127.587 1186.14,166.157 1186.85,211.861 1187.57,259.236 1188.28,302.618 1188.99,336.822 \n",
       "  1189.7,357.76 1190.42,362.929 1191.13,351.711 1191.84,325.447 1192.55,287.276 1193.26,241.762 1193.98,194.343 1194.69,150.689 1195.4,116.018 1196.11,94.4728 \n",
       "  1196.83,88.6298 1197.54,99.1873 1198.25,124.883 1198.96,162.646 1199.67,207.962 1200.39,255.415 1201.1,299.332 1201.81,334.464 1202.52,356.611 1203.24,363.127 \n",
       "  1203.95,353.232 1204.66,328.11 1205.37,290.762 1206.08,245.654 1206.8,198.177 1207.51,154.006 1208.22,118.421 1208.93,95.6754 1209.65,88.4881 1210.36,97.7181 \n",
       "  1211.07,122.262 1211.78,159.187 1212.49,204.078 1213.21,251.57 1213.92,295.986 1214.63,332.016 1215.34,355.355 1216.06,363.213 1216.77,354.649 1217.48,330.688 \n",
       "  1218.19,294.195 1218.9,249.53 1219.62,202.033 1220.33,157.381 1221.04,120.912 1221.75,96.9842 1222.47,88.4585 1223.18,96.3536 1223.89,119.726 1224.6,155.782 \n",
       "  1225.31,200.211 1226.03,247.704 1226.74,292.582 1227.45,329.482 1228.16,353.994 1228.87,363.186 1229.59,355.961 1230.3,333.182 1231.08,293.862 1231.85,244.895 \n",
       "  1232.63,193.225 1233.41,146.179 1234.18,110.431 1234.96,91.0483 1235.74,90.7806 1236.51,109.666 1237.29,145.026 1238.06,191.846 1238.84,243.486 1239.62,292.623 \n",
       "  1240.39,332.289 1241.17,356.858 1241.95,362.846 1242.72,349.405 1243.5,318.439 1244.28,274.341 1245.05,223.364 1245.83,172.737 1246.61,129.641 1247.38,100.187 \n",
       "  1248.16,88.5515 1248.94,96.3851 1249.71,122.577 1250.49,163.412 1251.27,213.1 1252.04,264.594 1252.82,310.592 1253.59,344.57 1254.37,361.709 1255.15,359.58 \n",
       "  1255.92,338.484 1256.7,301.413 1257.48,253.624 1258.25,201.894 1259.03,153.559 1259.81,115.474 1260.58,93.0407 1261.36,89.4392 1262.14,105.181 1262.91,138.033 \n",
       "  1263.69,183.337 1264.47,234.668 1265.24,284.747 1266.02,326.471 1266.8,353.923 1267.57,363.211 1268.35,353.017 1269.12,324.787 1269.9,282.524 1270.68,232.222 \n",
       "  1271.45,181.014 1272.23,136.163 1273.01,104.028 1273.78,89.1682 1274.56,93.6896 1275.34,116.951 1276.11,155.654 1276.89,204.31 1277.67,256.019 1278.44,303.447 \n",
       "  1279.22,339.869 1280,360.12 1280.77,361.327 1281.55,343.321 1282.33,308.655 1283.1,262.248 1283.88,210.685 1284.66,161.284 1285.43,121.064 1286.21,95.7494 \n",
       "  1286.98,88.9666 1287.76,101.738 1288.54,132.352 1289.31,176.623 1290.09,228.512 1290.87,281.021 1291.64,327.226 1292.42,361.32 1293.2,379.497 1293.97,380.563 \n",
       "  1294.75,366.186 1295.53,340.731 1296.3,310.71 1297.08,283.913 1297.86,268.343 1298.63,271.093 1299.41,297.33 1300.19,349.522 1300.96,427.032 1301.74,526.127 \n",
       "  1302.51,640.407 1303.29,761.61 1304.07,880.668 1304.84,988.879 1305.62,1079.02 1306.4,1146.24 1307.17,1188.68 1307.95,1207.57 1308.73,1206.99 1309.5,1193.22 \n",
       "  1310.28,1173.77 1311.06,1156.28 1311.83,1147.44 1312.61,1152.03 1313.39,1172.31 1314.16,1207.72 1314.94,1255.06 1315.72,1309.01 1316.49,1362.94 1317.27,1409.95 \n",
       "  1318.05,1443.9 1318.82,1460.32 1319.6,1457.15 1320.37,1434.97 1321.15,1397.03 1321.93,1348.78 1322.7,1297.09 1323.48,1249.32 1324.26,1212.25 1325.03,1191.14 \n",
       "  1325.81,1189 1326.59,1206.12 1327.36,1240.09 1328.14,1286.08 1328.92,1337.57 1329.69,1387.27 1330.47,1428.31 1331.26,1454.52 1332.04,1462.13 1332.82,1450.04 \n",
       "  1333.6,1420 1334.38,1376.3 1335.16,1325.23 1335.94,1274.11 1336.72,1230.27 1337.5,1200.01 1338.29,1187.66 1339.07,1195.01 1339.85,1220.99 1340.63,1261.87 \n",
       "  1341.41,1311.8 1342.19,1363.6 1342.97,1409.85 1343.75,1443.9 1344.53,1460.88 1345.32,1458.35 1346.1,1436.66 1346.88,1398.93 1347.66,1350.58 1348.44,1298.54 \n",
       "  1349.22,1250.28 1350,1212.73 1350.78,1191.26 1351.56,1188.97 1352.35,1206.18 1353.13,1240.42 1353.91,1286.78 1354.69,1338.61 1355.47,1388.46 1356.25,1429.2 \n",
       "  1357.03,1454.96 1357.81,1462.06 1358.59,1449.48 1359.38,1419.02 1360.16,1375.05 1360.94,1323.88 1361.72,1272.86 1362.5,1229.3 1363.28,1199.45 1364.06,1187.61 \n",
       "  1364.84,1195.45 1365.62,1221.87 1366.41,1263.07 1367.19,1313.14 1367.97,1364.89 1368.75,1410.9 1369.53,1444.57 1370.31,1461.07 1371.09,1458.02 1371.87,1435.87 \n",
       "  1372.65,1397.8 1373.44,1349.26 1374.22,1297.22 1375,1249.16 1375.78,1211.96 1376.56,1190.96 1377.34,1189.17 1378.12,1206.86 1378.9,1241.49 1379.68,1288.08 \n",
       "  1380.47,1339.95 1381.25,1389.65 1382.03,1430.07 1382.81,1455.39 1383.59,1461.98 1384.37,1448.91 1385.15,1418.03 1385.93,1373.8 1386.72,1322.54 1387.5,1271.62 \n",
       "  1388.28,1228.34 1389.06,1198.91 1389.84,1187.56 1390.62,1195.91 1391.4,1222.77 1392.18,1264.28 1392.96,1314.48 1393.75,1366.18 1394.53,1411.95 1395.31,1445.23 \n",
       "  1396.09,1461.24 1396.87,1457.68 1397.65,1435.07 1398.43,1396.65 1399.21,1347.93 1399.99,1295.91 1400.78,1248.04 1401.56,1211.19 1402.34,1190.66 1403.12,1189.39 \n",
       "  1403.9,1207.56 1404.68,1242.56 1405.46,1289.38 1406.24,1341.28 1407.02,1390.84 1407.81,1430.93 1408.59,1455.8 1409.37,1461.89 1410.15,1448.32 1410.93,1417.04 \n",
       "  1411.71,1372.53 1412.49,1321.19 1413.27,1270.38 1414.05,1227.38 1414.84,1198.38 1415.62,1187.53 1416.4,1196.38 1417.18,1223.67 1417.96,1265.49 1418.74,1315.83 \n",
       "  1419.52,1367.46 1420.3,1412.99 1421.08,1445.87 1421.87,1461.39 1422.65,1457.33 1423.43,1434.26 1424.21,1395.5 1424.99,1346.6 1425.77,1294.59 1426.55,1246.92 \n",
       "  1427.33,1210.44 1428.11,1190.38 1428.9,1189.62 1429.68,1208.27 1430.54,1248.17 1431.4,1301.49 1432.27,1358.9 1433.13,1410.36 1434,1446.87 1434.86,1462.04 \n",
       "  1435.72,1453.22 1436.59,1421.94 1437.45,1373.69 1438.31,1316.9 1439.18,1261.51 1440.04,1217.2 1440.9,1191.72 1441.77,1189.54 1442.63,1211.04 1443.5,1252.45 \n",
       "  1444.36,1306.52 1445.22,1363.81 1446.09,1414.29 1446.95,1449.13 1447.81,1462.24 1448.68,1451.31 1449.54,1418.27 1450.4,1368.9 1451.27,1311.82 1452.13,1257.03 \n",
       "  1453,1214.11 1453.86,1190.56 1454.72,1190.51 1455.59,1213.97 1456.45,1256.82 1457.31,1311.58 1458.18,1368.67 1459.04,1418.1 1459.9,1451.22 1460.77,1462.24 \n",
       "  1461.63,1449.23 1462.5,1414.48 1463.36,1364.04 1464.22,1306.76 1465.09,1252.65 1465.95,1211.17 1466.81,1189.59 1467.68,1191.67 1468.54,1217.05 1469.4,1261.29 \n",
       "  1470.27,1316.66 1471.13,1373.47 1472,1421.77 1472.86,1453.13 1473.72,1462.06 1474.59,1446.98 1475.45,1410.55 1476.31,1359.14 1477.18,1301.73 1478.04,1248.37 \n",
       "  1478.9,1208.39 1479.77,1188.79 1480.63,1193 1481.5,1220.28 1482.36,1265.85 1483.22,1321.75 1484.09,1378.2 1484.95,1425.32 1485.81,1454.87 1486.68,1461.68 \n",
       "  1487.54,1444.57 1488.4,1406.51 1489.27,1354.18 1490.13,1296.72 1490.99,1244.19 1491.86,1205.77 1492.72,1188.19 1493.59,1194.52 1494.45,1223.65 1495.31,1270.49 \n",
       "  1496.18,1326.84 1497.04,1382.85 1497.9,1428.72 1498.77,1456.43 1499.63,1461.12 1500.49,1441.98 1501.36,1402.36 1502.22,1349.19 1503.09,1291.76 1503.95,1240.13 \n",
       "  1504.81,1203.32 1505.68,1187.77 1506.54,1196.21 1507.4,1227.16 1508.27,1275.2 1509.13,1331.93 1509.99,1387.43 1510.86,1431.98 1511.72,1457.81 1512.59,1460.37 \n",
       "  1513.45,1439.24 1514.31,1398.1 1515.18,1344.16 1516.04,1286.84 1516.9,1236.18 1517.77,1201.03 1518.63,1187.55 1519.49,1198.09 1520.36,1230.81 1521.22,1279.98 \n",
       "  1522.09,1337.01 1522.95,1391.92 1523.81,1435.1 1524.68,1459 1525.54,1459.44 1526.4,1436.34 1527.27,1393.74 1528.13,1339.1 1528.99,1281.97 1529.86,1232.35 \n",
       "  1530.72,1198.91 1531.59,1187.51 1532.45,1200.14 1533.31,1234.58 1534.18,1284.83 1535.04,1342.08 1535.9,1396.32 1536.77,1438.06 1537.63,1460.01 1538.49,1458.32 \n",
       "  1539.36,1433.29 1540.22,1389.29 1541.04,1336.83 1541.87,1282.47 1542.69,1234.84 1543.51,1201.49 1544.33,1187.7 1545.15,1195.67 1545.97,1224.13 1546.8,1268.57 \n",
       "  1547.62,1321.94 1548.44,1375.77 1549.26,1421.53 1550.08,1451.97 1550.9,1462.25 1551.73,1450.75 1552.55,1419.29 1553.37,1372.85 1554.19,1318.81 1555.01,1265.73 \n",
       "  1555.83,1222.03 1556.66,1194.64 1557.48,1187.91 1558.3,1202.89 1559.12,1237.22 1559.94,1285.46 1560.77,1339.94 1561.59,1392.04 1562.41,1433.48 1563.23,1457.71 \n",
       "  1564.05,1460.87 1564.87,1442.46 1565.7,1405.41 1566.52,1355.59 1567.34,1300.9 1568.16,1250.01 1568.98,1210.99 1569.8,1190.04 1570.63,1190.47 1571.45,1212.22 \n",
       "  1572.27,1251.83 1573.09,1303.02 1573.91,1357.69 1574.73,1407.15 1575.56,1443.56 1576.38,1461.16 1577.2,1457.14 1578.02,1432.15 1578.84,1390.14 1579.67,1337.79 \n",
       "  1580.49,1283.39 1581.31,1235.57 1582.13,1201.92 1582.95,1187.76 1583.77,1195.35 1584.6,1223.48 1585.42,1267.69 1586.24,1320.97 1587.06,1374.87 1587.88,1420.84 \n",
       "  1588.7,1451.6 1589.53,1462.26 1590.35,1451.13 1591.17,1419.99 1591.99,1373.76 1592.81,1319.78 1593.63,1266.61 1594.46,1222.68 1595.28,1194.95 1596.1,1187.84 \n",
       "  1596.92,1202.45 1597.74,1236.48 1598.56,1284.53 1599.39,1338.98 1600.21,1391.19 1601.03,1432.89 1601.85,1457.46 1602.67,1461 1603.5,1442.96 1604.32,1406.19 \n",
       "  1605.14,1356.53 1605.96,1301.85 1606.78,1250.82 1607.6,1211.54 1608.43,1190.23 1609.25,1190.27 1610.07,1211.66 1610.89,1251.01 1611.71,1302.07 1612.53,1356.75 \n",
       "  1613.36,1406.37 1614.18,1443.07 1615,1461.03 1615.82,1457.4 1616.64,1432.75 1617.46,1390.99 1618.29,1338.76 1619.11,1284.32 1619.93,1236.31 1620.75,1202.35 \n",
       "  1621.57,1187.82 1622.39,1195.03 1623.22,1222.83 1624.04,1266.81 1624.86,1320 1625.68,1373.97 1626.5,1420.15 1627.33,1451.22 1628.15,1462.26 1628.97,1451.51 \n",
       "  1629.79,1420.68 1630.61,1374.66 1631.43,1320.74 1632.26,1267.48 1633.08,1223.32 1633.9,1195.27 1634.72,1187.77 1635.54,1202.02 1636.36,1235.74 1637.19,1283.61 \n",
       "  1638.01,1338.02 1638.83,1390.34 1639.65,1432.29 1640.47,1457.2 1641.29,1461.13 1642.12,1443.45 1642.94,1406.97 1643.76,1357.47 1644.58,1302.8 1645.4,1251.64 \n",
       "  1646.26,1210.85 1647.11,1189.59 1647.97,1191.5 1648.82,1216.26 1649.68,1259.61 1650.53,1314.15 1651.38,1370.52 1652.24,1419.08 1653.09,1451.5 1653.95,1462.24 \n",
       "  1654.8,1449.45 1655.66,1415.33 1656.51,1365.72 1657.36,1309.12 1658.22,1255.21 1659.07,1213.24 1659.93,1190.38 1660.78,1190.56 1661.64,1213.75 1662.49,1255.96 \n",
       "  1663.35,1309.98 1664.2,1366.55 1665.05,1415.99 1665.91,1449.82 1666.76,1462.25 1667.62,1451.16 1668.47,1418.44 1669.33,1369.7 1670.18,1313.28 1671.04,1258.85 \n",
       "  1671.89,1215.73 1672.74,1191.3 1673.6,1189.75 1674.45,1211.34 1675.31,1252.37 1676.16,1305.83 1677.02,1362.54 1677.87,1412.81 1678.72,1448.02 1679.58,1462.14 \n",
       "  1680.43,1452.75 1681.29,1421.46 1682.14,1373.64 1683,1317.46 1683.85,1262.55 1684.71,1218.32 1685.56,1192.34 1686.41,1189.06 1687.27,1209.03 1688.12,1248.85 \n",
       "  1688.98,1301.69 1689.83,1358.5 1690.69,1409.55 1691.54,1446.1 1692.4,1461.9 1693.25,1454.22 1694.1,1424.39 1694.96,1377.53 1695.81,1321.64 1696.67,1266.31 \n",
       "  1697.52,1221.01 1698.38,1193.5 1699.23,1188.49 1700.09,1206.84 1700.94,1245.4 1701.79,1297.58 1702.65,1354.43 1703.5,1406.22 1704.36,1444.08 1705.21,1461.53 \n",
       "  1706.07,1455.57 1706.92,1427.23 1707.77,1381.37 1708.63,1325.83 1709.48,1270.12 1710.34,1223.8 1711.19,1194.79 1712.05,1188.05 1712.9,1204.75 1713.76,1242.02 \n",
       "  1714.61,1293.49 1715.46,1350.33 1716.32,1402.81 1717.17,1441.94 1718.03,1461.03 1718.88,1456.8 1719.74,1429.98 1720.59,1385.16 1721.45,1330.01 1722.3,1273.99 \n",
       "  1723.15,1226.68 1724.01,1196.19 1724.86,1187.74 1725.72,1202.78 1726.57,1238.72 1727.43,1289.43 1728.28,1346.2 1729.13,1399.32 1729.99,1439.7 1730.84,1460.41 \n",
       "  1731.7,1457.91 1732.55,1432.62 1733.41,1388.89 1734.26,1334.19 1735.12,1277.9 1735.97,1229.65 1736.82,1197.72 1737.68,1187.56 1738.53,1200.92 1739.39,1235.5 \n",
       "  1740.24,1285.4 1741.1,1342.06 1741.95,1395.77 1742.81,1437.35 1743.66,1459.66 1744.51,1458.89 1745.37,1435.17 1746.22,1392.56 1747.08,1338.36 1747.93,1281.85 \n",
       "  1748.79,1232.71 1749.64,1199.36 1750.49,1187.5 1751.35,1199.17 1752.2,1232.37 1753.06,1281.41 1753.91,1337.9 1754.77,1392.15 1755.49,1429.23 1756.21,1453.59 \n",
       "  1756.92,1462.26 1757.64,1454.19 1758.36,1430.36 1759.08,1393.68 1759.8,1348.61 1760.52,1300.65 1761.24,1255.64 1761.96,1219.07 1762.68,1195.4 1763.4,1187.51 \n",
       "  1764.12,1196.36 1764.84,1220.87 1765.56,1258.05 1766.27,1303.39 1766.99,1351.34 1767.71,1396.07 1768.43,1432.12 1769.15,1455.1 1769.87,1462.21 1770.59,1452.59 \n",
       "  1771.31,1427.4 1772.03,1389.72 1772.75,1344.14 1773.47,1296.2 1774.19,1251.77 1774.91,1216.24 1775.62,1193.96 1776.34,1187.63 1777.06,1198.02 1777.78,1223.88 \n",
       "  1778.5,1262.05 1779.22,1307.87 1779.94,1355.77 1780.66,1399.9 1781.38,1434.89 1782.1,1456.47 1782.82,1462.02 1783.54,1450.85 1784.26,1424.33 1784.97,1385.69 \n",
       "  1785.69,1339.64 1786.41,1291.79 1787.13,1247.98 1787.85,1213.53 1788.57,1192.66 1789.29,1187.9 1790.01,1199.83 1790.73,1227 1791.45,1266.11 1792.17,1312.37 \n",
       "  1792.89,1360.16 1793.61,1403.65 1794.32,1437.54 1795.04,1457.7 1795.76,1461.67 1796.48,1448.98 1797.2,1421.15 1797.92,1381.6 1798.64,1335.13 1799.36,1287.42 \n",
       "  1800.08,1244.27 1800.8,1210.94 1801.52,1191.5 1802.24,1188.32 1802.96,1201.77 1803.67,1230.23 1804.39,1270.23 1805.11,1316.89 1805.83,1364.52 1806.55,1407.32 \n",
       "  1807.27,1440.07 1807.99,1458.79 1808.71,1461.18 1809.43,1446.97 1810.15,1417.87 1810.87,1377.45 1811.59,1330.61 1812.31,1283.08 1813.02,1240.64 1813.74,1208.47 \n",
       "  1814.46,1190.49 1815.18,1188.88 1815.9,1203.85 1816.62,1233.57 1817.34,1274.41 1818.06,1321.41 1818.78,1368.83 1819.5,1410.89 1820.22,1442.47 1820.94,1459.72 \n",
       "  1821.66,1460.54 1822.37,1444.82 1823.09,1414.49 1823.81,1373.23 1824.53,1326.09 1825.25,1278.79 1825.97,1237.11 1826.69,1206.13 1827.41,1189.62 1828.13,1189.6 \n",
       "  1828.85,1206.06 1829.57,1237 1830.29,1278.65 1831.01,1325.94 1831.72,1373.1 1832.44,1414.38 1833.16,1444.75 1833.88,1460.52 1834.6,1459.75 1835.32,1442.55 \n",
       "  1836.04,1411.01 1836.76,1368.97 1837.48,1321.56 1838.2,1274.55 1838.92,1233.68 1839.64,1203.92 1840.35,1188.9 1841.07,1190.46 1841.79,1208.39 1842.51,1240.53 \n",
       "  1843.23,1282.94 1843.95,1330.46 1844.67,1377.31 1845.39,1417.76 1846.11,1446.9 1846.83,1461.16 1847.71,1456.05 1848.58,1427.23 1849.46,1379.91 1850.34,1322.64 \n",
       "  1851.22,1265.78 1852.1,1219.6 1852.97,1192.45 1853.85,1189.24 1854.73,1210.54 1855.61,1252.5 1856.49,1307.55 1857.37,1365.73 1858.24,1416.53 1859.12,1450.76 \n",
       "  1860,1462.24 1860.88,1448.9 1861.76,1413.14 1862.63,1361.42 1863.51,1303.11 1864.39,1248.72 1865.27,1208.11 1866.15,1188.6 1867.02,1193.72 1867.9,1222.55 \n",
       "  1868.78,1269.87 1869.66,1327.14 1870.54,1384 1871.41,1430.17 1872.29,1457.31 1873.17,1460.52 1874.05,1439.22 1874.93,1397.24 1875.81,1342.19 1876.68,1284.01 \n",
       "  1877.56,1233.22 1878.44,1198.99 1879.32,1187.52 1880.2,1200.87 1881.07,1236.64 1881.95,1288.36 1882.83,1346.67 1883.71,1401.05 1884.59,1441.66 1885.46,1461.17 \n",
       "  1886.34,1456.04 1887.22,1427.2 1888.1,1379.87 1888.98,1322.61 1889.85,1265.75 1890.73,1219.58 1891.61,1192.44 1892.49,1189.24 1893.37,1210.56 1894.25,1252.54 \n",
       "  1895.12,1307.59 1896,1365.77 1896.88,1416.56 1897.76,1450.78 1898.64,1462.24 1899.51,1448.88 1900.39,1413.11 1901.27,1361.39 1902.15,1303.07 1903.03,1248.69 \n",
       "  1903.9,1208.09 1904.78,1188.59 1905.66,1193.73 1906.54,1222.57 1907.42,1269.9 1908.29,1327.17 1909.17,1384.03 1910.05,1430.19 1910.93,1457.32 1911.81,1460.52 \n",
       "  1912.69,1439.19 1913.56,1397.21 1914.44,1342.15 1915.32,1283.97 1916.2,1233.19 1917.08,1198.98 1917.95,1187.52 1918.83,1200.89 1919.71,1236.67 1920.59,1288.39 \n",
       "  1921.47,1346.71 1922.34,1401.09 1923.22,1441.68 1924.1,1461.17 1924.98,1456.03 1925.86,1427.18 1926.73,1379.84 1927.61,1322.57 1928.49,1265.71 1929.37,1219.55 \n",
       "  1930.25,1192.43 1931.13,1189.25 1932,1210.58 1932.88,1252.57 1933.76,1307.63 1934.64,1365.81 1935.52,1416.59 1936.39,1450.79 1937.27,1462.24 1938.15,1448.86 \n",
       "  1939.03,1413.08 1939.91,1361.35 1940.78,1303.03 1941.66,1248.66 1942.54,1208.07 1943.42,1188.59 1944.3,1193.74 1945.17,1222.6 1946.05,1269.94 1946.93,1327.21 \n",
       "  1947.81,1384.07 1948.69,1430.22 1949.57,1457.34 1950.44,1460.51 1951.32,1439.17 1952.2,1397.18 1953.08,1342.11 1953.96,1283.94 1954.83,1233.16 1955.71,1198.96 \n",
       "  1956.59,1187.52 1957.47,1200.91 1958.35,1236.7 1959.22,1288.43 1960.05,1343.26 1960.88,1395.15 1961.7,1435.79 1962.53,1458.69 1963.35,1460.18 1964.18,1440.02 \n",
       "  1965,1401.44 1965.83,1350.61 1966.65,1295.66 1967.48,1245.39 1968.3,1207.84 1969.13,1189.01 1969.95,1191.92 1970.78,1216.11 1971.61,1257.69 1972.43,1310.03 \n",
       "  1973.26,1364.75 1974.08,1413.08 1974.91,1447.31 1975.73,1461.94 1976.56,1454.65 1977.38,1426.59 1978.21,1382.26 1979.03,1328.75 1979.86,1274.62 1980.69,1228.53 \n",
       "  1981.51,1197.86 1982.34,1187.51 1983.16,1199.14 1983.99,1230.89 1984.81,1277.67 1985.64,1332.01 1986.46,1385.21 1987.29,1428.76 1988.11,1455.68 1988.94,1461.68 \n",
       "  1989.77,1445.79 1990.59,1410.55 1991.42,1361.61 1992.24,1306.79 1993.07,1254.87 1993.89,1214.14 1994.72,1191.14 1995.54,1189.53 1996.37,1209.58 1997.19,1248.08 \n",
       "  1998.02,1298.86 1998.85,1353.81 1999.67,1404.13 2000.5,1441.77 2001.32,1460.71 2002.15,1457.91 2002.97,1433.83 2003.8,1392.32 2004.62,1340.02 2005.45,1285.29 \n",
       "  2006.27,1236.9 2007.1,1202.59 2007.92,1187.84 2008.75,1195.02 2009.58,1222.97 2010.4,1267.23 2011.23,1320.72 2012.05,1374.87 2012.88,1421.02 2013.7,1451.79 \n",
       "  2014.53,1462.25 2015.35,1450.74 2016.18,1419.09 2017,1372.36 2017.83,1318.04 2018.66,1264.81 2019.48,1221.2 2020.31,1194.17 2021.13,1188.05 2021.96,1203.83 \n",
       "  2022.78,1238.98 2023.61,1287.87 2024.43,1342.68 2025.26,1394.64 2026.08,1435.45 2026.91,1458.56 2027.74,1460.28 2028.56,1440.34 2029.39,1401.93 2030.21,1351.19 \n",
       "  2031.04,1296.24 2031.86,1245.87 2032.69,1208.14 2033.51,1189.1 2034.34,1191.77 2035.16,1215.75 2035.99,1257.18 2036.82,1309.45 2037.64,1364.19 2038.47,1412.63 \n",
       "  2039.29,1447.04 2040.12,1461.9 2040.94,1454.84 2041.77,1426.98 2042.59,1382.79 2043.42,1329.34 2044.24,1275.17 2045.07,1228.95 2045.89,1198.08 2046.72,1187.5 \n",
       "  2047.55,1198.9 2048.37,1230.46 2049.2,1277.12 2050.02,1331.43 2050.85,1384.69 2051.67,1428.37 2052.5,1455.5 2053.32,1461.73 2054.15,1446.07 2054.97,1411.01 \n",
       "  2055.8,1362.17 2056.63,1307.37 2057.45,1255.37 2058.28,1214.49 2059.1,1191.27 2059.93,1189.43 2060.75,1209.26 2061.58,1247.59 2062.4,1298.29 2063.23,1353.24 \n",
       "  2064.05,1403.65 2064.88,1441.46 2066.2,1461.73 2067.52,1426.99 2068.85,1351.19 2070.17,1264.82 2071.49,1202.59 2072.81,1189.53 2074.14,1230.88 2075.46,1310.02 \n",
       "  2076.78,1395.13 2078.1,1452.01 2079.43,1457.77 2080.75,1410.12 2082.07,1328.19 2083.39,1244.94 2084.72,1193.82 2086.04,1195.39 2087.36,1249.02 2088.68,1333.14 \n",
       "  2090.01,1413.95 2091.33,1458.94 2092.65,1450.04 2093.97,1390.83 2095.3,1305.1 2096.62,1227.32 2097.94,1188.77 2099.26,1204.93 2100.58,1269.32 2101.91,1356.04 \n",
       "  2103.23,1430.24 2104.55,1462.08 2105.87,1438.77 2107.2,1369.67 2108.52,1282.57 2109.84,1212.48 2111.16,1187.57 2112.49,1217.87 2113.81,1291.19 2115.13,1378.05 \n",
       "  2116.45,1443.54 2117.78,1461.32 2119.1,1424.26 2120.42,1347.24 2121.74,1261.23 2123.07,1200.82 2124.39,1190.27 2125.71,1233.84 2127.03,1314.01 2128.36,1398.55 \n",
       "  2129.68,1453.47 2131,1456.7 2132.32,1406.93 2133.65,1324.18 2134.97,1241.71 2136.29,1192.67 2137.61,1196.79 2138.93,1252.4 2140.26,1337.15 2141.58,1416.96 \n",
       "  2142.9,1459.76 2144.22,1448.34 2145.55,1387.28 2146.87,1301.14 2148.19,1224.54 2149.51,1188.28 2150.84,1206.94 2152.16,1273.01 2153.48,1359.93 2154.8,1432.77 \n",
       "  2156.13,1462.23 2157.45,1436.47 2158.77,1365.85 2160.09,1278.77 2161.42,1210.22 2162.74,1187.76 2164.06,1220.43 2165.38,1295.09 2166.71,1381.73 2168.03,1445.51 \n",
       "  2169.35,1460.8 2170.67,1421.44 2172,1343.27 2173.32,1257.7 2174.64,1199.14 2175.96,1191.13 2177.28,1236.89 2178.61,1318.02 2179.93,1401.91 2181.25,1454.83 \n",
       "  2182.57,1455.51 2183.9,1403.68 2185.22,1320.16 2186.54,1238.55 2187.86,1191.64 2189.19,1198.3 2190.51,1255.84 2191.83,1341.14 2193.15,1419.9 2194.48,1460.47 \n",
       "  2195.8,1446.52 2197.12,1383.67 2198.44,1297.19 2199.77,1221.84 2201.09,1187.91 2202.41,1209.05 2203.73,1276.75 2205.06,1363.8 2206.38,1435.21 2207.7,1462.26 \n",
       "  2209.02,1434.08 2210.34,1362.01 2211.67,1275 2212.99,1208.05 2214.31,1188.07 2215.63,1223.09 2216.96,1299.02 2218.28,1385.36 2219.6,1447.38 2220.92,1460.15 \n",
       "  2222.25,1418.55 2223.57,1339.28 2224.89,1254.23 2226.21,1197.58 2227.54,1192.11 2228.86,1240.01 2230.18,1322.03 2231.5,1405.2 2232.83,1456.08 2234.15,1454.21 \n",
       "  2234.35,1448.98 2234.56,1442.53 2234.76,1434.92 2234.96,1426.22 2235.37,1405.93 2235.78,1382.46 2236.59,1329.73 2237.4,1276.25 2237.81,1251.86 2238.22,1230.33 \n",
       "  2238.63,1212.53 2239.03,1199.14 2239.44,1190.69 2239.85,1187.52 2240.25,1189.75 2240.66,1197.28 2241.07,1209.84 2241.47,1226.91 2241.88,1247.84 2242.29,1271.79 \n",
       "  2243.1,1324.93 2243.92,1378.07 2244.32,1402.01 2244.73,1422.92 2245.14,1439.98 2245.55,1452.52 2245.95,1460.03 2246.36,1462.24 2246.77,1459.05 2247.17,1450.58 \n",
       "  2247.58,1437.17 2247.99,1419.35 2248.39,1397.82 2248.8,1373.42 2249.62,1319.93 2250.43,1267.21 2250.84,1243.74 2251.24,1223.47 2251.65,1207.18 2252.06,1195.51 \n",
       "  2252.46,1188.94 2252.87,1187.7 2253.28,1191.86 2253.69,1201.24 2254.09,1215.49 2254.5,1234.03 2254.91,1256.15 2255.31,1280.96 2256.13,1334.73 2256.94,1386.97 \n",
       "  2257.35,1409.92 2257.76,1429.54 2258.16,1445.04 2258.57,1455.81 2258.98,1461.45 2259.38,1461.71 2259.79,1456.6 \n",
       "  \"/>\n",
       "<polygon clip-path=\"url(#clip7901)\" points=\"\n",
       "1958.43,251.724 2249.26,251.724 2249.26,130.764 1958.43,130.764 \n",
       "  \" fill=\"#ffffff\" fill-rule=\"evenodd\" fill-opacity=\"1\"/>\n",
       "<polyline clip-path=\"url(#clip7901)\" style=\"stroke:#000000; stroke-width:4; stroke-opacity:1; fill:none\" points=\"\n",
       "  1958.43,251.724 2249.26,251.724 2249.26,130.764 1958.43,130.764 1958.43,251.724 \n",
       "  \"/>\n",
       "<polyline clip-path=\"url(#clip7901)\" style=\"stroke:#009af9; stroke-width:4; stroke-opacity:1; fill:none\" points=\"\n",
       "  1982.43,191.244 2126.43,191.244 \n",
       "  \"/>\n",
       "<g clip-path=\"url(#clip7901)\">\n",
       "<text style=\"fill:#000000; fill-opacity:1; font-family:Arial,Helvetica Neue,Helvetica,sans-serif; font-size:48px; text-anchor:start;\" transform=\"rotate(0, 2150.43, 208.744)\" x=\"2150.43\" y=\"208.744\">y1</text>\n",
       "</g>\n",
       "</svg>\n"
      ]
     },
     "execution_count": 7,
     "metadata": {},
     "output_type": "execute_result"
    }
   ],
   "source": [
    "plot(f6)"
   ]
  },
  {
   "cell_type": "code",
   "execution_count": 2,
   "metadata": {},
   "outputs": [
    {
     "name": "stdout",
     "output_type": "stream",
     "text": [
      "\u001b[32m\u001b[1m Resolving\u001b[22m\u001b[39m package versions...\n",
      "\u001b[32m\u001b[1m  Updating\u001b[22m\u001b[39m `~/.julia/Project.toml`\n",
      "\u001b[90m [no changes]\u001b[39m\n",
      "\u001b[32m\u001b[1m  Updating\u001b[22m\u001b[39m `~/.julia/Manifest.toml`\n",
      "\u001b[90m [no changes]\u001b[39m\n",
      "\u001b[32m\u001b[1m Resolving\u001b[22m\u001b[39m package versions...\n",
      "\u001b[32m\u001b[1m  Updating\u001b[22m\u001b[39m `~/.julia/Project.toml`\n",
      "\u001b[90m [no changes]\u001b[39m\n",
      "\u001b[32m\u001b[1m  Updating\u001b[22m\u001b[39m `~/.julia/Manifest.toml`\n",
      "\u001b[90m [no changes]\u001b[39m\n"
     ]
    }
   ],
   "source": [
    "Pkg.add(\"Roots\")\n",
    "Pkg.add(\"ForwardDiff\")\n",
    "using Roots  \n",
    "using Plots\n",
    "using ForwardDiff\n",
    "using DataFrames"
   ]
  },
  {
   "cell_type": "code",
   "execution_count": 11,
   "metadata": {},
   "outputs": [
    {
     "data": {
      "text/html": [
       "<table class=\"data-frame\"><thead><tr><th></th><th>Function</th><th>Method</th><th>Iterations</th><th>Evaluations</th><th>Root</th><th>Value</th><th>Is_zero</th><th>Change_sign</th></tr><tr><th></th><th>String</th><th>String</th><th>Int64</th><th>Int64</th><th>Float64</th><th>Float64</th><th>Bool</th><th>Bool</th></tr></thead><tbody><p>0 rows × 8 columns</p></tbody></table>"
      ],
      "text/latex": [
       "\\begin{tabular}{r|cccccccc}\n",
       "\t& Function & Method & Iterations & Evaluations & Root & Value & Is\\_zero & Change\\_sign\\\\\n",
       "\t\\hline\n",
       "\t& String & String & Int64 & Int64 & Float64 & Float64 & Bool & Bool\\\\\n",
       "\t\\hline\n",
       "\\end{tabular}\n"
      ],
      "text/plain": [
       "0×8 DataFrame\n"
      ]
     },
     "execution_count": 11,
     "metadata": {},
     "output_type": "execute_result"
    }
   ],
   "source": [
    "df = DataFrame(Function = String[], Method = String[],Iterations = Int[],Evaluations = Int[] ,Root = Float64[],Value = Float64[], Is_zero = Bool[], Change_sign = Bool[])"
   ]
  },
  {
   "cell_type": "code",
   "execution_count": 9,
   "metadata": {},
   "outputs": [
    {
     "name": "stdout",
     "output_type": "stream",
     "text": [
      "Results of univariate zero finding:\n",
      "\n",
      "* Converged to: 0.35173371124919584\n",
      "* Algorithm: FalsePosition{:anderson_bjork}()\n",
      "* iterations: 7\n",
      "* function evaluations: 9\n",
      "* stopped as |f(x_n)| ≤ max(δ, max(1,|x|)⋅ϵ) using δ = atol, ϵ = rtol\n",
      "\n",
      "Trace:\n",
      "(a_0, b_0) = ( 0.0000000000000000,  10.0000000000000000)\n",
      "(a_1, b_1) = ( 0.0000000000000000,  5.0000000000000000)\n",
      "(a_2, b_2) = ( 5.0000000000000000,  0.2382481241174226)\n",
      "(a_3, b_3) = ( 0.2382481241174226,  0.3821947783731772)\n",
      "(a_4, b_4) = ( 0.2382481241174226,  0.3521911602132484)\n",
      "(a_5, b_5) = ( 0.2382481241174226,  0.3517337532810070)\n",
      "(a_6, b_6) = ( 0.3517337532810070,  0.3517337112467100)\n",
      "(a_7, b_7) = ( 0.3517337532810070,  0.3517337112491958)\n",
      "\n"
     ]
    },
    {
     "data": {
      "text/plain": [
       "true"
      ]
     },
     "execution_count": 9,
     "metadata": {},
     "output_type": "execute_result"
    }
   ],
   "source": [
    "x = find_zero(f1, (-10, 10), FalsePosition(), verbose=true)\n",
    "value = f1(x)\n",
    "is_zero = iszero(f1(x))\n",
    "if sign(f1(prevfloat(x))) *sign(f1(nextfloat(x))) < 0\n",
    "    change = true\n",
    "else\n",
    "    change = false\n",
    "end"
   ]
  },
  {
   "cell_type": "code",
   "execution_count": 13,
   "metadata": {},
   "outputs": [
    {
     "data": {
      "text/html": [
       "<table class=\"data-frame\"><thead><tr><th></th><th>Function</th><th>Method</th><th>Iterations</th><th>Evaluations</th><th>Root</th><th>Value</th><th>Is_zero</th><th>Change_sign</th></tr><tr><th></th><th>String</th><th>String</th><th>Int64</th><th>Int64</th><th>Float64</th><th>Float64</th><th>Bool</th><th>Bool</th></tr></thead><tbody><p>1 rows × 8 columns</p><tr><th>1</th><td>f1 = 2*x - exp(-x)</td><td>FalsePosition</td><td>7</td><td>9</td><td>0.351734</td><td>0.0</td><td>true</td><td>true</td></tr></tbody></table>"
      ],
      "text/latex": [
       "\\begin{tabular}{r|cccccccc}\n",
       "\t& Function & Method & Iterations & Evaluations & Root & Value & Is\\_zero & Change\\_sign\\\\\n",
       "\t\\hline\n",
       "\t& String & String & Int64 & Int64 & Float64 & Float64 & Bool & Bool\\\\\n",
       "\t\\hline\n",
       "\t1 & f1 = 2*x - exp(-x) & FalsePosition & 7 & 9 & 0.351734 & 0.0 & true & true \\\\\n",
       "\\end{tabular}\n"
      ],
      "text/plain": [
       "1×8 DataFrame. Omitted printing of 4 columns\n",
       "│ Row │ Function           │ Method        │ Iterations │ Evaluations │\n",
       "│     │ \u001b[90mString\u001b[39m             │ \u001b[90mString\u001b[39m        │ \u001b[90mInt64\u001b[39m      │ \u001b[90mInt64\u001b[39m       │\n",
       "├─────┼────────────────────┼───────────────┼────────────┼─────────────┤\n",
       "│ 1   │ f1 = 2*x - exp(-x) │ FalsePosition │ 7          │ 9           │"
      ]
     },
     "execution_count": 13,
     "metadata": {},
     "output_type": "execute_result"
    }
   ],
   "source": [
    "push!(df, (\"f1 = 2*x - exp(-x)\",\"FalsePosition\",7,9,x,value,is_zero,change))"
   ]
  },
  {
   "cell_type": "code",
   "execution_count": 14,
   "metadata": {},
   "outputs": [
    {
     "name": "stdout",
     "output_type": "stream",
     "text": [
      "Results of univariate zero finding:\n",
      "\n",
      "* Converged to: 2.0945514815423265\n",
      "* Algorithm: FalsePosition{:anderson_bjork}()\n",
      "* iterations: 13\n",
      "* function evaluations: 15\n",
      "* stopped as |f(x_n)| ≤ max(δ, max(1,|x|)⋅ϵ) using δ = atol, ϵ = rtol\n",
      "\n",
      "Trace:\n",
      "(a_0, b_0) = ( 0.0000000000000000,  10.0000000000000000)\n",
      "(a_1, b_1) = ( 0.0000000000000000,  5.0000000000000000)\n",
      "(a_2, b_2) = ( 5.0000000000000000,  0.0226244343891402)\n",
      "(a_3, b_3) = ( 5.0000000000000000,  0.2409041423766468)\n",
      "(a_4, b_4) = ( 5.0000000000000000,  0.6712472869306660)\n",
      "(a_5, b_5) = ( 5.0000000000000000,  1.4507893059311967)\n",
      "(a_6, b_6) = ( 1.4507893059311967,  3.1253155954378422)\n",
      "(a_7, b_7) = ( 3.1253155954378422,  1.7873007151347065)\n",
      "(a_8, b_8) = ( 3.1253155954378422,  1.9604445073367562)\n",
      "(a_9, b_9) = ( 1.9604445073367562,  2.1028889314977892)\n",
      "(a_10, b_10) = ( 2.1028889314977892,  2.0938886841045625)\n",
      "(a_11, b_11) = ( 2.1028889314977892,  2.0945483801162941)\n",
      "(a_12, b_12) = ( 2.0945483801162941,  2.0945514815462127)\n",
      "(a_13, b_13) = ( 2.0945514815462127,  2.0945514815423265)\n",
      "\n"
     ]
    },
    {
     "data": {
      "text/plain": [
       "true"
      ]
     },
     "execution_count": 14,
     "metadata": {},
     "output_type": "execute_result"
    }
   ],
   "source": [
    "x = find_zero(f2, (-10, 10), FalsePosition(), verbose=true)\n",
    "value = f2(x)\n",
    "is_zero = iszero(f2(x))\n",
    "if sign(f2(prevfloat(x))) *sign(f2(nextfloat(x))) < 0\n",
    "    change = true\n",
    "else\n",
    "    change = false\n",
    "end"
   ]
  },
  {
   "cell_type": "code",
   "execution_count": 15,
   "metadata": {},
   "outputs": [
    {
     "data": {
      "text/html": [
       "<table class=\"data-frame\"><thead><tr><th></th><th>Function</th><th>Method</th><th>Iterations</th><th>Evaluations</th><th>Root</th><th>Value</th><th>Is_zero</th><th>Change_sign</th></tr><tr><th></th><th>String</th><th>String</th><th>Int64</th><th>Int64</th><th>Float64</th><th>Float64</th><th>Bool</th><th>Bool</th></tr></thead><tbody><p>2 rows × 8 columns</p><tr><th>1</th><td>f1 = 2*x - exp(-x)</td><td>FalsePosition</td><td>7</td><td>9</td><td>0.351734</td><td>0.0</td><td>true</td><td>true</td></tr><tr><th>2</th><td>f2 = x^3 - 2*x - 5</td><td>FalsePosition</td><td>13</td><td>15</td><td>2.09455</td><td>-8.88178e-16</td><td>false</td><td>true</td></tr></tbody></table>"
      ],
      "text/latex": [
       "\\begin{tabular}{r|cccccccc}\n",
       "\t& Function & Method & Iterations & Evaluations & Root & Value & Is\\_zero & Change\\_sign\\\\\n",
       "\t\\hline\n",
       "\t& String & String & Int64 & Int64 & Float64 & Float64 & Bool & Bool\\\\\n",
       "\t\\hline\n",
       "\t1 & f1 = 2*x - exp(-x) & FalsePosition & 7 & 9 & 0.351734 & 0.0 & true & true \\\\\n",
       "\t2 & f2 = x\\^3 - 2*x - 5 & FalsePosition & 13 & 15 & 2.09455 & -8.88178e-16 & false & true \\\\\n",
       "\\end{tabular}\n"
      ],
      "text/plain": [
       "2×8 DataFrame. Omitted printing of 4 columns\n",
       "│ Row │ Function           │ Method        │ Iterations │ Evaluations │\n",
       "│     │ \u001b[90mString\u001b[39m             │ \u001b[90mString\u001b[39m        │ \u001b[90mInt64\u001b[39m      │ \u001b[90mInt64\u001b[39m       │\n",
       "├─────┼────────────────────┼───────────────┼────────────┼─────────────┤\n",
       "│ 1   │ f1 = 2*x - exp(-x) │ FalsePosition │ 7          │ 9           │\n",
       "│ 2   │ f2 = x^3 - 2*x - 5 │ FalsePosition │ 13         │ 15          │"
      ]
     },
     "execution_count": 15,
     "metadata": {},
     "output_type": "execute_result"
    }
   ],
   "source": [
    "push!(df, (\"f2 = x^3 - 2*x - 5\",\"FalsePosition\",13,15,x,value,is_zero,change))"
   ]
  },
  {
   "cell_type": "code",
   "execution_count": 16,
   "metadata": {},
   "outputs": [
    {
     "name": "stdout",
     "output_type": "stream",
     "text": [
      "Results of univariate zero finding:\n",
      "\n",
      "* Converged to: 0.9830443113097483\n",
      "* Algorithm: FalsePosition{:anderson_bjork}()\n",
      "* iterations: 41\n",
      "* function evaluations: 43\n",
      "* Note: Too many steps taken. \n",
      "\tAlgorithm stopped early, but |f(xn)| < ϵ^(1/3), where ϵ depends on xn, rtol, and atol. \n",
      "\n",
      "Trace:\n",
      "(a_0, b_0) = ( 0.0000000000000000,  10.0000000000000000)\n",
      "(a_1, b_1) = ( 0.0000000000000000,  5.0000000000000000)\n",
      "(a_2, b_2) = ( 5.0000000000000000,  0.0001525832341542)\n",
      "(a_3, b_3) = ( 5.0000000000000000,  0.0004574053236168)\n",
      "(a_4, b_4) = ( 5.0000000000000000,  0.1391607403250028)\n",
      "(a_5, b_5) = ( 5.0000000000000000,  0.2131749608982071)\n",
      "(a_6, b_6) = ( 5.0000000000000000,  0.2961706828821685)\n",
      "(a_7, b_7) = ( 5.0000000000000000,  0.3653482115907736)\n",
      "(a_8, b_8) = ( 5.0000000000000000,  0.4295180145364017)\n",
      "(a_9, b_9) = ( 5.0000000000000000,  0.4866627152703389)\n",
      "(a_10, b_10) = ( 5.0000000000000000,  0.5383228781382753)\n",
      "(a_11, b_11) = ( 5.0000000000000000,  0.5847506231045561)\n",
      "(a_12, b_12) = ( 5.0000000000000000,  0.6265605133174369)\n",
      "(a_13, b_13) = ( 5.0000000000000000,  0.6641760949789215)\n",
      "(a_14, b_14) = ( 5.0000000000000000,  0.6980245565085282)\n",
      "(a_15, b_15) = ( 5.0000000000000000,  0.7284761712105470)\n",
      "(a_16, b_16) = ( 5.0000000000000000,  0.7558702363384842)\n",
      "(a_17, b_17) = ( 5.0000000000000000,  0.7805109971691087)\n",
      "(a_18, b_18) = ( 5.0000000000000000,  0.8026734008280979)\n",
      "(a_19, b_19) = ( 5.0000000000000000,  0.8226050851956426)\n",
      "(a_20, b_20) = ( 5.0000000000000000,  0.8405292942013175)\n",
      "(a_21, b_21) = ( 5.0000000000000000,  0.8566471418816721)\n",
      "(a_22, b_22) = ( 5.0000000000000000,  0.8711397958334359)\n",
      "(a_23, b_23) = ( 5.0000000000000000,  0.8841704105906607)\n",
      "(a_24, b_24) = ( 5.0000000000000000,  0.8958858937711515)\n",
      "(a_25, b_25) = ( 5.0000000000000000,  0.9064184990545390)\n",
      "(a_26, b_26) = ( 5.0000000000000000,  0.9158872688019534)\n",
      "(a_27, b_27) = ( 5.0000000000000000,  0.9243993375214959)\n",
      "(a_28, b_28) = ( 5.0000000000000000,  0.9320511098050087)\n",
      "(a_29, b_29) = ( 5.0000000000000000,  0.9389293240562070)\n",
      "(a_30, b_30) = ( 5.0000000000000000,  0.9451120127608846)\n",
      "(a_31, b_31) = ( 5.0000000000000000,  0.9506693689804634)\n",
      "(a_32, b_32) = ( 5.0000000000000000,  0.9556645279476375)\n",
      "(a_33, b_33) = ( 5.0000000000000000,  0.9601542718372826)\n",
      "(a_34, b_34) = ( 5.0000000000000000,  0.9641896650656027)\n",
      "(a_35, b_35) = ( 5.0000000000000000,  0.9678166268002785)\n",
      "(a_36, b_36) = ( 5.0000000000000000,  0.9710764467516507)\n",
      "(a_37, b_37) = ( 5.0000000000000000,  0.9740062497524312)\n",
      "(a_38, b_38) = ( 5.0000000000000000,  0.9766394141190033)\n",
      "(a_39, b_39) = ( 5.0000000000000000,  0.9790059483172781)\n",
      "(a_40, b_40) = ( 5.0000000000000000,  0.9811328300272526)\n",
      "(a_41, b_41) = ( 5.0000000000000000,  0.9830443113097483)\n",
      "\n"
     ]
    },
    {
     "data": {
      "text/plain": [
       "false"
      ]
     },
     "execution_count": 16,
     "metadata": {},
     "output_type": "execute_result"
    }
   ],
   "source": [
    "x = find_zero(f3, (-10, 10), FalsePosition(), verbose=true)\n",
    "value = f3(x)\n",
    "is_zero = iszero(f3(x))\n",
    "if sign(f3(prevfloat(x))) *sign(f3(nextfloat(x))) < 0\n",
    "    change = true\n",
    "else\n",
    "    change = false\n",
    "end"
   ]
  },
  {
   "cell_type": "code",
   "execution_count": 17,
   "metadata": {},
   "outputs": [
    {
     "data": {
      "text/html": [
       "<table class=\"data-frame\"><thead><tr><th></th><th>Function</th><th>Method</th><th>Iterations</th><th>Evaluations</th><th>Root</th><th>Value</th><th>Is_zero</th><th>Change_sign</th></tr><tr><th></th><th>String</th><th>String</th><th>Int64</th><th>Int64</th><th>Float64</th><th>Float64</th><th>Bool</th><th>Bool</th></tr></thead><tbody><p>3 rows × 8 columns</p><tr><th>1</th><td>f1 = 2*x - exp(-x)</td><td>FalsePosition</td><td>7</td><td>9</td><td>0.351734</td><td>0.0</td><td>true</td><td>true</td></tr><tr><th>2</th><td>f2 = x^3 - 2*x - 5</td><td>FalsePosition</td><td>13</td><td>15</td><td>2.09455</td><td>-8.88178e-16</td><td>false</td><td>true</td></tr><tr><th>3</th><td>f3 = (x-1)^7</td><td>FalsePosition</td><td>41</td><td>43</td><td>0.983044</td><td>-4.0291e-13</td><td>false</td><td>false</td></tr></tbody></table>"
      ],
      "text/latex": [
       "\\begin{tabular}{r|cccccccc}\n",
       "\t& Function & Method & Iterations & Evaluations & Root & Value & Is\\_zero & Change\\_sign\\\\\n",
       "\t\\hline\n",
       "\t& String & String & Int64 & Int64 & Float64 & Float64 & Bool & Bool\\\\\n",
       "\t\\hline\n",
       "\t1 & f1 = 2*x - exp(-x) & FalsePosition & 7 & 9 & 0.351734 & 0.0 & true & true \\\\\n",
       "\t2 & f2 = x\\^3 - 2*x - 5 & FalsePosition & 13 & 15 & 2.09455 & -8.88178e-16 & false & true \\\\\n",
       "\t3 & f3 = (x-1)\\^7 & FalsePosition & 41 & 43 & 0.983044 & -4.0291e-13 & false & false \\\\\n",
       "\\end{tabular}\n"
      ],
      "text/plain": [
       "3×8 DataFrame. Omitted printing of 4 columns\n",
       "│ Row │ Function           │ Method        │ Iterations │ Evaluations │\n",
       "│     │ \u001b[90mString\u001b[39m             │ \u001b[90mString\u001b[39m        │ \u001b[90mInt64\u001b[39m      │ \u001b[90mInt64\u001b[39m       │\n",
       "├─────┼────────────────────┼───────────────┼────────────┼─────────────┤\n",
       "│ 1   │ f1 = 2*x - exp(-x) │ FalsePosition │ 7          │ 9           │\n",
       "│ 2   │ f2 = x^3 - 2*x - 5 │ FalsePosition │ 13         │ 15          │\n",
       "│ 3   │ f3 = (x-1)^7       │ FalsePosition │ 41         │ 43          │"
      ]
     },
     "execution_count": 17,
     "metadata": {},
     "output_type": "execute_result"
    }
   ],
   "source": [
    "push!(df, (\"f3 = (x-1)^7\",\"FalsePosition\",41,43,x,value,is_zero,change))"
   ]
  },
  {
   "cell_type": "code",
   "execution_count": 18,
   "metadata": {},
   "outputs": [
    {
     "name": "stdout",
     "output_type": "stream",
     "text": [
      "Results of univariate zero finding:\n",
      "\n",
      "* Converged to: 1.895494267033981\n",
      "* Algorithm: FalsePosition{:anderson_bjork}()\n",
      "* iterations: 10\n",
      "* function evaluations: 12\n",
      "* stopped as |f(x_n)| ≤ max(δ, max(1,|x|)⋅ϵ) using δ = atol, ϵ = rtol\n",
      "\n",
      "Trace:\n",
      "(a_0, b_0) = ( 0.0000000000000000,  10.0000000000000000)\n",
      "(a_1, b_1) = ( 0.0000000000000000,  5.0000000000000000)\n",
      "(a_2, b_2) = ( 0.0000000000000000,  2.5000000000000000)\n",
      "(a_3, b_3) = ( 2.5000000000000000,  1.2500000000000000)\n",
      "(a_4, b_4) = ( 2.5000000000000000,  1.6651466890159652)\n",
      "(a_5, b_5) = ( 1.6651466890159652,  1.9446763851217526)\n",
      "(a_6, b_6) = ( 1.9446763851217526,  1.8880306380481127)\n",
      "(a_7, b_7) = ( 1.9446763851217526,  1.8952878661159387)\n",
      "(a_8, b_8) = ( 1.8952878661159387,  1.8954942966408586)\n",
      "(a_9, b_9) = ( 1.8954942966408586,  1.8954942670304449)\n",
      "(a_10, b_10) = ( 1.8954942966408586,  1.8954942670339809)\n",
      "\n"
     ]
    },
    {
     "data": {
      "text/plain": [
       "true"
      ]
     },
     "execution_count": 18,
     "metadata": {},
     "output_type": "execute_result"
    }
   ],
   "source": [
    "x = find_zero(f4, (-10, 10), FalsePosition(), verbose=true)\n",
    "value = f4(x)\n",
    "is_zero = iszero(f4(x))\n",
    "if sign(f4(prevfloat(x))) *sign(f4(nextfloat(x))) < 0\n",
    "    change = true\n",
    "else\n",
    "    change = false\n",
    "end"
   ]
  },
  {
   "cell_type": "code",
   "execution_count": 19,
   "metadata": {},
   "outputs": [
    {
     "data": {
      "text/html": [
       "<table class=\"data-frame\"><thead><tr><th></th><th>Function</th><th>Method</th><th>Iterations</th><th>Evaluations</th><th>Root</th><th>Value</th><th>Is_zero</th><th>Change_sign</th></tr><tr><th></th><th>String</th><th>String</th><th>Int64</th><th>Int64</th><th>Float64</th><th>Float64</th><th>Bool</th><th>Bool</th></tr></thead><tbody><p>4 rows × 8 columns</p><tr><th>1</th><td>f1 = 2*x - exp(-x)</td><td>FalsePosition</td><td>7</td><td>9</td><td>0.351734</td><td>0.0</td><td>true</td><td>true</td></tr><tr><th>2</th><td>f2 = x^3 - 2*x - 5</td><td>FalsePosition</td><td>13</td><td>15</td><td>2.09455</td><td>-8.88178e-16</td><td>false</td><td>true</td></tr><tr><th>3</th><td>f3 = (x-1)^7</td><td>FalsePosition</td><td>41</td><td>43</td><td>0.983044</td><td>-4.0291e-13</td><td>false</td><td>false</td></tr><tr><th>4</th><td>f4(x) = sin(x) - x/2</td><td>FalsePosition</td><td>10</td><td>12</td><td>1.89549</td><td>0.0</td><td>true</td><td>true</td></tr></tbody></table>"
      ],
      "text/latex": [
       "\\begin{tabular}{r|cccccccc}\n",
       "\t& Function & Method & Iterations & Evaluations & Root & Value & Is\\_zero & Change\\_sign\\\\\n",
       "\t\\hline\n",
       "\t& String & String & Int64 & Int64 & Float64 & Float64 & Bool & Bool\\\\\n",
       "\t\\hline\n",
       "\t1 & f1 = 2*x - exp(-x) & FalsePosition & 7 & 9 & 0.351734 & 0.0 & true & true \\\\\n",
       "\t2 & f2 = x\\^3 - 2*x - 5 & FalsePosition & 13 & 15 & 2.09455 & -8.88178e-16 & false & true \\\\\n",
       "\t3 & f3 = (x-1)\\^7 & FalsePosition & 41 & 43 & 0.983044 & -4.0291e-13 & false & false \\\\\n",
       "\t4 & f4(x) = sin(x) - x/2 & FalsePosition & 10 & 12 & 1.89549 & 0.0 & true & true \\\\\n",
       "\\end{tabular}\n"
      ],
      "text/plain": [
       "4×8 DataFrame. Omitted printing of 4 columns\n",
       "│ Row │ Function             │ Method        │ Iterations │ Evaluations │\n",
       "│     │ \u001b[90mString\u001b[39m               │ \u001b[90mString\u001b[39m        │ \u001b[90mInt64\u001b[39m      │ \u001b[90mInt64\u001b[39m       │\n",
       "├─────┼──────────────────────┼───────────────┼────────────┼─────────────┤\n",
       "│ 1   │ f1 = 2*x - exp(-x)   │ FalsePosition │ 7          │ 9           │\n",
       "│ 2   │ f2 = x^3 - 2*x - 5   │ FalsePosition │ 13         │ 15          │\n",
       "│ 3   │ f3 = (x-1)^7         │ FalsePosition │ 41         │ 43          │\n",
       "│ 4   │ f4(x) = sin(x) - x/2 │ FalsePosition │ 10         │ 12          │"
      ]
     },
     "execution_count": 19,
     "metadata": {},
     "output_type": "execute_result"
    }
   ],
   "source": [
    "push!(df, (\"f4(x) = sin(x) - x/2\",\"FalsePosition\",10,12,x,value,is_zero,change))"
   ]
  },
  {
   "cell_type": "code",
   "execution_count": 20,
   "metadata": {},
   "outputs": [
    {
     "name": "stdout",
     "output_type": "stream",
     "text": [
      "Results of univariate zero finding:\n",
      "\n",
      "* Converged to: 0.7390851332151607\n",
      "* Algorithm: FalsePosition{:anderson_bjork}()\n",
      "* iterations: 8\n",
      "* function evaluations: 10\n",
      "* stopped as |f(x_n)| ≤ max(δ, max(1,|x|)⋅ϵ) using δ = atol, ϵ = rtol\n",
      "\n",
      "Trace:\n",
      "(a_0, b_0) = ( 0.0000000000000000,  10.0000000000000000)\n",
      "(a_1, b_1) = ( 0.0000000000000000,  5.0000000000000000)\n",
      "(a_2, b_2) = ( 5.0000000000000000,  0.4792634390037112)\n",
      "(a_3, b_3) = ( 0.4792634390037112,  0.8392626315659703)\n",
      "(a_4, b_4) = ( 0.8392626315659703,  0.7328448542700907)\n",
      "(a_5, b_5) = ( 0.8392626315659703,  0.7389537847646608)\n",
      "(a_6, b_6) = ( 0.7389537847646608,  0.7390851425612163)\n",
      "(a_7, b_7) = ( 0.7390851425612163,  0.7390851332148896)\n",
      "(a_8, b_8) = ( 0.7390851425612163,  0.7390851332151607)\n",
      "\n"
     ]
    },
    {
     "data": {
      "text/plain": [
       "true"
      ]
     },
     "execution_count": 20,
     "metadata": {},
     "output_type": "execute_result"
    }
   ],
   "source": [
    "x = find_zero(f5, (-10, 10), FalsePosition(), verbose=true)\n",
    "value = f5(x)\n",
    "is_zero = iszero(f5(x))\n",
    "if sign(f5(prevfloat(x))) *sign(f5(nextfloat(x))) < 0\n",
    "    change = true\n",
    "else\n",
    "    change = false\n",
    "end"
   ]
  },
  {
   "cell_type": "code",
   "execution_count": 21,
   "metadata": {},
   "outputs": [
    {
     "data": {
      "text/html": [
       "<table class=\"data-frame\"><thead><tr><th></th><th>Function</th><th>Method</th><th>Iterations</th><th>Evaluations</th><th>Root</th><th>Value</th><th>Is_zero</th><th>Change_sign</th></tr><tr><th></th><th>String</th><th>String</th><th>Int64</th><th>Int64</th><th>Float64</th><th>Float64</th><th>Bool</th><th>Bool</th></tr></thead><tbody><p>5 rows × 8 columns</p><tr><th>1</th><td>f1 = 2*x - exp(-x)</td><td>FalsePosition</td><td>7</td><td>9</td><td>0.351734</td><td>0.0</td><td>true</td><td>true</td></tr><tr><th>2</th><td>f2 = x^3 - 2*x - 5</td><td>FalsePosition</td><td>13</td><td>15</td><td>2.09455</td><td>-8.88178e-16</td><td>false</td><td>true</td></tr><tr><th>3</th><td>f3 = (x-1)^7</td><td>FalsePosition</td><td>41</td><td>43</td><td>0.983044</td><td>-4.0291e-13</td><td>false</td><td>false</td></tr><tr><th>4</th><td>f4(x) = sin(x) - x/2</td><td>FalsePosition</td><td>10</td><td>12</td><td>1.89549</td><td>0.0</td><td>true</td><td>true</td></tr><tr><th>5</th><td>f5(x) = cos(x) - x</td><td>FalsePosition</td><td>8</td><td>10</td><td>0.739085</td><td>0.0</td><td>true</td><td>true</td></tr></tbody></table>"
      ],
      "text/latex": [
       "\\begin{tabular}{r|cccccccc}\n",
       "\t& Function & Method & Iterations & Evaluations & Root & Value & Is\\_zero & Change\\_sign\\\\\n",
       "\t\\hline\n",
       "\t& String & String & Int64 & Int64 & Float64 & Float64 & Bool & Bool\\\\\n",
       "\t\\hline\n",
       "\t1 & f1 = 2*x - exp(-x) & FalsePosition & 7 & 9 & 0.351734 & 0.0 & true & true \\\\\n",
       "\t2 & f2 = x\\^3 - 2*x - 5 & FalsePosition & 13 & 15 & 2.09455 & -8.88178e-16 & false & true \\\\\n",
       "\t3 & f3 = (x-1)\\^7 & FalsePosition & 41 & 43 & 0.983044 & -4.0291e-13 & false & false \\\\\n",
       "\t4 & f4(x) = sin(x) - x/2 & FalsePosition & 10 & 12 & 1.89549 & 0.0 & true & true \\\\\n",
       "\t5 & f5(x) = cos(x) - x & FalsePosition & 8 & 10 & 0.739085 & 0.0 & true & true \\\\\n",
       "\\end{tabular}\n"
      ],
      "text/plain": [
       "5×8 DataFrame. Omitted printing of 4 columns\n",
       "│ Row │ Function             │ Method        │ Iterations │ Evaluations │\n",
       "│     │ \u001b[90mString\u001b[39m               │ \u001b[90mString\u001b[39m        │ \u001b[90mInt64\u001b[39m      │ \u001b[90mInt64\u001b[39m       │\n",
       "├─────┼──────────────────────┼───────────────┼────────────┼─────────────┤\n",
       "│ 1   │ f1 = 2*x - exp(-x)   │ FalsePosition │ 7          │ 9           │\n",
       "│ 2   │ f2 = x^3 - 2*x - 5   │ FalsePosition │ 13         │ 15          │\n",
       "│ 3   │ f3 = (x-1)^7         │ FalsePosition │ 41         │ 43          │\n",
       "│ 4   │ f4(x) = sin(x) - x/2 │ FalsePosition │ 10         │ 12          │\n",
       "│ 5   │ f5(x) = cos(x) - x   │ FalsePosition │ 8          │ 10          │"
      ]
     },
     "execution_count": 21,
     "metadata": {},
     "output_type": "execute_result"
    }
   ],
   "source": [
    "push!(df, (\"f5(x) = cos(x) - x\",\"FalsePosition\",8,10,x,value,is_zero,change))"
   ]
  },
  {
   "cell_type": "code",
   "execution_count": 22,
   "metadata": {},
   "outputs": [
    {
     "name": "stdout",
     "output_type": "stream",
     "text": [
      "Results of univariate zero finding:\n",
      "\n",
      "* Converged to: 0.3318660335745625\n",
      "* Algorithm: FalsePosition{:anderson_bjork}()\n",
      "* iterations: 15\n",
      "* function evaluations: 17\n",
      "* stopped as x_n ≈ x_{n-1} using atol=xatol, rtol=xrtol\n",
      "* Note: x_n ≈ x_{n-1}. Change of sign at xn identified. \n",
      "\tAlgorithm stopped early, but |f(xn)| < ϵ^(1/3), where ϵ depends on xn, rtol, and atol. \n",
      "\n",
      "Trace:\n",
      "(a_0, b_0) = ( 0.0000000000000000,  10.0000000000000000)\n",
      "(a_1, b_1) = ( 0.0000000000000000,  5.0000000000000000)\n",
      "(a_2, b_2) = ( 0.0000000000000000,  0.4643517812315325)\n",
      "(a_3, b_3) = ( 0.4643517812315325,  0.0011109324436309)\n",
      "(a_4, b_4) = ( 0.4643517812315325,  0.2379911377445042)\n",
      "(a_5, b_5) = ( 0.2379911377445042,  0.4312481632182621)\n",
      "(a_6, b_6) = ( 0.2379911377445042,  0.3459548402949304)\n",
      "(a_7, b_7) = ( 0.3459548402949304,  0.2656463184286902)\n",
      "(a_8, b_8) = ( 0.3459548402949304,  0.3146739706152683)\n",
      "(a_9, b_9) = ( 0.3146739706152683,  0.3415768575667255)\n",
      "(a_10, b_10) = ( 0.3415768575667255,  0.3313475575516753)\n",
      "(a_11, b_11) = ( 0.3313475575516753,  0.3319273624089479)\n",
      "(a_12, b_12) = ( 0.3313475575516753,  0.3318661317677123)\n",
      "(a_13, b_13) = ( 0.3318661317677123,  0.3318660335718000)\n",
      "(a_14, b_14) = ( 0.3318660335718000,  0.3318660335745626)\n",
      "(a_15, b_15) = ( 0.3318660335745626,  0.3318660335745625)\n",
      "\n"
     ]
    },
    {
     "data": {
      "text/plain": [
       "true"
      ]
     },
     "execution_count": 22,
     "metadata": {},
     "output_type": "execute_result"
    }
   ],
   "source": [
    "x = find_zero(f6, (-10, 10), FalsePosition(), verbose=true)\n",
    "value = f6(x)\n",
    "is_zero = iszero(f6(x))\n",
    "if sign(f6(prevfloat(x))) *sign(f6(nextfloat(x))) < 0\n",
    "    change = true\n",
    "else\n",
    "    change = false\n",
    "end"
   ]
  },
  {
   "cell_type": "code",
   "execution_count": 23,
   "metadata": {},
   "outputs": [
    {
     "data": {
      "text/html": [
       "<table class=\"data-frame\"><thead><tr><th></th><th>Function</th><th>Method</th><th>Iterations</th><th>Evaluations</th><th>Root</th><th>Value</th><th>Is_zero</th><th>Change_sign</th></tr><tr><th></th><th>String</th><th>String</th><th>Int64</th><th>Int64</th><th>Float64</th><th>Float64</th><th>Bool</th><th>Bool</th></tr></thead><tbody><p>6 rows × 8 columns</p><tr><th>1</th><td>f1 = 2*x - exp(-x)</td><td>FalsePosition</td><td>7</td><td>9</td><td>0.351734</td><td>0.0</td><td>true</td><td>true</td></tr><tr><th>2</th><td>f2 = x^3 - 2*x - 5</td><td>FalsePosition</td><td>13</td><td>15</td><td>2.09455</td><td>-8.88178e-16</td><td>false</td><td>true</td></tr><tr><th>3</th><td>f3 = (x-1)^7</td><td>FalsePosition</td><td>41</td><td>43</td><td>0.983044</td><td>-4.0291e-13</td><td>false</td><td>false</td></tr><tr><th>4</th><td>f4(x) = sin(x) - x/2</td><td>FalsePosition</td><td>10</td><td>12</td><td>1.89549</td><td>0.0</td><td>true</td><td>true</td></tr><tr><th>5</th><td>f5(x) = cos(x) - x</td><td>FalsePosition</td><td>8</td><td>10</td><td>0.739085</td><td>0.0</td><td>true</td><td>true</td></tr><tr><th>6</th><td>f6(x) = cos(100*x)-4*erf(30*x-10)</td><td>FalsePosition</td><td>15</td><td>17</td><td>0.331866</td><td>7.07767e-15</td><td>false</td><td>true</td></tr></tbody></table>"
      ],
      "text/latex": [
       "\\begin{tabular}{r|cccccccc}\n",
       "\t& Function & Method & Iterations & Evaluations & Root & Value & Is\\_zero & Change\\_sign\\\\\n",
       "\t\\hline\n",
       "\t& String & String & Int64 & Int64 & Float64 & Float64 & Bool & Bool\\\\\n",
       "\t\\hline\n",
       "\t1 & f1 = 2*x - exp(-x) & FalsePosition & 7 & 9 & 0.351734 & 0.0 & true & true \\\\\n",
       "\t2 & f2 = x\\^3 - 2*x - 5 & FalsePosition & 13 & 15 & 2.09455 & -8.88178e-16 & false & true \\\\\n",
       "\t3 & f3 = (x-1)\\^7 & FalsePosition & 41 & 43 & 0.983044 & -4.0291e-13 & false & false \\\\\n",
       "\t4 & f4(x) = sin(x) - x/2 & FalsePosition & 10 & 12 & 1.89549 & 0.0 & true & true \\\\\n",
       "\t5 & f5(x) = cos(x) - x & FalsePosition & 8 & 10 & 0.739085 & 0.0 & true & true \\\\\n",
       "\t6 & f6(x) = cos(100*x)-4*erf(30*x-10) & FalsePosition & 15 & 17 & 0.331866 & 7.07767e-15 & false & true \\\\\n",
       "\\end{tabular}\n"
      ],
      "text/plain": [
       "6×8 DataFrame. Omitted printing of 5 columns\n",
       "│ Row │ Function                          │ Method        │ Iterations │\n",
       "│     │ \u001b[90mString\u001b[39m                            │ \u001b[90mString\u001b[39m        │ \u001b[90mInt64\u001b[39m      │\n",
       "├─────┼───────────────────────────────────┼───────────────┼────────────┤\n",
       "│ 1   │ f1 = 2*x - exp(-x)                │ FalsePosition │ 7          │\n",
       "│ 2   │ f2 = x^3 - 2*x - 5                │ FalsePosition │ 13         │\n",
       "│ 3   │ f3 = (x-1)^7                      │ FalsePosition │ 41         │\n",
       "│ 4   │ f4(x) = sin(x) - x/2              │ FalsePosition │ 10         │\n",
       "│ 5   │ f5(x) = cos(x) - x                │ FalsePosition │ 8          │\n",
       "│ 6   │ f6(x) = cos(100*x)-4*erf(30*x-10) │ FalsePosition │ 15         │"
      ]
     },
     "execution_count": 23,
     "metadata": {},
     "output_type": "execute_result"
    }
   ],
   "source": [
    "push!(df, (\"f6(x) = cos(100*x)-4*erf(30*x-10)\",\"FalsePosition\",15,17,x,value,is_zero,change))"
   ]
  },
  {
   "cell_type": "code",
   "execution_count": null,
   "metadata": {},
   "outputs": [],
   "source": []
  },
  {
   "cell_type": "code",
   "execution_count": 24,
   "metadata": {},
   "outputs": [
    {
     "name": "stdout",
     "output_type": "stream",
     "text": [
      "Results of univariate zero finding:\n",
      "\n",
      "* Converged to: 0.35173371124919584\n",
      "* Algorithm: Roots.Newton()\n",
      "* iterations: 4\n",
      "* function evaluations: 9\n",
      "* stopped as |f(x_n)| ≤ max(δ, max(1,|x|)⋅ϵ) using δ = atol, ϵ = rtol\n",
      "\n",
      "Trace:\n",
      "x_0 =  0.0000000000000000,\t fx_0 = -1.0000000000000000\n",
      "x_1 =  0.3333333333333333,\t fx_1 = -0.0498646439071226\n",
      "x_2 =  0.3516893315554154,\t fx_2 = -0.0001199797491258\n",
      "x_3 =  0.3517337109929426,\t fx_3 = -0.0000000006927722\n",
      "x_4 =  0.3517337112491958,\t fx_4 =  0.0000000000000000\n",
      "\n"
     ]
    },
    {
     "data": {
      "text/plain": [
       "true"
      ]
     },
     "execution_count": 24,
     "metadata": {},
     "output_type": "execute_result"
    }
   ],
   "source": [
    "D(f1) = x->ForwardDiff.derivative(f1, float(x))\n",
    "x = find_zero((f1, D(f1)),0, Roots.Newton(),verbose=true)\n",
    "value = f1(x)\n",
    "is_zero = iszero(f1(x))\n",
    "if sign(f1(prevfloat(x))) *sign(f1(nextfloat(x))) < 0\n",
    "    change = true\n",
    "else\n",
    "    change = false\n",
    "end"
   ]
  },
  {
   "cell_type": "code",
   "execution_count": 25,
   "metadata": {},
   "outputs": [
    {
     "data": {
      "text/html": [
       "<table class=\"data-frame\"><thead><tr><th></th><th>Function</th><th>Method</th><th>Iterations</th><th>Evaluations</th><th>Root</th><th>Value</th><th>Is_zero</th><th>Change_sign</th></tr><tr><th></th><th>String</th><th>String</th><th>Int64</th><th>Int64</th><th>Float64</th><th>Float64</th><th>Bool</th><th>Bool</th></tr></thead><tbody><p>7 rows × 8 columns</p><tr><th>1</th><td>f1 = 2*x - exp(-x)</td><td>FalsePosition</td><td>7</td><td>9</td><td>0.351734</td><td>0.0</td><td>true</td><td>true</td></tr><tr><th>2</th><td>f2 = x^3 - 2*x - 5</td><td>FalsePosition</td><td>13</td><td>15</td><td>2.09455</td><td>-8.88178e-16</td><td>false</td><td>true</td></tr><tr><th>3</th><td>f3 = (x-1)^7</td><td>FalsePosition</td><td>41</td><td>43</td><td>0.983044</td><td>-4.0291e-13</td><td>false</td><td>false</td></tr><tr><th>4</th><td>f4(x) = sin(x) - x/2</td><td>FalsePosition</td><td>10</td><td>12</td><td>1.89549</td><td>0.0</td><td>true</td><td>true</td></tr><tr><th>5</th><td>f5(x) = cos(x) - x</td><td>FalsePosition</td><td>8</td><td>10</td><td>0.739085</td><td>0.0</td><td>true</td><td>true</td></tr><tr><th>6</th><td>f6(x) = cos(100*x)-4*erf(30*x-10)</td><td>FalsePosition</td><td>15</td><td>17</td><td>0.331866</td><td>7.07767e-15</td><td>false</td><td>true</td></tr><tr><th>7</th><td>f1(x) = 2*x - exp(-x)</td><td>Newton</td><td>4</td><td>9</td><td>0.351734</td><td>0.0</td><td>true</td><td>true</td></tr></tbody></table>"
      ],
      "text/latex": [
       "\\begin{tabular}{r|cccccccc}\n",
       "\t& Function & Method & Iterations & Evaluations & Root & Value & Is\\_zero & Change\\_sign\\\\\n",
       "\t\\hline\n",
       "\t& String & String & Int64 & Int64 & Float64 & Float64 & Bool & Bool\\\\\n",
       "\t\\hline\n",
       "\t1 & f1 = 2*x - exp(-x) & FalsePosition & 7 & 9 & 0.351734 & 0.0 & true & true \\\\\n",
       "\t2 & f2 = x\\^3 - 2*x - 5 & FalsePosition & 13 & 15 & 2.09455 & -8.88178e-16 & false & true \\\\\n",
       "\t3 & f3 = (x-1)\\^7 & FalsePosition & 41 & 43 & 0.983044 & -4.0291e-13 & false & false \\\\\n",
       "\t4 & f4(x) = sin(x) - x/2 & FalsePosition & 10 & 12 & 1.89549 & 0.0 & true & true \\\\\n",
       "\t5 & f5(x) = cos(x) - x & FalsePosition & 8 & 10 & 0.739085 & 0.0 & true & true \\\\\n",
       "\t6 & f6(x) = cos(100*x)-4*erf(30*x-10) & FalsePosition & 15 & 17 & 0.331866 & 7.07767e-15 & false & true \\\\\n",
       "\t7 & f1(x) = 2*x - exp(-x) & Newton & 4 & 9 & 0.351734 & 0.0 & true & true \\\\\n",
       "\\end{tabular}\n"
      ],
      "text/plain": [
       "7×8 DataFrame. Omitted printing of 5 columns\n",
       "│ Row │ Function                          │ Method        │ Iterations │\n",
       "│     │ \u001b[90mString\u001b[39m                            │ \u001b[90mString\u001b[39m        │ \u001b[90mInt64\u001b[39m      │\n",
       "├─────┼───────────────────────────────────┼───────────────┼────────────┤\n",
       "│ 1   │ f1 = 2*x - exp(-x)                │ FalsePosition │ 7          │\n",
       "│ 2   │ f2 = x^3 - 2*x - 5                │ FalsePosition │ 13         │\n",
       "│ 3   │ f3 = (x-1)^7                      │ FalsePosition │ 41         │\n",
       "│ 4   │ f4(x) = sin(x) - x/2              │ FalsePosition │ 10         │\n",
       "│ 5   │ f5(x) = cos(x) - x                │ FalsePosition │ 8          │\n",
       "│ 6   │ f6(x) = cos(100*x)-4*erf(30*x-10) │ FalsePosition │ 15         │\n",
       "│ 7   │ f1(x) = 2*x - exp(-x)             │ Newton        │ 4          │"
      ]
     },
     "execution_count": 25,
     "metadata": {},
     "output_type": "execute_result"
    }
   ],
   "source": [
    "push!(df, (\"f1(x) = 2*x - exp(-x)\",\"Newton\",4,9,x,value,is_zero,change))"
   ]
  },
  {
   "cell_type": "code",
   "execution_count": 26,
   "metadata": {},
   "outputs": [
    {
     "name": "stdout",
     "output_type": "stream",
     "text": [
      "Results of univariate zero finding:\n",
      "\n",
      "* Converged to: 2.0945514815423265\n",
      "* Algorithm: Roots.Newton()\n",
      "* iterations: 19\n",
      "* function evaluations: 39\n",
      "* stopped as |f(x_n)| ≤ max(δ, max(1,|x|)⋅ϵ) using δ = atol, ϵ = rtol\n",
      "\n",
      "Trace:\n",
      "x_0 =  0.0000000000000000,\t fx_0 = -5.0000000000000000\n",
      "x_1 = -2.5000000000000000,\t fx_1 = -15.6250000000000000\n",
      "x_2 = -1.5671641791044775,\t fx_2 = -5.7146324514651070\n",
      "x_3 = -0.5025924450866797,\t fx_3 = -4.1217695422221725\n",
      "x_4 = -3.8207064676993294,\t fx_4 = -53.1324879623681738\n",
      "x_5 = -2.5493933913606064,\t fx_5 = -16.4707576140240164\n",
      "x_6 = -1.6081114997282251,\t fx_6 = -5.9423896750176617\n",
      "x_7 = -0.5761004336602393,\t fx_7 = -4.0390020905449111\n",
      "x_8 = -4.5977095833821693,\t fx_8 = -92.9952575692345391\n",
      "x_9 = -3.0835431467266550,\t fx_9 = -28.1519768702820130\n",
      "x_10 = -2.0221942554643366,\t fx_10 = -9.2249089970538503\n",
      "x_11 = -1.1237641075795191,\t fx_11 = -4.1716125339957122\n",
      "x_12 =  1.2086516123957836,\t fx_12 = -5.6516581502357903\n",
      "x_13 =  3.5807900448965704,\t fx_13 =  33.7515152085330783\n",
      "x_14 =  2.6552331980087693,\t fx_14 =  8.4096268679235848\n",
      "x_15 =  2.2161063074385283,\t fx_15 =  1.4513672740375592\n",
      "x_16 =  2.1021250154847473,\t fx_16 =  0.0848923823417307\n",
      "x_17 =  2.0945835767773091,\t fx_17 =  0.0003582354394256\n",
      "x_18 =  2.0945514821222386,\t fx_18 =  0.0000000064726526\n",
      "x_19 =  2.0945514815423265,\t fx_19 = -0.0000000000000009\n",
      "\n"
     ]
    },
    {
     "data": {
      "text/plain": [
       "true"
      ]
     },
     "execution_count": 26,
     "metadata": {},
     "output_type": "execute_result"
    }
   ],
   "source": [
    "D(f2) = x->ForwardDiff.derivative(f2, float(x))\n",
    "x = find_zero((f2, D(f2)),0, Roots.Newton(),verbose=true)\n",
    "value = f2(x)\n",
    "is_zero = iszero(f2(x))\n",
    "if sign(f2(prevfloat(x))) *sign(f2(nextfloat(x))) < 0\n",
    "    change = true\n",
    "else\n",
    "    change = false\n",
    "end"
   ]
  },
  {
   "cell_type": "code",
   "execution_count": 27,
   "metadata": {},
   "outputs": [
    {
     "data": {
      "text/html": [
       "<table class=\"data-frame\"><thead><tr><th></th><th>Function</th><th>Method</th><th>Iterations</th><th>Evaluations</th><th>Root</th><th>Value</th><th>Is_zero</th><th>Change_sign</th></tr><tr><th></th><th>String</th><th>String</th><th>Int64</th><th>Int64</th><th>Float64</th><th>Float64</th><th>Bool</th><th>Bool</th></tr></thead><tbody><p>8 rows × 8 columns</p><tr><th>1</th><td>f1 = 2*x - exp(-x)</td><td>FalsePosition</td><td>7</td><td>9</td><td>0.351734</td><td>0.0</td><td>true</td><td>true</td></tr><tr><th>2</th><td>f2 = x^3 - 2*x - 5</td><td>FalsePosition</td><td>13</td><td>15</td><td>2.09455</td><td>-8.88178e-16</td><td>false</td><td>true</td></tr><tr><th>3</th><td>f3 = (x-1)^7</td><td>FalsePosition</td><td>41</td><td>43</td><td>0.983044</td><td>-4.0291e-13</td><td>false</td><td>false</td></tr><tr><th>4</th><td>f4(x) = sin(x) - x/2</td><td>FalsePosition</td><td>10</td><td>12</td><td>1.89549</td><td>0.0</td><td>true</td><td>true</td></tr><tr><th>5</th><td>f5(x) = cos(x) - x</td><td>FalsePosition</td><td>8</td><td>10</td><td>0.739085</td><td>0.0</td><td>true</td><td>true</td></tr><tr><th>6</th><td>f6(x) = cos(100*x)-4*erf(30*x-10)</td><td>FalsePosition</td><td>15</td><td>17</td><td>0.331866</td><td>7.07767e-15</td><td>false</td><td>true</td></tr><tr><th>7</th><td>f1(x) = 2*x - exp(-x)</td><td>Newton</td><td>4</td><td>9</td><td>0.351734</td><td>0.0</td><td>true</td><td>true</td></tr><tr><th>8</th><td>f2(x) = x^3 - 2x - 5</td><td>Newton</td><td>19</td><td>39</td><td>2.09455</td><td>-8.88178e-16</td><td>false</td><td>true</td></tr></tbody></table>"
      ],
      "text/latex": [
       "\\begin{tabular}{r|cccccccc}\n",
       "\t& Function & Method & Iterations & Evaluations & Root & Value & Is\\_zero & Change\\_sign\\\\\n",
       "\t\\hline\n",
       "\t& String & String & Int64 & Int64 & Float64 & Float64 & Bool & Bool\\\\\n",
       "\t\\hline\n",
       "\t1 & f1 = 2*x - exp(-x) & FalsePosition & 7 & 9 & 0.351734 & 0.0 & true & true \\\\\n",
       "\t2 & f2 = x\\^3 - 2*x - 5 & FalsePosition & 13 & 15 & 2.09455 & -8.88178e-16 & false & true \\\\\n",
       "\t3 & f3 = (x-1)\\^7 & FalsePosition & 41 & 43 & 0.983044 & -4.0291e-13 & false & false \\\\\n",
       "\t4 & f4(x) = sin(x) - x/2 & FalsePosition & 10 & 12 & 1.89549 & 0.0 & true & true \\\\\n",
       "\t5 & f5(x) = cos(x) - x & FalsePosition & 8 & 10 & 0.739085 & 0.0 & true & true \\\\\n",
       "\t6 & f6(x) = cos(100*x)-4*erf(30*x-10) & FalsePosition & 15 & 17 & 0.331866 & 7.07767e-15 & false & true \\\\\n",
       "\t7 & f1(x) = 2*x - exp(-x) & Newton & 4 & 9 & 0.351734 & 0.0 & true & true \\\\\n",
       "\t8 & f2(x) = x\\^3 - 2x - 5 & Newton & 19 & 39 & 2.09455 & -8.88178e-16 & false & true \\\\\n",
       "\\end{tabular}\n"
      ],
      "text/plain": [
       "8×8 DataFrame. Omitted printing of 5 columns\n",
       "│ Row │ Function                          │ Method        │ Iterations │\n",
       "│     │ \u001b[90mString\u001b[39m                            │ \u001b[90mString\u001b[39m        │ \u001b[90mInt64\u001b[39m      │\n",
       "├─────┼───────────────────────────────────┼───────────────┼────────────┤\n",
       "│ 1   │ f1 = 2*x - exp(-x)                │ FalsePosition │ 7          │\n",
       "│ 2   │ f2 = x^3 - 2*x - 5                │ FalsePosition │ 13         │\n",
       "│ 3   │ f3 = (x-1)^7                      │ FalsePosition │ 41         │\n",
       "│ 4   │ f4(x) = sin(x) - x/2              │ FalsePosition │ 10         │\n",
       "│ 5   │ f5(x) = cos(x) - x                │ FalsePosition │ 8          │\n",
       "│ 6   │ f6(x) = cos(100*x)-4*erf(30*x-10) │ FalsePosition │ 15         │\n",
       "│ 7   │ f1(x) = 2*x - exp(-x)             │ Newton        │ 4          │\n",
       "│ 8   │ f2(x) = x^3 - 2x - 5              │ Newton        │ 19         │"
      ]
     },
     "execution_count": 27,
     "metadata": {},
     "output_type": "execute_result"
    }
   ],
   "source": [
    "push!(df, (\"f2(x) = x^3 - 2x - 5\",\"Newton\",19,39,x,value,is_zero,change))"
   ]
  },
  {
   "cell_type": "code",
   "execution_count": 28,
   "metadata": {},
   "outputs": [
    {
     "name": "stdout",
     "output_type": "stream",
     "text": [
      "Results of univariate zero finding:\n",
      "\n",
      "* Converged to: 0.9938233080518548\n",
      "* Algorithm: Roots.Newton()\n",
      "* iterations: 33\n",
      "* function evaluations: 67\n",
      "* stopped as |f(x_n)| ≤ max(δ, max(1,|x|)⋅ϵ) using δ = atol, ϵ = rtol\n",
      "\n",
      "Trace:\n",
      "x_0 =  0.0000000000000000,\t fx_0 = -1.0000000000000000\n",
      "x_1 =  0.1428571428571428,\t fx_1 = -0.3399166770891140\n",
      "x_2 =  0.2653061224489796,\t fx_2 = -0.1155433473633047\n",
      "x_3 =  0.3702623906705539,\t fx_3 = -0.0392751106954878\n",
      "x_4 =  0.4602249062890462,\t fx_4 = -0.0133502651199173\n",
      "x_5 =  0.5373356339620396,\t fx_5 = -0.0045379777578210\n",
      "x_6 =  0.6034305433960340,\t fx_6 = -0.0015425343201428\n",
      "x_7 =  0.6600833229108862,\t fx_7 = -0.0005243331403989\n",
      "x_8 =  0.7086428482093311,\t fx_8 = -0.0001782295787721\n",
      "x_9 =  0.7502652984651409,\t fx_9 = -0.0000605832061752\n",
      "x_10 =  0.7859416843986922,\t fx_10 = -0.0000205932421305\n",
      "x_11 =  0.8165214437703076,\t fx_11 = -0.0000069999864355\n",
      "x_12 =  0.8427326660888350,\t fx_12 = -0.0000023794121288\n",
      "x_13 =  0.8651994280761443,\t fx_13 = -0.0000008088018643\n",
      "x_14 =  0.8844566526366950,\t fx_14 = -0.0000002749252421\n",
      "x_15 =  0.9009628451171672,\t fx_15 = -0.0000000934516747\n",
      "x_16 =  0.9151110101004291,\t fx_16 = -0.0000000317657827\n",
      "x_17 =  0.9272380086575106,\t fx_17 = -0.0000000107977193\n",
      "x_18 =  0.9376325788492949,\t fx_18 = -0.0000000036703249\n",
      "x_19 =  0.9465422104422527,\t fx_19 = -0.0000000012476046\n",
      "x_20 =  0.9541790375219309,\t fx_20 = -0.0000000004240816\n",
      "x_21 =  0.9607248893045122,\t fx_21 = -0.0000000001441524\n",
      "x_22 =  0.9663356194038676,\t fx_22 = -0.0000000000489998\n",
      "x_23 =  0.9711448166318865,\t fx_23 = -0.0000000000166559\n",
      "x_24 =  0.9752669856844741,\t fx_24 = -0.0000000000056616\n",
      "x_25 =  0.9788002734438349,\t fx_25 = -0.0000000000019245\n",
      "x_26 =  0.9818288058090013,\t fx_26 = -0.0000000000006542\n",
      "x_27 =  0.9844246906934297,\t fx_27 = -0.0000000000002224\n",
      "x_28 =  0.9866497348800827,\t fx_28 = -0.0000000000000756\n",
      "x_29 =  0.9885569156114994,\t fx_29 = -0.0000000000000257\n",
      "x_30 =  0.9901916419527138,\t fx_30 = -0.0000000000000087\n",
      "x_31 =  0.9915928359594690,\t fx_31 = -0.0000000000000030\n",
      "x_32 =  0.9927938593938306,\t fx_32 = -0.0000000000000010\n",
      "x_33 =  0.9938233080518548,\t fx_33 = -0.0000000000000003\n",
      "\n"
     ]
    },
    {
     "data": {
      "text/plain": [
       "false"
      ]
     },
     "execution_count": 28,
     "metadata": {},
     "output_type": "execute_result"
    }
   ],
   "source": [
    "D(f3) = x->ForwardDiff.derivative(f3, float(x))\n",
    "x = find_zero((f3, D(f3)),0, Roots.Newton(),verbose=true)\n",
    "value = f3(x)\n",
    "is_zero = iszero(f3(x))\n",
    "if sign(f3(prevfloat(x))) *sign(f3(nextfloat(x))) < 0\n",
    "    change = true\n",
    "else\n",
    "    change = false\n",
    "end"
   ]
  },
  {
   "cell_type": "code",
   "execution_count": 29,
   "metadata": {},
   "outputs": [
    {
     "data": {
      "text/html": [
       "<table class=\"data-frame\"><thead><tr><th></th><th>Function</th><th>Method</th><th>Iterations</th><th>Evaluations</th><th>Root</th><th>Value</th><th>Is_zero</th><th>Change_sign</th></tr><tr><th></th><th>String</th><th>String</th><th>Int64</th><th>Int64</th><th>Float64</th><th>Float64</th><th>Bool</th><th>Bool</th></tr></thead><tbody><p>9 rows × 8 columns</p><tr><th>1</th><td>f1 = 2*x - exp(-x)</td><td>FalsePosition</td><td>7</td><td>9</td><td>0.351734</td><td>0.0</td><td>true</td><td>true</td></tr><tr><th>2</th><td>f2 = x^3 - 2*x - 5</td><td>FalsePosition</td><td>13</td><td>15</td><td>2.09455</td><td>-8.88178e-16</td><td>false</td><td>true</td></tr><tr><th>3</th><td>f3 = (x-1)^7</td><td>FalsePosition</td><td>41</td><td>43</td><td>0.983044</td><td>-4.0291e-13</td><td>false</td><td>false</td></tr><tr><th>4</th><td>f4(x) = sin(x) - x/2</td><td>FalsePosition</td><td>10</td><td>12</td><td>1.89549</td><td>0.0</td><td>true</td><td>true</td></tr><tr><th>5</th><td>f5(x) = cos(x) - x</td><td>FalsePosition</td><td>8</td><td>10</td><td>0.739085</td><td>0.0</td><td>true</td><td>true</td></tr><tr><th>6</th><td>f6(x) = cos(100*x)-4*erf(30*x-10)</td><td>FalsePosition</td><td>15</td><td>17</td><td>0.331866</td><td>7.07767e-15</td><td>false</td><td>true</td></tr><tr><th>7</th><td>f1(x) = 2*x - exp(-x)</td><td>Newton</td><td>4</td><td>9</td><td>0.351734</td><td>0.0</td><td>true</td><td>true</td></tr><tr><th>8</th><td>f2(x) = x^3 - 2x - 5</td><td>Newton</td><td>19</td><td>39</td><td>2.09455</td><td>-8.88178e-16</td><td>false</td><td>true</td></tr><tr><th>9</th><td>f3(x) = (x-1)^7</td><td>Newton</td><td>33</td><td>67</td><td>0.993823</td><td>-3.42998e-16</td><td>false</td><td>false</td></tr></tbody></table>"
      ],
      "text/latex": [
       "\\begin{tabular}{r|cccccccc}\n",
       "\t& Function & Method & Iterations & Evaluations & Root & Value & Is\\_zero & Change\\_sign\\\\\n",
       "\t\\hline\n",
       "\t& String & String & Int64 & Int64 & Float64 & Float64 & Bool & Bool\\\\\n",
       "\t\\hline\n",
       "\t1 & f1 = 2*x - exp(-x) & FalsePosition & 7 & 9 & 0.351734 & 0.0 & true & true \\\\\n",
       "\t2 & f2 = x\\^3 - 2*x - 5 & FalsePosition & 13 & 15 & 2.09455 & -8.88178e-16 & false & true \\\\\n",
       "\t3 & f3 = (x-1)\\^7 & FalsePosition & 41 & 43 & 0.983044 & -4.0291e-13 & false & false \\\\\n",
       "\t4 & f4(x) = sin(x) - x/2 & FalsePosition & 10 & 12 & 1.89549 & 0.0 & true & true \\\\\n",
       "\t5 & f5(x) = cos(x) - x & FalsePosition & 8 & 10 & 0.739085 & 0.0 & true & true \\\\\n",
       "\t6 & f6(x) = cos(100*x)-4*erf(30*x-10) & FalsePosition & 15 & 17 & 0.331866 & 7.07767e-15 & false & true \\\\\n",
       "\t7 & f1(x) = 2*x - exp(-x) & Newton & 4 & 9 & 0.351734 & 0.0 & true & true \\\\\n",
       "\t8 & f2(x) = x\\^3 - 2x - 5 & Newton & 19 & 39 & 2.09455 & -8.88178e-16 & false & true \\\\\n",
       "\t9 & f3(x) = (x-1)\\^7 & Newton & 33 & 67 & 0.993823 & -3.42998e-16 & false & false \\\\\n",
       "\\end{tabular}\n"
      ],
      "text/plain": [
       "9×8 DataFrame. Omitted printing of 5 columns\n",
       "│ Row │ Function                          │ Method        │ Iterations │\n",
       "│     │ \u001b[90mString\u001b[39m                            │ \u001b[90mString\u001b[39m        │ \u001b[90mInt64\u001b[39m      │\n",
       "├─────┼───────────────────────────────────┼───────────────┼────────────┤\n",
       "│ 1   │ f1 = 2*x - exp(-x)                │ FalsePosition │ 7          │\n",
       "│ 2   │ f2 = x^3 - 2*x - 5                │ FalsePosition │ 13         │\n",
       "│ 3   │ f3 = (x-1)^7                      │ FalsePosition │ 41         │\n",
       "│ 4   │ f4(x) = sin(x) - x/2              │ FalsePosition │ 10         │\n",
       "│ 5   │ f5(x) = cos(x) - x                │ FalsePosition │ 8          │\n",
       "│ 6   │ f6(x) = cos(100*x)-4*erf(30*x-10) │ FalsePosition │ 15         │\n",
       "│ 7   │ f1(x) = 2*x - exp(-x)             │ Newton        │ 4          │\n",
       "│ 8   │ f2(x) = x^3 - 2x - 5              │ Newton        │ 19         │\n",
       "│ 9   │ f3(x) = (x-1)^7                   │ Newton        │ 33         │"
      ]
     },
     "execution_count": 29,
     "metadata": {},
     "output_type": "execute_result"
    }
   ],
   "source": [
    "push!(df, (\"f3(x) = (x-1)^7\",\"Newton\",33,67,x,value,is_zero,change))"
   ]
  },
  {
   "cell_type": "code",
   "execution_count": 30,
   "metadata": {},
   "outputs": [
    {
     "name": "stdout",
     "output_type": "stream",
     "text": [
      "Results of univariate zero finding:\n",
      "\n",
      "* Converged to: 0.0\n",
      "* Algorithm: Roots.Newton()\n",
      "* iterations: 0\n",
      "* function evaluations: 1\n",
      "* stopped as |f(x_n)| ≤ max(δ, max(1,|x|)⋅ϵ) using δ = atol, ϵ = rtol\n",
      "\n",
      "Trace:\n",
      "x_0 =  0.0000000000000000,\t fx_0 =  0.0000000000000000\n",
      "\n"
     ]
    },
    {
     "data": {
      "text/plain": [
       "true"
      ]
     },
     "execution_count": 30,
     "metadata": {},
     "output_type": "execute_result"
    }
   ],
   "source": [
    "D(f4) = x->ForwardDiff.derivative(f4, float(x))\n",
    "x = find_zero((f4, D(f4)),0, Roots.Newton(),verbose=true)\n",
    "value = f4(x)\n",
    "is_zero = iszero(f4(x))\n",
    "if sign(f4(prevfloat(x))) *sign(f4(nextfloat(x))) < 0\n",
    "    change = true\n",
    "else\n",
    "    change = false\n",
    "end"
   ]
  },
  {
   "cell_type": "code",
   "execution_count": 31,
   "metadata": {},
   "outputs": [
    {
     "data": {
      "text/html": [
       "<table class=\"data-frame\"><thead><tr><th></th><th>Function</th><th>Method</th><th>Iterations</th><th>Evaluations</th><th>Root</th><th>Value</th><th>Is_zero</th><th>Change_sign</th></tr><tr><th></th><th>String</th><th>String</th><th>Int64</th><th>Int64</th><th>Float64</th><th>Float64</th><th>Bool</th><th>Bool</th></tr></thead><tbody><p>10 rows × 8 columns</p><tr><th>1</th><td>f1 = 2*x - exp(-x)</td><td>FalsePosition</td><td>7</td><td>9</td><td>0.351734</td><td>0.0</td><td>true</td><td>true</td></tr><tr><th>2</th><td>f2 = x^3 - 2*x - 5</td><td>FalsePosition</td><td>13</td><td>15</td><td>2.09455</td><td>-8.88178e-16</td><td>false</td><td>true</td></tr><tr><th>3</th><td>f3 = (x-1)^7</td><td>FalsePosition</td><td>41</td><td>43</td><td>0.983044</td><td>-4.0291e-13</td><td>false</td><td>false</td></tr><tr><th>4</th><td>f4(x) = sin(x) - x/2</td><td>FalsePosition</td><td>10</td><td>12</td><td>1.89549</td><td>0.0</td><td>true</td><td>true</td></tr><tr><th>5</th><td>f5(x) = cos(x) - x</td><td>FalsePosition</td><td>8</td><td>10</td><td>0.739085</td><td>0.0</td><td>true</td><td>true</td></tr><tr><th>6</th><td>f6(x) = cos(100*x)-4*erf(30*x-10)</td><td>FalsePosition</td><td>15</td><td>17</td><td>0.331866</td><td>7.07767e-15</td><td>false</td><td>true</td></tr><tr><th>7</th><td>f1(x) = 2*x - exp(-x)</td><td>Newton</td><td>4</td><td>9</td><td>0.351734</td><td>0.0</td><td>true</td><td>true</td></tr><tr><th>8</th><td>f2(x) = x^3 - 2x - 5</td><td>Newton</td><td>19</td><td>39</td><td>2.09455</td><td>-8.88178e-16</td><td>false</td><td>true</td></tr><tr><th>9</th><td>f3(x) = (x-1)^7</td><td>Newton</td><td>33</td><td>67</td><td>0.993823</td><td>-3.42998e-16</td><td>false</td><td>false</td></tr><tr><th>10</th><td>f4(x) = sin(x) - x/2</td><td>Newton</td><td>0</td><td>1</td><td>0.0</td><td>0.0</td><td>true</td><td>true</td></tr></tbody></table>"
      ],
      "text/latex": [
       "\\begin{tabular}{r|cccccccc}\n",
       "\t& Function & Method & Iterations & Evaluations & Root & Value & Is\\_zero & Change\\_sign\\\\\n",
       "\t\\hline\n",
       "\t& String & String & Int64 & Int64 & Float64 & Float64 & Bool & Bool\\\\\n",
       "\t\\hline\n",
       "\t1 & f1 = 2*x - exp(-x) & FalsePosition & 7 & 9 & 0.351734 & 0.0 & true & true \\\\\n",
       "\t2 & f2 = x\\^3 - 2*x - 5 & FalsePosition & 13 & 15 & 2.09455 & -8.88178e-16 & false & true \\\\\n",
       "\t3 & f3 = (x-1)\\^7 & FalsePosition & 41 & 43 & 0.983044 & -4.0291e-13 & false & false \\\\\n",
       "\t4 & f4(x) = sin(x) - x/2 & FalsePosition & 10 & 12 & 1.89549 & 0.0 & true & true \\\\\n",
       "\t5 & f5(x) = cos(x) - x & FalsePosition & 8 & 10 & 0.739085 & 0.0 & true & true \\\\\n",
       "\t6 & f6(x) = cos(100*x)-4*erf(30*x-10) & FalsePosition & 15 & 17 & 0.331866 & 7.07767e-15 & false & true \\\\\n",
       "\t7 & f1(x) = 2*x - exp(-x) & Newton & 4 & 9 & 0.351734 & 0.0 & true & true \\\\\n",
       "\t8 & f2(x) = x\\^3 - 2x - 5 & Newton & 19 & 39 & 2.09455 & -8.88178e-16 & false & true \\\\\n",
       "\t9 & f3(x) = (x-1)\\^7 & Newton & 33 & 67 & 0.993823 & -3.42998e-16 & false & false \\\\\n",
       "\t10 & f4(x) = sin(x) - x/2 & Newton & 0 & 1 & 0.0 & 0.0 & true & true \\\\\n",
       "\\end{tabular}\n"
      ],
      "text/plain": [
       "10×8 DataFrame. Omitted printing of 5 columns\n",
       "│ Row │ Function                          │ Method        │ Iterations │\n",
       "│     │ \u001b[90mString\u001b[39m                            │ \u001b[90mString\u001b[39m        │ \u001b[90mInt64\u001b[39m      │\n",
       "├─────┼───────────────────────────────────┼───────────────┼────────────┤\n",
       "│ 1   │ f1 = 2*x - exp(-x)                │ FalsePosition │ 7          │\n",
       "│ 2   │ f2 = x^3 - 2*x - 5                │ FalsePosition │ 13         │\n",
       "│ 3   │ f3 = (x-1)^7                      │ FalsePosition │ 41         │\n",
       "│ 4   │ f4(x) = sin(x) - x/2              │ FalsePosition │ 10         │\n",
       "│ 5   │ f5(x) = cos(x) - x                │ FalsePosition │ 8          │\n",
       "│ 6   │ f6(x) = cos(100*x)-4*erf(30*x-10) │ FalsePosition │ 15         │\n",
       "│ 7   │ f1(x) = 2*x - exp(-x)             │ Newton        │ 4          │\n",
       "│ 8   │ f2(x) = x^3 - 2x - 5              │ Newton        │ 19         │\n",
       "│ 9   │ f3(x) = (x-1)^7                   │ Newton        │ 33         │\n",
       "│ 10  │ f4(x) = sin(x) - x/2              │ Newton        │ 0          │"
      ]
     },
     "execution_count": 31,
     "metadata": {},
     "output_type": "execute_result"
    }
   ],
   "source": [
    "push!(df, (\"f4(x) = sin(x) - x/2\",\"Newton\",0,1,x,value,is_zero,change))"
   ]
  },
  {
   "cell_type": "code",
   "execution_count": 33,
   "metadata": {},
   "outputs": [
    {
     "name": "stdout",
     "output_type": "stream",
     "text": [
      "Results of univariate zero finding:\n",
      "\n",
      "* Converged to: 0.7390851332151607\n",
      "* Algorithm: Roots.Newton()\n",
      "* iterations: 5\n",
      "* function evaluations: 11\n",
      "* stopped as |f(x_n)| ≤ max(δ, max(1,|x|)⋅ϵ) using δ = atol, ϵ = rtol\n",
      "\n",
      "Trace:\n",
      "x_0 =  0.0000000000000000,\t fx_0 =  1.0000000000000000\n",
      "x_1 =  1.0000000000000000,\t fx_1 = -0.4596976941318602\n",
      "x_2 =  0.7503638678402439,\t fx_2 = -0.0189230738221174\n",
      "x_3 =  0.7391128909113617,\t fx_3 = -0.0000464558989908\n",
      "x_4 =  0.7390851333852840,\t fx_4 = -0.0000000002847206\n",
      "x_5 =  0.7390851332151607,\t fx_5 =  0.0000000000000000\n",
      "\n"
     ]
    },
    {
     "data": {
      "text/plain": [
       "true"
      ]
     },
     "execution_count": 33,
     "metadata": {},
     "output_type": "execute_result"
    }
   ],
   "source": [
    "D(f5) = x->ForwardDiff.derivative(f5, float(x))\n",
    "x = find_zero((f5, D(f5)),0, Roots.Newton(),verbose=true)\n",
    "value = f5(x)\n",
    "is_zero = iszero(f5(x))\n",
    "if sign(f5(prevfloat(x))) *sign(f5(nextfloat(x))) < 0\n",
    "    change = true\n",
    "else\n",
    "    change = false\n",
    "end"
   ]
  },
  {
   "cell_type": "code",
   "execution_count": 34,
   "metadata": {},
   "outputs": [
    {
     "data": {
      "text/html": [
       "<table class=\"data-frame\"><thead><tr><th></th><th>Function</th><th>Method</th><th>Iterations</th><th>Evaluations</th><th>Root</th><th>Value</th><th>Is_zero</th><th>Change_sign</th></tr><tr><th></th><th>String</th><th>String</th><th>Int64</th><th>Int64</th><th>Float64</th><th>Float64</th><th>Bool</th><th>Bool</th></tr></thead><tbody><p>11 rows × 8 columns</p><tr><th>1</th><td>f1 = 2*x - exp(-x)</td><td>FalsePosition</td><td>7</td><td>9</td><td>0.351734</td><td>0.0</td><td>true</td><td>true</td></tr><tr><th>2</th><td>f2 = x^3 - 2*x - 5</td><td>FalsePosition</td><td>13</td><td>15</td><td>2.09455</td><td>-8.88178e-16</td><td>false</td><td>true</td></tr><tr><th>3</th><td>f3 = (x-1)^7</td><td>FalsePosition</td><td>41</td><td>43</td><td>0.983044</td><td>-4.0291e-13</td><td>false</td><td>false</td></tr><tr><th>4</th><td>f4(x) = sin(x) - x/2</td><td>FalsePosition</td><td>10</td><td>12</td><td>1.89549</td><td>0.0</td><td>true</td><td>true</td></tr><tr><th>5</th><td>f5(x) = cos(x) - x</td><td>FalsePosition</td><td>8</td><td>10</td><td>0.739085</td><td>0.0</td><td>true</td><td>true</td></tr><tr><th>6</th><td>f6(x) = cos(100*x)-4*erf(30*x-10)</td><td>FalsePosition</td><td>15</td><td>17</td><td>0.331866</td><td>7.07767e-15</td><td>false</td><td>true</td></tr><tr><th>7</th><td>f1(x) = 2*x - exp(-x)</td><td>Newton</td><td>4</td><td>9</td><td>0.351734</td><td>0.0</td><td>true</td><td>true</td></tr><tr><th>8</th><td>f2(x) = x^3 - 2x - 5</td><td>Newton</td><td>19</td><td>39</td><td>2.09455</td><td>-8.88178e-16</td><td>false</td><td>true</td></tr><tr><th>9</th><td>f3(x) = (x-1)^7</td><td>Newton</td><td>33</td><td>67</td><td>0.993823</td><td>-3.42998e-16</td><td>false</td><td>false</td></tr><tr><th>10</th><td>f4(x) = sin(x) - x/2</td><td>Newton</td><td>0</td><td>1</td><td>0.0</td><td>0.0</td><td>true</td><td>true</td></tr><tr><th>11</th><td>f5(x) = cos(x) - x</td><td>Newton</td><td>5</td><td>11</td><td>0.739085</td><td>0.0</td><td>true</td><td>true</td></tr></tbody></table>"
      ],
      "text/latex": [
       "\\begin{tabular}{r|cccccccc}\n",
       "\t& Function & Method & Iterations & Evaluations & Root & Value & Is\\_zero & Change\\_sign\\\\\n",
       "\t\\hline\n",
       "\t& String & String & Int64 & Int64 & Float64 & Float64 & Bool & Bool\\\\\n",
       "\t\\hline\n",
       "\t1 & f1 = 2*x - exp(-x) & FalsePosition & 7 & 9 & 0.351734 & 0.0 & true & true \\\\\n",
       "\t2 & f2 = x\\^3 - 2*x - 5 & FalsePosition & 13 & 15 & 2.09455 & -8.88178e-16 & false & true \\\\\n",
       "\t3 & f3 = (x-1)\\^7 & FalsePosition & 41 & 43 & 0.983044 & -4.0291e-13 & false & false \\\\\n",
       "\t4 & f4(x) = sin(x) - x/2 & FalsePosition & 10 & 12 & 1.89549 & 0.0 & true & true \\\\\n",
       "\t5 & f5(x) = cos(x) - x & FalsePosition & 8 & 10 & 0.739085 & 0.0 & true & true \\\\\n",
       "\t6 & f6(x) = cos(100*x)-4*erf(30*x-10) & FalsePosition & 15 & 17 & 0.331866 & 7.07767e-15 & false & true \\\\\n",
       "\t7 & f1(x) = 2*x - exp(-x) & Newton & 4 & 9 & 0.351734 & 0.0 & true & true \\\\\n",
       "\t8 & f2(x) = x\\^3 - 2x - 5 & Newton & 19 & 39 & 2.09455 & -8.88178e-16 & false & true \\\\\n",
       "\t9 & f3(x) = (x-1)\\^7 & Newton & 33 & 67 & 0.993823 & -3.42998e-16 & false & false \\\\\n",
       "\t10 & f4(x) = sin(x) - x/2 & Newton & 0 & 1 & 0.0 & 0.0 & true & true \\\\\n",
       "\t11 & f5(x) = cos(x) - x & Newton & 5 & 11 & 0.739085 & 0.0 & true & true \\\\\n",
       "\\end{tabular}\n"
      ],
      "text/plain": [
       "11×8 DataFrame. Omitted printing of 5 columns\n",
       "│ Row │ Function                          │ Method        │ Iterations │\n",
       "│     │ \u001b[90mString\u001b[39m                            │ \u001b[90mString\u001b[39m        │ \u001b[90mInt64\u001b[39m      │\n",
       "├─────┼───────────────────────────────────┼───────────────┼────────────┤\n",
       "│ 1   │ f1 = 2*x - exp(-x)                │ FalsePosition │ 7          │\n",
       "│ 2   │ f2 = x^3 - 2*x - 5                │ FalsePosition │ 13         │\n",
       "│ 3   │ f3 = (x-1)^7                      │ FalsePosition │ 41         │\n",
       "│ 4   │ f4(x) = sin(x) - x/2              │ FalsePosition │ 10         │\n",
       "│ 5   │ f5(x) = cos(x) - x                │ FalsePosition │ 8          │\n",
       "│ 6   │ f6(x) = cos(100*x)-4*erf(30*x-10) │ FalsePosition │ 15         │\n",
       "│ 7   │ f1(x) = 2*x - exp(-x)             │ Newton        │ 4          │\n",
       "│ 8   │ f2(x) = x^3 - 2x - 5              │ Newton        │ 19         │\n",
       "│ 9   │ f3(x) = (x-1)^7                   │ Newton        │ 33         │\n",
       "│ 10  │ f4(x) = sin(x) - x/2              │ Newton        │ 0          │\n",
       "│ 11  │ f5(x) = cos(x) - x                │ Newton        │ 5          │"
      ]
     },
     "execution_count": 34,
     "metadata": {},
     "output_type": "execute_result"
    }
   ],
   "source": [
    "push!(df, (\"f5(x) = cos(x) - x\",\"Newton\",5,11,x,value,is_zero,change))"
   ]
  },
  {
   "cell_type": "code",
   "execution_count": 35,
   "metadata": {},
   "outputs": [
    {
     "name": "stdout",
     "output_type": "stream",
     "text": [
      "Results of univariate zero finding:\n",
      "\n",
      "* Converged to: 9.926174124369038e41\n",
      "* Algorithm: Roots.Newton()\n",
      "* iterations: 1\n",
      "* function evaluations: 3\n",
      "* stopped as |f(x_n)| ≤ max(δ, max(1,|x|)⋅ϵ) using δ = atol, ϵ = rtol\n",
      "\n",
      "Trace:\n",
      "x_0 =  0.0000000000000000,\t fx_0 =  5.0000000000000000\n",
      "x_1 =  992617412436903833480015075729737592602624.0000000000000000,\t fx_1 = -3.3152873109355183\n",
      "\n"
     ]
    },
    {
     "data": {
      "text/plain": [
       "false"
      ]
     },
     "execution_count": 35,
     "metadata": {},
     "output_type": "execute_result"
    }
   ],
   "source": [
    "D(f6) = x->ForwardDiff.derivative(f6, float(x))\n",
    "x = find_zero((f6, D(f6)),0, Roots.Newton(),verbose=true)\n",
    "value = f6(x)\n",
    "is_zero = iszero(f6(x))\n",
    "if sign(f6(prevfloat(x))) *sign(f6(nextfloat(x))) < 0\n",
    "    change = true\n",
    "else\n",
    "    change = false\n",
    "end"
   ]
  },
  {
   "cell_type": "code",
   "execution_count": 36,
   "metadata": {},
   "outputs": [
    {
     "data": {
      "text/html": [
       "<table class=\"data-frame\"><thead><tr><th></th><th>Function</th><th>Method</th><th>Iterations</th><th>Evaluations</th><th>Root</th><th>Value</th><th>Is_zero</th><th>Change_sign</th></tr><tr><th></th><th>String</th><th>String</th><th>Int64</th><th>Int64</th><th>Float64</th><th>Float64</th><th>Bool</th><th>Bool</th></tr></thead><tbody><p>12 rows × 8 columns</p><tr><th>1</th><td>f1 = 2*x - exp(-x)</td><td>FalsePosition</td><td>7</td><td>9</td><td>0.351734</td><td>0.0</td><td>true</td><td>true</td></tr><tr><th>2</th><td>f2 = x^3 - 2*x - 5</td><td>FalsePosition</td><td>13</td><td>15</td><td>2.09455</td><td>-8.88178e-16</td><td>false</td><td>true</td></tr><tr><th>3</th><td>f3 = (x-1)^7</td><td>FalsePosition</td><td>41</td><td>43</td><td>0.983044</td><td>-4.0291e-13</td><td>false</td><td>false</td></tr><tr><th>4</th><td>f4(x) = sin(x) - x/2</td><td>FalsePosition</td><td>10</td><td>12</td><td>1.89549</td><td>0.0</td><td>true</td><td>true</td></tr><tr><th>5</th><td>f5(x) = cos(x) - x</td><td>FalsePosition</td><td>8</td><td>10</td><td>0.739085</td><td>0.0</td><td>true</td><td>true</td></tr><tr><th>6</th><td>f6(x) = cos(100*x)-4*erf(30*x-10)</td><td>FalsePosition</td><td>15</td><td>17</td><td>0.331866</td><td>7.07767e-15</td><td>false</td><td>true</td></tr><tr><th>7</th><td>f1(x) = 2*x - exp(-x)</td><td>Newton</td><td>4</td><td>9</td><td>0.351734</td><td>0.0</td><td>true</td><td>true</td></tr><tr><th>8</th><td>f2(x) = x^3 - 2x - 5</td><td>Newton</td><td>19</td><td>39</td><td>2.09455</td><td>-8.88178e-16</td><td>false</td><td>true</td></tr><tr><th>9</th><td>f3(x) = (x-1)^7</td><td>Newton</td><td>33</td><td>67</td><td>0.993823</td><td>-3.42998e-16</td><td>false</td><td>false</td></tr><tr><th>10</th><td>f4(x) = sin(x) - x/2</td><td>Newton</td><td>0</td><td>1</td><td>0.0</td><td>0.0</td><td>true</td><td>true</td></tr><tr><th>11</th><td>f5(x) = cos(x) - x</td><td>Newton</td><td>5</td><td>11</td><td>0.739085</td><td>0.0</td><td>true</td><td>true</td></tr><tr><th>12</th><td>f6(x) = cos(100*x)-4*erf(30*x-10)</td><td>Newton</td><td>1</td><td>3</td><td>9.92617e41</td><td>-3.31529</td><td>false</td><td>false</td></tr></tbody></table>"
      ],
      "text/latex": [
       "\\begin{tabular}{r|cccccccc}\n",
       "\t& Function & Method & Iterations & Evaluations & Root & Value & Is\\_zero & Change\\_sign\\\\\n",
       "\t\\hline\n",
       "\t& String & String & Int64 & Int64 & Float64 & Float64 & Bool & Bool\\\\\n",
       "\t\\hline\n",
       "\t1 & f1 = 2*x - exp(-x) & FalsePosition & 7 & 9 & 0.351734 & 0.0 & true & true \\\\\n",
       "\t2 & f2 = x\\^3 - 2*x - 5 & FalsePosition & 13 & 15 & 2.09455 & -8.88178e-16 & false & true \\\\\n",
       "\t3 & f3 = (x-1)\\^7 & FalsePosition & 41 & 43 & 0.983044 & -4.0291e-13 & false & false \\\\\n",
       "\t4 & f4(x) = sin(x) - x/2 & FalsePosition & 10 & 12 & 1.89549 & 0.0 & true & true \\\\\n",
       "\t5 & f5(x) = cos(x) - x & FalsePosition & 8 & 10 & 0.739085 & 0.0 & true & true \\\\\n",
       "\t6 & f6(x) = cos(100*x)-4*erf(30*x-10) & FalsePosition & 15 & 17 & 0.331866 & 7.07767e-15 & false & true \\\\\n",
       "\t7 & f1(x) = 2*x - exp(-x) & Newton & 4 & 9 & 0.351734 & 0.0 & true & true \\\\\n",
       "\t8 & f2(x) = x\\^3 - 2x - 5 & Newton & 19 & 39 & 2.09455 & -8.88178e-16 & false & true \\\\\n",
       "\t9 & f3(x) = (x-1)\\^7 & Newton & 33 & 67 & 0.993823 & -3.42998e-16 & false & false \\\\\n",
       "\t10 & f4(x) = sin(x) - x/2 & Newton & 0 & 1 & 0.0 & 0.0 & true & true \\\\\n",
       "\t11 & f5(x) = cos(x) - x & Newton & 5 & 11 & 0.739085 & 0.0 & true & true \\\\\n",
       "\t12 & f6(x) = cos(100*x)-4*erf(30*x-10) & Newton & 1 & 3 & 9.92617e41 & -3.31529 & false & false \\\\\n",
       "\\end{tabular}\n"
      ],
      "text/plain": [
       "12×8 DataFrame. Omitted printing of 5 columns\n",
       "│ Row │ Function                          │ Method        │ Iterations │\n",
       "│     │ \u001b[90mString\u001b[39m                            │ \u001b[90mString\u001b[39m        │ \u001b[90mInt64\u001b[39m      │\n",
       "├─────┼───────────────────────────────────┼───────────────┼────────────┤\n",
       "│ 1   │ f1 = 2*x - exp(-x)                │ FalsePosition │ 7          │\n",
       "│ 2   │ f2 = x^3 - 2*x - 5                │ FalsePosition │ 13         │\n",
       "│ 3   │ f3 = (x-1)^7                      │ FalsePosition │ 41         │\n",
       "│ 4   │ f4(x) = sin(x) - x/2              │ FalsePosition │ 10         │\n",
       "│ 5   │ f5(x) = cos(x) - x                │ FalsePosition │ 8          │\n",
       "│ 6   │ f6(x) = cos(100*x)-4*erf(30*x-10) │ FalsePosition │ 15         │\n",
       "│ 7   │ f1(x) = 2*x - exp(-x)             │ Newton        │ 4          │\n",
       "│ 8   │ f2(x) = x^3 - 2x - 5              │ Newton        │ 19         │\n",
       "│ 9   │ f3(x) = (x-1)^7                   │ Newton        │ 33         │\n",
       "│ 10  │ f4(x) = sin(x) - x/2              │ Newton        │ 0          │\n",
       "│ 11  │ f5(x) = cos(x) - x                │ Newton        │ 5          │\n",
       "│ 12  │ f6(x) = cos(100*x)-4*erf(30*x-10) │ Newton        │ 1          │"
      ]
     },
     "execution_count": 36,
     "metadata": {},
     "output_type": "execute_result"
    }
   ],
   "source": [
    "push!(df, (\"f6(x) = cos(100*x)-4*erf(30*x-10)\",\"Newton\",1,3,x,value,is_zero,change))"
   ]
  },
  {
   "cell_type": "code",
   "execution_count": null,
   "metadata": {},
   "outputs": [],
   "source": []
  },
  {
   "cell_type": "code",
   "execution_count": 37,
   "metadata": {},
   "outputs": [
    {
     "name": "stdout",
     "output_type": "stream",
     "text": [
      "Results of univariate zero finding:\n",
      "\n",
      "* Converged to: 0.35173371124919584\n",
      "* Algorithm: Roots.Secant(), with possible bracketing with Roots.AlefeldPotraShi()\n",
      "* iterations: 6\n",
      "* function evaluations: 9\n",
      "* stopped as |f(x_n)| ≤ max(δ, max(1,|x|)⋅ϵ) using δ = atol, ϵ = rtol\n",
      "\n",
      "Trace:\n",
      "x_0 =  0.0000000000000000,\t fx_0 = -1.0000000000000000\n",
      "x_1 =  0.0006055454452393,\t fx_1 = -0.9981835469699233\n",
      "x_2 =  0.0611600899691728,\t fx_2 = -0.8183524555296526\n",
      "x_3 =  0.3367240083536633,\t fx_3 = -0.0406578832636679\n",
      "x_4 =  0.3511304939135544,\t fx_4 = -0.0016309064270826\n",
      "x_5 =  0.3517325295257331,\t fx_5 = -0.0000031947513749\n",
      "x_6 =  0.3517337111564411,\t fx_6 = -0.0000000002507594\n",
      "\n"
     ]
    },
    {
     "data": {
      "text/plain": [
       "true"
      ]
     },
     "execution_count": 37,
     "metadata": {},
     "output_type": "execute_result"
    }
   ],
   "source": [
    "x = find_zero(f1, 0, verbose=true)\n",
    "value = f1(x)\n",
    "is_zero = iszero(f1(x))\n",
    "if sign(f1(prevfloat(x))) *sign(f1(nextfloat(x))) < 0\n",
    "    change = true\n",
    "else\n",
    "    change = false\n",
    "end"
   ]
  },
  {
   "cell_type": "code",
   "execution_count": 38,
   "metadata": {},
   "outputs": [
    {
     "data": {
      "text/html": [
       "<table class=\"data-frame\"><thead><tr><th></th><th>Function</th><th>Method</th><th>Iterations</th><th>Evaluations</th><th>Root</th><th>Value</th><th>Is_zero</th><th>Change_sign</th></tr><tr><th></th><th>String</th><th>String</th><th>Int64</th><th>Int64</th><th>Float64</th><th>Float64</th><th>Bool</th><th>Bool</th></tr></thead><tbody><p>13 rows × 8 columns</p><tr><th>1</th><td>f1 = 2*x - exp(-x)</td><td>FalsePosition</td><td>7</td><td>9</td><td>0.351734</td><td>0.0</td><td>true</td><td>true</td></tr><tr><th>2</th><td>f2 = x^3 - 2*x - 5</td><td>FalsePosition</td><td>13</td><td>15</td><td>2.09455</td><td>-8.88178e-16</td><td>false</td><td>true</td></tr><tr><th>3</th><td>f3 = (x-1)^7</td><td>FalsePosition</td><td>41</td><td>43</td><td>0.983044</td><td>-4.0291e-13</td><td>false</td><td>false</td></tr><tr><th>4</th><td>f4(x) = sin(x) - x/2</td><td>FalsePosition</td><td>10</td><td>12</td><td>1.89549</td><td>0.0</td><td>true</td><td>true</td></tr><tr><th>5</th><td>f5(x) = cos(x) - x</td><td>FalsePosition</td><td>8</td><td>10</td><td>0.739085</td><td>0.0</td><td>true</td><td>true</td></tr><tr><th>6</th><td>f6(x) = cos(100*x)-4*erf(30*x-10)</td><td>FalsePosition</td><td>15</td><td>17</td><td>0.331866</td><td>7.07767e-15</td><td>false</td><td>true</td></tr><tr><th>7</th><td>f1(x) = 2*x - exp(-x)</td><td>Newton</td><td>4</td><td>9</td><td>0.351734</td><td>0.0</td><td>true</td><td>true</td></tr><tr><th>8</th><td>f2(x) = x^3 - 2x - 5</td><td>Newton</td><td>19</td><td>39</td><td>2.09455</td><td>-8.88178e-16</td><td>false</td><td>true</td></tr><tr><th>9</th><td>f3(x) = (x-1)^7</td><td>Newton</td><td>33</td><td>67</td><td>0.993823</td><td>-3.42998e-16</td><td>false</td><td>false</td></tr><tr><th>10</th><td>f4(x) = sin(x) - x/2</td><td>Newton</td><td>0</td><td>1</td><td>0.0</td><td>0.0</td><td>true</td><td>true</td></tr><tr><th>11</th><td>f5(x) = cos(x) - x</td><td>Newton</td><td>5</td><td>11</td><td>0.739085</td><td>0.0</td><td>true</td><td>true</td></tr><tr><th>12</th><td>f6(x) = cos(100*x)-4*erf(30*x-10)</td><td>Newton</td><td>1</td><td>3</td><td>9.92617e41</td><td>-3.31529</td><td>false</td><td>false</td></tr><tr><th>13</th><td>f1(x) = 2*x - exp(-x)</td><td>Secant</td><td>6</td><td>9</td><td>0.351734</td><td>0.0</td><td>true</td><td>true</td></tr></tbody></table>"
      ],
      "text/latex": [
       "\\begin{tabular}{r|cccccccc}\n",
       "\t& Function & Method & Iterations & Evaluations & Root & Value & Is\\_zero & Change\\_sign\\\\\n",
       "\t\\hline\n",
       "\t& String & String & Int64 & Int64 & Float64 & Float64 & Bool & Bool\\\\\n",
       "\t\\hline\n",
       "\t1 & f1 = 2*x - exp(-x) & FalsePosition & 7 & 9 & 0.351734 & 0.0 & true & true \\\\\n",
       "\t2 & f2 = x\\^3 - 2*x - 5 & FalsePosition & 13 & 15 & 2.09455 & -8.88178e-16 & false & true \\\\\n",
       "\t3 & f3 = (x-1)\\^7 & FalsePosition & 41 & 43 & 0.983044 & -4.0291e-13 & false & false \\\\\n",
       "\t4 & f4(x) = sin(x) - x/2 & FalsePosition & 10 & 12 & 1.89549 & 0.0 & true & true \\\\\n",
       "\t5 & f5(x) = cos(x) - x & FalsePosition & 8 & 10 & 0.739085 & 0.0 & true & true \\\\\n",
       "\t6 & f6(x) = cos(100*x)-4*erf(30*x-10) & FalsePosition & 15 & 17 & 0.331866 & 7.07767e-15 & false & true \\\\\n",
       "\t7 & f1(x) = 2*x - exp(-x) & Newton & 4 & 9 & 0.351734 & 0.0 & true & true \\\\\n",
       "\t8 & f2(x) = x\\^3 - 2x - 5 & Newton & 19 & 39 & 2.09455 & -8.88178e-16 & false & true \\\\\n",
       "\t9 & f3(x) = (x-1)\\^7 & Newton & 33 & 67 & 0.993823 & -3.42998e-16 & false & false \\\\\n",
       "\t10 & f4(x) = sin(x) - x/2 & Newton & 0 & 1 & 0.0 & 0.0 & true & true \\\\\n",
       "\t11 & f5(x) = cos(x) - x & Newton & 5 & 11 & 0.739085 & 0.0 & true & true \\\\\n",
       "\t12 & f6(x) = cos(100*x)-4*erf(30*x-10) & Newton & 1 & 3 & 9.92617e41 & -3.31529 & false & false \\\\\n",
       "\t13 & f1(x) = 2*x - exp(-x) & Secant & 6 & 9 & 0.351734 & 0.0 & true & true \\\\\n",
       "\\end{tabular}\n"
      ],
      "text/plain": [
       "13×8 DataFrame. Omitted printing of 5 columns\n",
       "│ Row │ Function                          │ Method        │ Iterations │\n",
       "│     │ \u001b[90mString\u001b[39m                            │ \u001b[90mString\u001b[39m        │ \u001b[90mInt64\u001b[39m      │\n",
       "├─────┼───────────────────────────────────┼───────────────┼────────────┤\n",
       "│ 1   │ f1 = 2*x - exp(-x)                │ FalsePosition │ 7          │\n",
       "│ 2   │ f2 = x^3 - 2*x - 5                │ FalsePosition │ 13         │\n",
       "│ 3   │ f3 = (x-1)^7                      │ FalsePosition │ 41         │\n",
       "│ 4   │ f4(x) = sin(x) - x/2              │ FalsePosition │ 10         │\n",
       "│ 5   │ f5(x) = cos(x) - x                │ FalsePosition │ 8          │\n",
       "│ 6   │ f6(x) = cos(100*x)-4*erf(30*x-10) │ FalsePosition │ 15         │\n",
       "│ 7   │ f1(x) = 2*x - exp(-x)             │ Newton        │ 4          │\n",
       "│ 8   │ f2(x) = x^3 - 2x - 5              │ Newton        │ 19         │\n",
       "│ 9   │ f3(x) = (x-1)^7                   │ Newton        │ 33         │\n",
       "│ 10  │ f4(x) = sin(x) - x/2              │ Newton        │ 0          │\n",
       "│ 11  │ f5(x) = cos(x) - x                │ Newton        │ 5          │\n",
       "│ 12  │ f6(x) = cos(100*x)-4*erf(30*x-10) │ Newton        │ 1          │\n",
       "│ 13  │ f1(x) = 2*x - exp(-x)             │ Secant        │ 6          │"
      ]
     },
     "execution_count": 38,
     "metadata": {},
     "output_type": "execute_result"
    }
   ],
   "source": [
    "push!(df, (\"f1(x) = 2*x - exp(-x)\",\"Secant\",6,9,x,value,is_zero,change))"
   ]
  },
  {
   "cell_type": "code",
   "execution_count": 39,
   "metadata": {},
   "outputs": [
    {
     "name": "stdout",
     "output_type": "stream",
     "text": [
      "Results of univariate zero finding:\n",
      "\n",
      "* Convergence failed: \n",
      "* Algorithm Roots.Secant()\n",
      "\n",
      "Trace:\n",
      "x_0 =  0.0000000000000000,\t fx_0 = -5.0000000000000000\n",
      "x_1 = -0.0006055454452393,\t fx_1 = -4.9987889093315658\n",
      "x_2 = -0.0611600899691728,\t fx_2 = -4.8779085928401535\n",
      "x_3 = -0.4197831196420934,\t fx_3 = -4.2344070468869406\n",
      "x_4 = -0.5156341885182639,\t fx_4 = -4.1058277275592028\n",
      "x_5 = -0.6163689737546524,\t fx_5 = -4.0014272280457996\n",
      "x_6 = -0.6583829435986865,\t fx_6 = -3.9686221167143780\n",
      "x_7 = -0.7010168678911720,\t fx_7 = -3.9424632325117877\n",
      "\n"
     ]
    },
    {
     "ename": "Roots.ConvergenceFailed",
     "evalue": "Roots.ConvergenceFailed(\"Stopped at: xn = -4.96440929713972\")",
     "output_type": "error",
     "traceback": [
      "Roots.ConvergenceFailed(\"Stopped at: xn = -4.96440929713972\")",
      "",
      "Stacktrace:",
      " [1] #find_zero#4(::Roots.NullTracks, ::Bool, ::Base.Iterators.Pairs{Union{},Union{},Tuple{},NamedTuple{(),Tuple{}}}, ::Function, ::Roots.DerivativeFree{typeof(f2)}, ::Int64, ::Roots.Secant, ::Roots.AlefeldPotraShi) at /home/jrun/.julia/packages/Roots/xWzoi/src/find_zero.jl:542",
      " [2] (::getfield(Roots, Symbol(\"#kw##find_zero\")))(::NamedTuple{(:tracks, :verbose),Tuple{Roots.NullTracks,Bool}}, ::typeof(find_zero), ::Roots.DerivativeFree{typeof(f2)}, ::Int64, ::Roots.Secant, ::Roots.AlefeldPotraShi) at ./none:0",
      " [3] #find_zero#34(::Roots.NullTracks, ::Bool, ::Base.Iterators.Pairs{Union{},Union{},Tuple{},NamedTuple{(),Tuple{}}}, ::Function, ::Function, ::Int64, ::Order0) at /home/jrun/.julia/packages/Roots/xWzoi/src/derivative_free.jl:74",
      " [4] #find_zero at ./none:0 [inlined]",
      " [5] #find_zero#5 at /home/jrun/.julia/packages/Roots/xWzoi/src/find_zero.jl:549 [inlined]",
      " [6] (::getfield(Roots, Symbol(\"#kw##find_zero\")))(::NamedTuple{(:verbose,),Tuple{Bool}}, ::typeof(find_zero), ::Function, ::Int64) at ./none:0",
      " [7] top-level scope at In[39]:1"
     ]
    }
   ],
   "source": [
    "x = find_zero(f2, 0, verbose=true)\n",
    "value = f2(x)\n",
    "is_zero = iszero(f2(x))\n",
    "if sign(f2(prevfloat(x))) *sign(f2(nextfloat(x))) < 0\n",
    "    change = true\n",
    "else\n",
    "    change = false\n",
    "end"
   ]
  },
  {
   "cell_type": "code",
   "execution_count": 40,
   "metadata": {},
   "outputs": [
    {
     "data": {
      "text/html": [
       "<table class=\"data-frame\"><thead><tr><th></th><th>Function</th><th>Method</th><th>Iterations</th><th>Evaluations</th><th>Root</th><th>Value</th><th>Is_zero</th><th>Change_sign</th></tr><tr><th></th><th>String</th><th>String</th><th>Int64</th><th>Int64</th><th>Float64</th><th>Float64</th><th>Bool</th><th>Bool</th></tr></thead><tbody><p>14 rows × 8 columns</p><tr><th>1</th><td>f1 = 2*x - exp(-x)</td><td>FalsePosition</td><td>7</td><td>9</td><td>0.351734</td><td>0.0</td><td>true</td><td>true</td></tr><tr><th>2</th><td>f2 = x^3 - 2*x - 5</td><td>FalsePosition</td><td>13</td><td>15</td><td>2.09455</td><td>-8.88178e-16</td><td>false</td><td>true</td></tr><tr><th>3</th><td>f3 = (x-1)^7</td><td>FalsePosition</td><td>41</td><td>43</td><td>0.983044</td><td>-4.0291e-13</td><td>false</td><td>false</td></tr><tr><th>4</th><td>f4(x) = sin(x) - x/2</td><td>FalsePosition</td><td>10</td><td>12</td><td>1.89549</td><td>0.0</td><td>true</td><td>true</td></tr><tr><th>5</th><td>f5(x) = cos(x) - x</td><td>FalsePosition</td><td>8</td><td>10</td><td>0.739085</td><td>0.0</td><td>true</td><td>true</td></tr><tr><th>6</th><td>f6(x) = cos(100*x)-4*erf(30*x-10)</td><td>FalsePosition</td><td>15</td><td>17</td><td>0.331866</td><td>7.07767e-15</td><td>false</td><td>true</td></tr><tr><th>7</th><td>f1(x) = 2*x - exp(-x)</td><td>Newton</td><td>4</td><td>9</td><td>0.351734</td><td>0.0</td><td>true</td><td>true</td></tr><tr><th>8</th><td>f2(x) = x^3 - 2x - 5</td><td>Newton</td><td>19</td><td>39</td><td>2.09455</td><td>-8.88178e-16</td><td>false</td><td>true</td></tr><tr><th>9</th><td>f3(x) = (x-1)^7</td><td>Newton</td><td>33</td><td>67</td><td>0.993823</td><td>-3.42998e-16</td><td>false</td><td>false</td></tr><tr><th>10</th><td>f4(x) = sin(x) - x/2</td><td>Newton</td><td>0</td><td>1</td><td>0.0</td><td>0.0</td><td>true</td><td>true</td></tr><tr><th>11</th><td>f5(x) = cos(x) - x</td><td>Newton</td><td>5</td><td>11</td><td>0.739085</td><td>0.0</td><td>true</td><td>true</td></tr><tr><th>12</th><td>f6(x) = cos(100*x)-4*erf(30*x-10)</td><td>Newton</td><td>1</td><td>3</td><td>9.92617e41</td><td>-3.31529</td><td>false</td><td>false</td></tr><tr><th>13</th><td>f1(x) = 2*x - exp(-x)</td><td>Secant</td><td>6</td><td>9</td><td>0.351734</td><td>0.0</td><td>true</td><td>true</td></tr><tr><th>14</th><td>f2(x) = x^3 - 2*x - 5</td><td>Secant</td><td>-1</td><td>-1</td><td>0.351734</td><td>0.0</td><td>true</td><td>true</td></tr></tbody></table>"
      ],
      "text/latex": [
       "\\begin{tabular}{r|cccccccc}\n",
       "\t& Function & Method & Iterations & Evaluations & Root & Value & Is\\_zero & Change\\_sign\\\\\n",
       "\t\\hline\n",
       "\t& String & String & Int64 & Int64 & Float64 & Float64 & Bool & Bool\\\\\n",
       "\t\\hline\n",
       "\t1 & f1 = 2*x - exp(-x) & FalsePosition & 7 & 9 & 0.351734 & 0.0 & true & true \\\\\n",
       "\t2 & f2 = x\\^3 - 2*x - 5 & FalsePosition & 13 & 15 & 2.09455 & -8.88178e-16 & false & true \\\\\n",
       "\t3 & f3 = (x-1)\\^7 & FalsePosition & 41 & 43 & 0.983044 & -4.0291e-13 & false & false \\\\\n",
       "\t4 & f4(x) = sin(x) - x/2 & FalsePosition & 10 & 12 & 1.89549 & 0.0 & true & true \\\\\n",
       "\t5 & f5(x) = cos(x) - x & FalsePosition & 8 & 10 & 0.739085 & 0.0 & true & true \\\\\n",
       "\t6 & f6(x) = cos(100*x)-4*erf(30*x-10) & FalsePosition & 15 & 17 & 0.331866 & 7.07767e-15 & false & true \\\\\n",
       "\t7 & f1(x) = 2*x - exp(-x) & Newton & 4 & 9 & 0.351734 & 0.0 & true & true \\\\\n",
       "\t8 & f2(x) = x\\^3 - 2x - 5 & Newton & 19 & 39 & 2.09455 & -8.88178e-16 & false & true \\\\\n",
       "\t9 & f3(x) = (x-1)\\^7 & Newton & 33 & 67 & 0.993823 & -3.42998e-16 & false & false \\\\\n",
       "\t10 & f4(x) = sin(x) - x/2 & Newton & 0 & 1 & 0.0 & 0.0 & true & true \\\\\n",
       "\t11 & f5(x) = cos(x) - x & Newton & 5 & 11 & 0.739085 & 0.0 & true & true \\\\\n",
       "\t12 & f6(x) = cos(100*x)-4*erf(30*x-10) & Newton & 1 & 3 & 9.92617e41 & -3.31529 & false & false \\\\\n",
       "\t13 & f1(x) = 2*x - exp(-x) & Secant & 6 & 9 & 0.351734 & 0.0 & true & true \\\\\n",
       "\t14 & f2(x) = x\\^3 - 2*x - 5 & Secant & -1 & -1 & 0.351734 & 0.0 & true & true \\\\\n",
       "\\end{tabular}\n"
      ],
      "text/plain": [
       "14×8 DataFrame. Omitted printing of 5 columns\n",
       "│ Row │ Function                          │ Method        │ Iterations │\n",
       "│     │ \u001b[90mString\u001b[39m                            │ \u001b[90mString\u001b[39m        │ \u001b[90mInt64\u001b[39m      │\n",
       "├─────┼───────────────────────────────────┼───────────────┼────────────┤\n",
       "│ 1   │ f1 = 2*x - exp(-x)                │ FalsePosition │ 7          │\n",
       "│ 2   │ f2 = x^3 - 2*x - 5                │ FalsePosition │ 13         │\n",
       "│ 3   │ f3 = (x-1)^7                      │ FalsePosition │ 41         │\n",
       "│ 4   │ f4(x) = sin(x) - x/2              │ FalsePosition │ 10         │\n",
       "│ 5   │ f5(x) = cos(x) - x                │ FalsePosition │ 8          │\n",
       "│ 6   │ f6(x) = cos(100*x)-4*erf(30*x-10) │ FalsePosition │ 15         │\n",
       "│ 7   │ f1(x) = 2*x - exp(-x)             │ Newton        │ 4          │\n",
       "│ 8   │ f2(x) = x^3 - 2x - 5              │ Newton        │ 19         │\n",
       "│ 9   │ f3(x) = (x-1)^7                   │ Newton        │ 33         │\n",
       "│ 10  │ f4(x) = sin(x) - x/2              │ Newton        │ 0          │\n",
       "│ 11  │ f5(x) = cos(x) - x                │ Newton        │ 5          │\n",
       "│ 12  │ f6(x) = cos(100*x)-4*erf(30*x-10) │ Newton        │ 1          │\n",
       "│ 13  │ f1(x) = 2*x - exp(-x)             │ Secant        │ 6          │\n",
       "│ 14  │ f2(x) = x^3 - 2*x - 5             │ Secant        │ -1         │"
      ]
     },
     "execution_count": 40,
     "metadata": {},
     "output_type": "execute_result"
    }
   ],
   "source": [
    "push!(df, (\"f2(x) = x^3 - 2*x - 5\",\"Secant\",-1,-1,-1,-1,false,false))"
   ]
  },
  {
   "cell_type": "code",
   "execution_count": 41,
   "metadata": {},
   "outputs": [
    {
     "name": "stdout",
     "output_type": "stream",
     "text": [
      "Results of univariate zero finding:\n",
      "\n",
      "* Converged to: 0.9856469261028176\n",
      "* Algorithm: Roots.Secant(), with possible bracketing with Roots.AlefeldPotraShi()\n",
      "* iterations: 41\n",
      "* function evaluations: 43\n",
      "* Note: Too many steps taken. \n",
      "\tAlgorithm stopped early, but |f(xn)| < ϵ^(1/3), where ϵ depends on xn, rtol, and atol. \n",
      "\n",
      "Trace:\n",
      "x_0 =  0.0000000000000000,\t fx_0 = -1.0000000000000000\n",
      "x_1 =  0.0006055454452393,\t fx_1 = -0.9957688745074786\n",
      "x_2 =  0.0611600899691728,\t fx_2 = -0.6428961160740295\n",
      "x_3 =  0.1714839405772408,\t fx_3 = -0.2679825506802784\n",
      "x_4 =  0.2503417617280164,\t fx_4 = -0.1330586846278539\n",
      "x_5 =  0.3281094559242665,\t fx_5 = -0.0618144064284469\n",
      "x_6 =  0.3955838409211263,\t fx_6 = -0.0294681225201645\n",
      "x_7 =  0.4570543779911074,\t fx_7 = -0.0139089501016431\n",
      "x_8 =  0.5120052847507631,\t fx_8 = -0.0065903098183608\n",
      "x_9 =  0.5614876320623549,\t fx_9 = -0.0031179771485537\n",
      "x_10 =  0.6059202492236920,\t fx_10 = -0.0014760084332975\n",
      "x_11 =  0.6458618857690509,\t fx_11 = -0.0006985680079171\n",
      "x_12 =  0.6817513874768950,\t fx_12 = -0.0003306477962293\n",
      "x_13 =  0.7140050780067718,\t fx_13 = -0.0001564978063338\n",
      "x_14 =  0.7429894713858817,\t fx_14 = -0.0000740723979104\n",
      "x_15 =  0.7690365794395226,\t fx_15 = -0.0000350592337234\n",
      "x_16 =  0.7924438489624896,\t fx_16 = -0.0000165939302084\n",
      "x_17 =  0.8134788997277304,\t fx_17 = -0.0000078540883191\n",
      "x_18 =  0.8323821188705343,\t fx_18 = -0.0000037174267937\n",
      "x_19 =  0.8493695694744680,\t fx_19 = -0.0000017594989891\n",
      "x_20 =  0.8646354041463205,\t fx_20 = -0.0000008327902592\n",
      "x_21 =  0.8783541034563829,\t fx_21 = -0.0000003941687997\n",
      "x_22 =  0.8906824634177006,\t fx_22 = -0.0000001865644343\n",
      "x_23 =  0.9017613899043756,\t fx_23 = -0.0000000883030014\n",
      "x_24 =  0.9117175083107939,\t fx_24 = -0.0000000417947831\n",
      "x_25 =  0.9206646110845241,\t fx_25 = -0.0000000197819311\n",
      "x_26 =  0.9287049582078698,\t fx_26 = -0.0000000093630059\n",
      "x_27 =  0.9359304460016213,\t fx_27 = -0.0000000044316138\n",
      "x_28 =  0.9424236574328444,\t fx_28 = -0.0000000020975316\n",
      "x_29 =  0.9482588059924604,\t fx_29 = -0.0000000009927848\n",
      "x_30 =  0.9535025839092770,\t fx_30 = -0.0000000004698960\n",
      "x_31 =  0.9582149244024324,\t fx_31 = -0.0000000002224069\n",
      "x_32 =  0.9624496866817743,\t fx_32 = -0.0000000001052677\n",
      "x_33 =  0.9662552715262058,\t fx_33 = -0.0000000000498243\n",
      "x_34 =  0.9696751744753774,\t fx_34 = -0.0000000000235824\n",
      "x_35 =  0.9727484829574804,\t fx_35 = -0.0000000000111618\n",
      "x_36 =  0.9755103230349755,\t fx_36 = -0.0000000000052830\n",
      "x_37 =  0.9779922608743032,\t fx_37 = -0.0000000000025005\n",
      "x_38 =  0.9802226635281287,\t fx_38 = -0.0000000000011835\n",
      "x_39 =  0.9822270231536459,\t fx_39 = -0.0000000000005602\n",
      "x_40 =  0.9840282483725600,\t fx_40 = -0.0000000000002651\n",
      "x_41 =  0.9856469261028176,\t fx_41 = -0.0000000000001255\n",
      "\n"
     ]
    },
    {
     "data": {
      "text/plain": [
       "false"
      ]
     },
     "execution_count": 41,
     "metadata": {},
     "output_type": "execute_result"
    }
   ],
   "source": [
    "x = find_zero(f3, 0, verbose=true)\n",
    "value = f3(x)\n",
    "is_zero = iszero(f3(x))\n",
    "if sign(f3(prevfloat(x))) *sign(f3(nextfloat(x))) < 0\n",
    "    change = true\n",
    "else\n",
    "    change = false\n",
    "end"
   ]
  },
  {
   "cell_type": "code",
   "execution_count": 42,
   "metadata": {},
   "outputs": [
    {
     "data": {
      "text/html": [
       "<table class=\"data-frame\"><thead><tr><th></th><th>Function</th><th>Method</th><th>Iterations</th><th>Evaluations</th><th>Root</th><th>Value</th><th>Is_zero</th><th>Change_sign</th></tr><tr><th></th><th>String</th><th>String</th><th>Int64</th><th>Int64</th><th>Float64</th><th>Float64</th><th>Bool</th><th>Bool</th></tr></thead><tbody><p>15 rows × 8 columns</p><tr><th>1</th><td>f1 = 2*x - exp(-x)</td><td>FalsePosition</td><td>7</td><td>9</td><td>0.351734</td><td>0.0</td><td>true</td><td>true</td></tr><tr><th>2</th><td>f2 = x^3 - 2*x - 5</td><td>FalsePosition</td><td>13</td><td>15</td><td>2.09455</td><td>-8.88178e-16</td><td>false</td><td>true</td></tr><tr><th>3</th><td>f3 = (x-1)^7</td><td>FalsePosition</td><td>41</td><td>43</td><td>0.983044</td><td>-4.0291e-13</td><td>false</td><td>false</td></tr><tr><th>4</th><td>f4(x) = sin(x) - x/2</td><td>FalsePosition</td><td>10</td><td>12</td><td>1.89549</td><td>0.0</td><td>true</td><td>true</td></tr><tr><th>5</th><td>f5(x) = cos(x) - x</td><td>FalsePosition</td><td>8</td><td>10</td><td>0.739085</td><td>0.0</td><td>true</td><td>true</td></tr><tr><th>6</th><td>f6(x) = cos(100*x)-4*erf(30*x-10)</td><td>FalsePosition</td><td>15</td><td>17</td><td>0.331866</td><td>7.07767e-15</td><td>false</td><td>true</td></tr><tr><th>7</th><td>f1(x) = 2*x - exp(-x)</td><td>Newton</td><td>4</td><td>9</td><td>0.351734</td><td>0.0</td><td>true</td><td>true</td></tr><tr><th>8</th><td>f2(x) = x^3 - 2x - 5</td><td>Newton</td><td>19</td><td>39</td><td>2.09455</td><td>-8.88178e-16</td><td>false</td><td>true</td></tr><tr><th>9</th><td>f3(x) = (x-1)^7</td><td>Newton</td><td>33</td><td>67</td><td>0.993823</td><td>-3.42998e-16</td><td>false</td><td>false</td></tr><tr><th>10</th><td>f4(x) = sin(x) - x/2</td><td>Newton</td><td>0</td><td>1</td><td>0.0</td><td>0.0</td><td>true</td><td>true</td></tr><tr><th>11</th><td>f5(x) = cos(x) - x</td><td>Newton</td><td>5</td><td>11</td><td>0.739085</td><td>0.0</td><td>true</td><td>true</td></tr><tr><th>12</th><td>f6(x) = cos(100*x)-4*erf(30*x-10)</td><td>Newton</td><td>1</td><td>3</td><td>9.92617e41</td><td>-3.31529</td><td>false</td><td>false</td></tr><tr><th>13</th><td>f1(x) = 2*x - exp(-x)</td><td>Secant</td><td>6</td><td>9</td><td>0.351734</td><td>0.0</td><td>true</td><td>true</td></tr><tr><th>14</th><td>f2(x) = x^3 - 2*x - 5</td><td>Secant</td><td>-1</td><td>-1</td><td>0.351734</td><td>0.0</td><td>true</td><td>true</td></tr><tr><th>15</th><td>f3(x) = (x-1)^7</td><td>Secant</td><td>41</td><td>43</td><td>0.985647</td><td>-1.25492e-13</td><td>false</td><td>false</td></tr></tbody></table>"
      ],
      "text/latex": [
       "\\begin{tabular}{r|cccccccc}\n",
       "\t& Function & Method & Iterations & Evaluations & Root & Value & Is\\_zero & Change\\_sign\\\\\n",
       "\t\\hline\n",
       "\t& String & String & Int64 & Int64 & Float64 & Float64 & Bool & Bool\\\\\n",
       "\t\\hline\n",
       "\t1 & f1 = 2*x - exp(-x) & FalsePosition & 7 & 9 & 0.351734 & 0.0 & true & true \\\\\n",
       "\t2 & f2 = x\\^3 - 2*x - 5 & FalsePosition & 13 & 15 & 2.09455 & -8.88178e-16 & false & true \\\\\n",
       "\t3 & f3 = (x-1)\\^7 & FalsePosition & 41 & 43 & 0.983044 & -4.0291e-13 & false & false \\\\\n",
       "\t4 & f4(x) = sin(x) - x/2 & FalsePosition & 10 & 12 & 1.89549 & 0.0 & true & true \\\\\n",
       "\t5 & f5(x) = cos(x) - x & FalsePosition & 8 & 10 & 0.739085 & 0.0 & true & true \\\\\n",
       "\t6 & f6(x) = cos(100*x)-4*erf(30*x-10) & FalsePosition & 15 & 17 & 0.331866 & 7.07767e-15 & false & true \\\\\n",
       "\t7 & f1(x) = 2*x - exp(-x) & Newton & 4 & 9 & 0.351734 & 0.0 & true & true \\\\\n",
       "\t8 & f2(x) = x\\^3 - 2x - 5 & Newton & 19 & 39 & 2.09455 & -8.88178e-16 & false & true \\\\\n",
       "\t9 & f3(x) = (x-1)\\^7 & Newton & 33 & 67 & 0.993823 & -3.42998e-16 & false & false \\\\\n",
       "\t10 & f4(x) = sin(x) - x/2 & Newton & 0 & 1 & 0.0 & 0.0 & true & true \\\\\n",
       "\t11 & f5(x) = cos(x) - x & Newton & 5 & 11 & 0.739085 & 0.0 & true & true \\\\\n",
       "\t12 & f6(x) = cos(100*x)-4*erf(30*x-10) & Newton & 1 & 3 & 9.92617e41 & -3.31529 & false & false \\\\\n",
       "\t13 & f1(x) = 2*x - exp(-x) & Secant & 6 & 9 & 0.351734 & 0.0 & true & true \\\\\n",
       "\t14 & f2(x) = x\\^3 - 2*x - 5 & Secant & -1 & -1 & 0.351734 & 0.0 & true & true \\\\\n",
       "\t15 & f3(x) = (x-1)\\^7 & Secant & 41 & 43 & 0.985647 & -1.25492e-13 & false & false \\\\\n",
       "\\end{tabular}\n"
      ],
      "text/plain": [
       "15×8 DataFrame. Omitted printing of 5 columns\n",
       "│ Row │ Function                          │ Method        │ Iterations │\n",
       "│     │ \u001b[90mString\u001b[39m                            │ \u001b[90mString\u001b[39m        │ \u001b[90mInt64\u001b[39m      │\n",
       "├─────┼───────────────────────────────────┼───────────────┼────────────┤\n",
       "│ 1   │ f1 = 2*x - exp(-x)                │ FalsePosition │ 7          │\n",
       "│ 2   │ f2 = x^3 - 2*x - 5                │ FalsePosition │ 13         │\n",
       "│ 3   │ f3 = (x-1)^7                      │ FalsePosition │ 41         │\n",
       "│ 4   │ f4(x) = sin(x) - x/2              │ FalsePosition │ 10         │\n",
       "│ 5   │ f5(x) = cos(x) - x                │ FalsePosition │ 8          │\n",
       "│ 6   │ f6(x) = cos(100*x)-4*erf(30*x-10) │ FalsePosition │ 15         │\n",
       "│ 7   │ f1(x) = 2*x - exp(-x)             │ Newton        │ 4          │\n",
       "│ 8   │ f2(x) = x^3 - 2x - 5              │ Newton        │ 19         │\n",
       "│ 9   │ f3(x) = (x-1)^7                   │ Newton        │ 33         │\n",
       "│ 10  │ f4(x) = sin(x) - x/2              │ Newton        │ 0          │\n",
       "│ 11  │ f5(x) = cos(x) - x                │ Newton        │ 5          │\n",
       "│ 12  │ f6(x) = cos(100*x)-4*erf(30*x-10) │ Newton        │ 1          │\n",
       "│ 13  │ f1(x) = 2*x - exp(-x)             │ Secant        │ 6          │\n",
       "│ 14  │ f2(x) = x^3 - 2*x - 5             │ Secant        │ -1         │\n",
       "│ 15  │ f3(x) = (x-1)^7                   │ Secant        │ 41         │"
      ]
     },
     "execution_count": 42,
     "metadata": {},
     "output_type": "execute_result"
    }
   ],
   "source": [
    "push!(df, (\"f3(x) = (x-1)^7\",\"Secant\",41,43,x,value,is_zero,change))"
   ]
  },
  {
   "cell_type": "code",
   "execution_count": 43,
   "metadata": {},
   "outputs": [
    {
     "name": "stdout",
     "output_type": "stream",
     "text": [
      "Results of univariate zero finding:\n",
      "\n",
      "* Converged to: 0.0\n",
      "* Algorithm: Roots.Secant(), with possible bracketing with Roots.AlefeldPotraShi()\n",
      "* iterations: 0\n",
      "* function evaluations: 2\n",
      "* stopped as |f(x_n)| ≤ max(δ, max(1,|x|)⋅ϵ) using δ = atol, ϵ = rtol\n",
      "\n",
      "Trace:\n",
      "x_0 =  0.0000000000000000,\t fx_0 =  0.0000000000000000\n",
      "\n"
     ]
    },
    {
     "data": {
      "text/plain": [
       "true"
      ]
     },
     "execution_count": 43,
     "metadata": {},
     "output_type": "execute_result"
    }
   ],
   "source": [
    "x = find_zero(f4, 0, verbose=true)\n",
    "value = f4(x)\n",
    "is_zero = iszero(f4(x))\n",
    "if sign(f4(prevfloat(x))) *sign(f4(nextfloat(x))) < 0\n",
    "    change = true\n",
    "else\n",
    "    change = false\n",
    "end"
   ]
  },
  {
   "cell_type": "code",
   "execution_count": 44,
   "metadata": {},
   "outputs": [
    {
     "data": {
      "text/html": [
       "<table class=\"data-frame\"><thead><tr><th></th><th>Function</th><th>Method</th><th>Iterations</th><th>Evaluations</th><th>Root</th><th>Value</th><th>Is_zero</th><th>Change_sign</th></tr><tr><th></th><th>String</th><th>String</th><th>Int64</th><th>Int64</th><th>Float64</th><th>Float64</th><th>Bool</th><th>Bool</th></tr></thead><tbody><p>16 rows × 8 columns</p><tr><th>1</th><td>f1 = 2*x - exp(-x)</td><td>FalsePosition</td><td>7</td><td>9</td><td>0.351734</td><td>0.0</td><td>true</td><td>true</td></tr><tr><th>2</th><td>f2 = x^3 - 2*x - 5</td><td>FalsePosition</td><td>13</td><td>15</td><td>2.09455</td><td>-8.88178e-16</td><td>false</td><td>true</td></tr><tr><th>3</th><td>f3 = (x-1)^7</td><td>FalsePosition</td><td>41</td><td>43</td><td>0.983044</td><td>-4.0291e-13</td><td>false</td><td>false</td></tr><tr><th>4</th><td>f4(x) = sin(x) - x/2</td><td>FalsePosition</td><td>10</td><td>12</td><td>1.89549</td><td>0.0</td><td>true</td><td>true</td></tr><tr><th>5</th><td>f5(x) = cos(x) - x</td><td>FalsePosition</td><td>8</td><td>10</td><td>0.739085</td><td>0.0</td><td>true</td><td>true</td></tr><tr><th>6</th><td>f6(x) = cos(100*x)-4*erf(30*x-10)</td><td>FalsePosition</td><td>15</td><td>17</td><td>0.331866</td><td>7.07767e-15</td><td>false</td><td>true</td></tr><tr><th>7</th><td>f1(x) = 2*x - exp(-x)</td><td>Newton</td><td>4</td><td>9</td><td>0.351734</td><td>0.0</td><td>true</td><td>true</td></tr><tr><th>8</th><td>f2(x) = x^3 - 2x - 5</td><td>Newton</td><td>19</td><td>39</td><td>2.09455</td><td>-8.88178e-16</td><td>false</td><td>true</td></tr><tr><th>9</th><td>f3(x) = (x-1)^7</td><td>Newton</td><td>33</td><td>67</td><td>0.993823</td><td>-3.42998e-16</td><td>false</td><td>false</td></tr><tr><th>10</th><td>f4(x) = sin(x) - x/2</td><td>Newton</td><td>0</td><td>1</td><td>0.0</td><td>0.0</td><td>true</td><td>true</td></tr><tr><th>11</th><td>f5(x) = cos(x) - x</td><td>Newton</td><td>5</td><td>11</td><td>0.739085</td><td>0.0</td><td>true</td><td>true</td></tr><tr><th>12</th><td>f6(x) = cos(100*x)-4*erf(30*x-10)</td><td>Newton</td><td>1</td><td>3</td><td>9.92617e41</td><td>-3.31529</td><td>false</td><td>false</td></tr><tr><th>13</th><td>f1(x) = 2*x - exp(-x)</td><td>Secant</td><td>6</td><td>9</td><td>0.351734</td><td>0.0</td><td>true</td><td>true</td></tr><tr><th>14</th><td>f2(x) = x^3 - 2*x - 5</td><td>Secant</td><td>-1</td><td>-1</td><td>0.351734</td><td>0.0</td><td>true</td><td>true</td></tr><tr><th>15</th><td>f3(x) = (x-1)^7</td><td>Secant</td><td>41</td><td>43</td><td>0.985647</td><td>-1.25492e-13</td><td>false</td><td>false</td></tr><tr><th>16</th><td>f4(x) = sin(x) - x/2</td><td>Secant</td><td>0</td><td>2</td><td>0.0</td><td>0.0</td><td>true</td><td>true</td></tr></tbody></table>"
      ],
      "text/latex": [
       "\\begin{tabular}{r|cccccccc}\n",
       "\t& Function & Method & Iterations & Evaluations & Root & Value & Is\\_zero & Change\\_sign\\\\\n",
       "\t\\hline\n",
       "\t& String & String & Int64 & Int64 & Float64 & Float64 & Bool & Bool\\\\\n",
       "\t\\hline\n",
       "\t1 & f1 = 2*x - exp(-x) & FalsePosition & 7 & 9 & 0.351734 & 0.0 & true & true \\\\\n",
       "\t2 & f2 = x\\^3 - 2*x - 5 & FalsePosition & 13 & 15 & 2.09455 & -8.88178e-16 & false & true \\\\\n",
       "\t3 & f3 = (x-1)\\^7 & FalsePosition & 41 & 43 & 0.983044 & -4.0291e-13 & false & false \\\\\n",
       "\t4 & f4(x) = sin(x) - x/2 & FalsePosition & 10 & 12 & 1.89549 & 0.0 & true & true \\\\\n",
       "\t5 & f5(x) = cos(x) - x & FalsePosition & 8 & 10 & 0.739085 & 0.0 & true & true \\\\\n",
       "\t6 & f6(x) = cos(100*x)-4*erf(30*x-10) & FalsePosition & 15 & 17 & 0.331866 & 7.07767e-15 & false & true \\\\\n",
       "\t7 & f1(x) = 2*x - exp(-x) & Newton & 4 & 9 & 0.351734 & 0.0 & true & true \\\\\n",
       "\t8 & f2(x) = x\\^3 - 2x - 5 & Newton & 19 & 39 & 2.09455 & -8.88178e-16 & false & true \\\\\n",
       "\t9 & f3(x) = (x-1)\\^7 & Newton & 33 & 67 & 0.993823 & -3.42998e-16 & false & false \\\\\n",
       "\t10 & f4(x) = sin(x) - x/2 & Newton & 0 & 1 & 0.0 & 0.0 & true & true \\\\\n",
       "\t11 & f5(x) = cos(x) - x & Newton & 5 & 11 & 0.739085 & 0.0 & true & true \\\\\n",
       "\t12 & f6(x) = cos(100*x)-4*erf(30*x-10) & Newton & 1 & 3 & 9.92617e41 & -3.31529 & false & false \\\\\n",
       "\t13 & f1(x) = 2*x - exp(-x) & Secant & 6 & 9 & 0.351734 & 0.0 & true & true \\\\\n",
       "\t14 & f2(x) = x\\^3 - 2*x - 5 & Secant & -1 & -1 & 0.351734 & 0.0 & true & true \\\\\n",
       "\t15 & f3(x) = (x-1)\\^7 & Secant & 41 & 43 & 0.985647 & -1.25492e-13 & false & false \\\\\n",
       "\t16 & f4(x) = sin(x) - x/2 & Secant & 0 & 2 & 0.0 & 0.0 & true & true \\\\\n",
       "\\end{tabular}\n"
      ],
      "text/plain": [
       "16×8 DataFrame. Omitted printing of 5 columns\n",
       "│ Row │ Function                          │ Method        │ Iterations │\n",
       "│     │ \u001b[90mString\u001b[39m                            │ \u001b[90mString\u001b[39m        │ \u001b[90mInt64\u001b[39m      │\n",
       "├─────┼───────────────────────────────────┼───────────────┼────────────┤\n",
       "│ 1   │ f1 = 2*x - exp(-x)                │ FalsePosition │ 7          │\n",
       "│ 2   │ f2 = x^3 - 2*x - 5                │ FalsePosition │ 13         │\n",
       "│ 3   │ f3 = (x-1)^7                      │ FalsePosition │ 41         │\n",
       "│ 4   │ f4(x) = sin(x) - x/2              │ FalsePosition │ 10         │\n",
       "│ 5   │ f5(x) = cos(x) - x                │ FalsePosition │ 8          │\n",
       "│ 6   │ f6(x) = cos(100*x)-4*erf(30*x-10) │ FalsePosition │ 15         │\n",
       "│ 7   │ f1(x) = 2*x - exp(-x)             │ Newton        │ 4          │\n",
       "│ 8   │ f2(x) = x^3 - 2x - 5              │ Newton        │ 19         │\n",
       "│ 9   │ f3(x) = (x-1)^7                   │ Newton        │ 33         │\n",
       "│ 10  │ f4(x) = sin(x) - x/2              │ Newton        │ 0          │\n",
       "│ 11  │ f5(x) = cos(x) - x                │ Newton        │ 5          │\n",
       "│ 12  │ f6(x) = cos(100*x)-4*erf(30*x-10) │ Newton        │ 1          │\n",
       "│ 13  │ f1(x) = 2*x - exp(-x)             │ Secant        │ 6          │\n",
       "│ 14  │ f2(x) = x^3 - 2*x - 5             │ Secant        │ -1         │\n",
       "│ 15  │ f3(x) = (x-1)^7                   │ Secant        │ 41         │\n",
       "│ 16  │ f4(x) = sin(x) - x/2              │ Secant        │ 0          │"
      ]
     },
     "execution_count": 44,
     "metadata": {},
     "output_type": "execute_result"
    }
   ],
   "source": [
    "push!(df, (\"f4(x) = sin(x) - x/2\",\"Secant\",0,2,x,value,is_zero,change))"
   ]
  },
  {
   "cell_type": "code",
   "execution_count": 45,
   "metadata": {},
   "outputs": [
    {
     "name": "stdout",
     "output_type": "stream",
     "text": [
      "Results of univariate zero finding:\n",
      "\n",
      "* Converged to: 0.7390851332151607\n",
      "* Algorithm: Roots.Secant(), with possible bracketing with Roots.AlefeldPotraShi()\n",
      "* iterations: 2\n",
      "* function evaluations: 11\n",
      "* Note: Exact zero found. Bracketing used over (0.0, 0.9999969722835395), those steps not shown. \n",
      "\n",
      "Trace:\n",
      "x_0 =  0.0000000000000000,\t fx_0 =  1.0000000000000000\n",
      "\n"
     ]
    },
    {
     "data": {
      "text/plain": [
       "true"
      ]
     },
     "execution_count": 45,
     "metadata": {},
     "output_type": "execute_result"
    }
   ],
   "source": [
    "x = find_zero(f5, 0, verbose=true)\n",
    "value = f5(x)\n",
    "is_zero = iszero(f5(x))\n",
    "if sign(f5(prevfloat(x))) *sign(f5(nextfloat(x))) < 0\n",
    "    change = true\n",
    "else\n",
    "    change = false\n",
    "end"
   ]
  },
  {
   "cell_type": "code",
   "execution_count": 46,
   "metadata": {},
   "outputs": [
    {
     "data": {
      "text/html": [
       "<table class=\"data-frame\"><thead><tr><th></th><th>Function</th><th>Method</th><th>Iterations</th><th>Evaluations</th><th>Root</th><th>Value</th><th>Is_zero</th><th>Change_sign</th></tr><tr><th></th><th>String</th><th>String</th><th>Int64</th><th>Int64</th><th>Float64</th><th>Float64</th><th>Bool</th><th>Bool</th></tr></thead><tbody><p>17 rows × 8 columns</p><tr><th>1</th><td>f1 = 2*x - exp(-x)</td><td>FalsePosition</td><td>7</td><td>9</td><td>0.351734</td><td>0.0</td><td>true</td><td>true</td></tr><tr><th>2</th><td>f2 = x^3 - 2*x - 5</td><td>FalsePosition</td><td>13</td><td>15</td><td>2.09455</td><td>-8.88178e-16</td><td>false</td><td>true</td></tr><tr><th>3</th><td>f3 = (x-1)^7</td><td>FalsePosition</td><td>41</td><td>43</td><td>0.983044</td><td>-4.0291e-13</td><td>false</td><td>false</td></tr><tr><th>4</th><td>f4(x) = sin(x) - x/2</td><td>FalsePosition</td><td>10</td><td>12</td><td>1.89549</td><td>0.0</td><td>true</td><td>true</td></tr><tr><th>5</th><td>f5(x) = cos(x) - x</td><td>FalsePosition</td><td>8</td><td>10</td><td>0.739085</td><td>0.0</td><td>true</td><td>true</td></tr><tr><th>6</th><td>f6(x) = cos(100*x)-4*erf(30*x-10)</td><td>FalsePosition</td><td>15</td><td>17</td><td>0.331866</td><td>7.07767e-15</td><td>false</td><td>true</td></tr><tr><th>7</th><td>f1(x) = 2*x - exp(-x)</td><td>Newton</td><td>4</td><td>9</td><td>0.351734</td><td>0.0</td><td>true</td><td>true</td></tr><tr><th>8</th><td>f2(x) = x^3 - 2x - 5</td><td>Newton</td><td>19</td><td>39</td><td>2.09455</td><td>-8.88178e-16</td><td>false</td><td>true</td></tr><tr><th>9</th><td>f3(x) = (x-1)^7</td><td>Newton</td><td>33</td><td>67</td><td>0.993823</td><td>-3.42998e-16</td><td>false</td><td>false</td></tr><tr><th>10</th><td>f4(x) = sin(x) - x/2</td><td>Newton</td><td>0</td><td>1</td><td>0.0</td><td>0.0</td><td>true</td><td>true</td></tr><tr><th>11</th><td>f5(x) = cos(x) - x</td><td>Newton</td><td>5</td><td>11</td><td>0.739085</td><td>0.0</td><td>true</td><td>true</td></tr><tr><th>12</th><td>f6(x) = cos(100*x)-4*erf(30*x-10)</td><td>Newton</td><td>1</td><td>3</td><td>9.92617e41</td><td>-3.31529</td><td>false</td><td>false</td></tr><tr><th>13</th><td>f1(x) = 2*x - exp(-x)</td><td>Secant</td><td>6</td><td>9</td><td>0.351734</td><td>0.0</td><td>true</td><td>true</td></tr><tr><th>14</th><td>f2(x) = x^3 - 2*x - 5</td><td>Secant</td><td>-1</td><td>-1</td><td>0.351734</td><td>0.0</td><td>true</td><td>true</td></tr><tr><th>15</th><td>f3(x) = (x-1)^7</td><td>Secant</td><td>41</td><td>43</td><td>0.985647</td><td>-1.25492e-13</td><td>false</td><td>false</td></tr><tr><th>16</th><td>f4(x) = sin(x) - x/2</td><td>Secant</td><td>0</td><td>2</td><td>0.0</td><td>0.0</td><td>true</td><td>true</td></tr><tr><th>17</th><td>f5(x) = cos(x) - x</td><td>Secant</td><td>2</td><td>11</td><td>0.739085</td><td>0.0</td><td>true</td><td>true</td></tr></tbody></table>"
      ],
      "text/latex": [
       "\\begin{tabular}{r|cccccccc}\n",
       "\t& Function & Method & Iterations & Evaluations & Root & Value & Is\\_zero & Change\\_sign\\\\\n",
       "\t\\hline\n",
       "\t& String & String & Int64 & Int64 & Float64 & Float64 & Bool & Bool\\\\\n",
       "\t\\hline\n",
       "\t1 & f1 = 2*x - exp(-x) & FalsePosition & 7 & 9 & 0.351734 & 0.0 & true & true \\\\\n",
       "\t2 & f2 = x\\^3 - 2*x - 5 & FalsePosition & 13 & 15 & 2.09455 & -8.88178e-16 & false & true \\\\\n",
       "\t3 & f3 = (x-1)\\^7 & FalsePosition & 41 & 43 & 0.983044 & -4.0291e-13 & false & false \\\\\n",
       "\t4 & f4(x) = sin(x) - x/2 & FalsePosition & 10 & 12 & 1.89549 & 0.0 & true & true \\\\\n",
       "\t5 & f5(x) = cos(x) - x & FalsePosition & 8 & 10 & 0.739085 & 0.0 & true & true \\\\\n",
       "\t6 & f6(x) = cos(100*x)-4*erf(30*x-10) & FalsePosition & 15 & 17 & 0.331866 & 7.07767e-15 & false & true \\\\\n",
       "\t7 & f1(x) = 2*x - exp(-x) & Newton & 4 & 9 & 0.351734 & 0.0 & true & true \\\\\n",
       "\t8 & f2(x) = x\\^3 - 2x - 5 & Newton & 19 & 39 & 2.09455 & -8.88178e-16 & false & true \\\\\n",
       "\t9 & f3(x) = (x-1)\\^7 & Newton & 33 & 67 & 0.993823 & -3.42998e-16 & false & false \\\\\n",
       "\t10 & f4(x) = sin(x) - x/2 & Newton & 0 & 1 & 0.0 & 0.0 & true & true \\\\\n",
       "\t11 & f5(x) = cos(x) - x & Newton & 5 & 11 & 0.739085 & 0.0 & true & true \\\\\n",
       "\t12 & f6(x) = cos(100*x)-4*erf(30*x-10) & Newton & 1 & 3 & 9.92617e41 & -3.31529 & false & false \\\\\n",
       "\t13 & f1(x) = 2*x - exp(-x) & Secant & 6 & 9 & 0.351734 & 0.0 & true & true \\\\\n",
       "\t14 & f2(x) = x\\^3 - 2*x - 5 & Secant & -1 & -1 & 0.351734 & 0.0 & true & true \\\\\n",
       "\t15 & f3(x) = (x-1)\\^7 & Secant & 41 & 43 & 0.985647 & -1.25492e-13 & false & false \\\\\n",
       "\t16 & f4(x) = sin(x) - x/2 & Secant & 0 & 2 & 0.0 & 0.0 & true & true \\\\\n",
       "\t17 & f5(x) = cos(x) - x & Secant & 2 & 11 & 0.739085 & 0.0 & true & true \\\\\n",
       "\\end{tabular}\n"
      ],
      "text/plain": [
       "17×8 DataFrame. Omitted printing of 5 columns\n",
       "│ Row │ Function                          │ Method        │ Iterations │\n",
       "│     │ \u001b[90mString\u001b[39m                            │ \u001b[90mString\u001b[39m        │ \u001b[90mInt64\u001b[39m      │\n",
       "├─────┼───────────────────────────────────┼───────────────┼────────────┤\n",
       "│ 1   │ f1 = 2*x - exp(-x)                │ FalsePosition │ 7          │\n",
       "│ 2   │ f2 = x^3 - 2*x - 5                │ FalsePosition │ 13         │\n",
       "│ 3   │ f3 = (x-1)^7                      │ FalsePosition │ 41         │\n",
       "│ 4   │ f4(x) = sin(x) - x/2              │ FalsePosition │ 10         │\n",
       "│ 5   │ f5(x) = cos(x) - x                │ FalsePosition │ 8          │\n",
       "│ 6   │ f6(x) = cos(100*x)-4*erf(30*x-10) │ FalsePosition │ 15         │\n",
       "│ 7   │ f1(x) = 2*x - exp(-x)             │ Newton        │ 4          │\n",
       "│ 8   │ f2(x) = x^3 - 2x - 5              │ Newton        │ 19         │\n",
       "│ 9   │ f3(x) = (x-1)^7                   │ Newton        │ 33         │\n",
       "│ 10  │ f4(x) = sin(x) - x/2              │ Newton        │ 0          │\n",
       "│ 11  │ f5(x) = cos(x) - x                │ Newton        │ 5          │\n",
       "│ 12  │ f6(x) = cos(100*x)-4*erf(30*x-10) │ Newton        │ 1          │\n",
       "│ 13  │ f1(x) = 2*x - exp(-x)             │ Secant        │ 6          │\n",
       "│ 14  │ f2(x) = x^3 - 2*x - 5             │ Secant        │ -1         │\n",
       "│ 15  │ f3(x) = (x-1)^7                   │ Secant        │ 41         │\n",
       "│ 16  │ f4(x) = sin(x) - x/2              │ Secant        │ 0          │\n",
       "│ 17  │ f5(x) = cos(x) - x                │ Secant        │ 2          │"
      ]
     },
     "execution_count": 46,
     "metadata": {},
     "output_type": "execute_result"
    }
   ],
   "source": [
    "push!(df, (\"f5(x) = cos(x) - x\",\"Secant\",2,11,x,value,is_zero,change))"
   ]
  },
  {
   "cell_type": "code",
   "execution_count": 47,
   "metadata": {},
   "outputs": [
    {
     "name": "stdout",
     "output_type": "stream",
     "text": [
      "Results of univariate zero finding:\n",
      "\n",
      "* Converged to: 0.3318660335745625\n",
      "* Algorithm: Roots.Secant(), with possible bracketing with Roots.AlefeldPotraShi()\n",
      "* iterations: 8\n",
      "* function evaluations: 33\n",
      "* stopped as x_n ≈ x_{n-1} using atol=xatol, rtol=xrtol\n",
      "* Note: Change of sign at xn identified. Bracketing used over (0.0, 165.1403773036419), those steps not shown. \n",
      "\n",
      "Trace:\n",
      "x_0 =  0.0000000000000000,\t fx_0 =  5.0000000000000000\n",
      "\n"
     ]
    },
    {
     "data": {
      "text/plain": [
       "true"
      ]
     },
     "execution_count": 47,
     "metadata": {},
     "output_type": "execute_result"
    }
   ],
   "source": [
    "x = find_zero(f6, 0, verbose=true)\n",
    "value = f6(x)\n",
    "is_zero = iszero(f6(x))\n",
    "if sign(f6(prevfloat(x))) *sign(f6(nextfloat(x))) < 0\n",
    "    change = true\n",
    "else\n",
    "    change = false\n",
    "end"
   ]
  },
  {
   "cell_type": "code",
   "execution_count": 48,
   "metadata": {},
   "outputs": [
    {
     "data": {
      "text/html": [
       "<table class=\"data-frame\"><thead><tr><th></th><th>Function</th><th>Method</th><th>Iterations</th><th>Evaluations</th><th>Root</th><th>Value</th><th>Is_zero</th><th>Change_sign</th></tr><tr><th></th><th>String</th><th>String</th><th>Int64</th><th>Int64</th><th>Float64</th><th>Float64</th><th>Bool</th><th>Bool</th></tr></thead><tbody><p>18 rows × 8 columns</p><tr><th>1</th><td>f1 = 2*x - exp(-x)</td><td>FalsePosition</td><td>7</td><td>9</td><td>0.351734</td><td>0.0</td><td>true</td><td>true</td></tr><tr><th>2</th><td>f2 = x^3 - 2*x - 5</td><td>FalsePosition</td><td>13</td><td>15</td><td>2.09455</td><td>-8.88178e-16</td><td>false</td><td>true</td></tr><tr><th>3</th><td>f3 = (x-1)^7</td><td>FalsePosition</td><td>41</td><td>43</td><td>0.983044</td><td>-4.0291e-13</td><td>false</td><td>false</td></tr><tr><th>4</th><td>f4(x) = sin(x) - x/2</td><td>FalsePosition</td><td>10</td><td>12</td><td>1.89549</td><td>0.0</td><td>true</td><td>true</td></tr><tr><th>5</th><td>f5(x) = cos(x) - x</td><td>FalsePosition</td><td>8</td><td>10</td><td>0.739085</td><td>0.0</td><td>true</td><td>true</td></tr><tr><th>6</th><td>f6(x) = cos(100*x)-4*erf(30*x-10)</td><td>FalsePosition</td><td>15</td><td>17</td><td>0.331866</td><td>7.07767e-15</td><td>false</td><td>true</td></tr><tr><th>7</th><td>f1(x) = 2*x - exp(-x)</td><td>Newton</td><td>4</td><td>9</td><td>0.351734</td><td>0.0</td><td>true</td><td>true</td></tr><tr><th>8</th><td>f2(x) = x^3 - 2x - 5</td><td>Newton</td><td>19</td><td>39</td><td>2.09455</td><td>-8.88178e-16</td><td>false</td><td>true</td></tr><tr><th>9</th><td>f3(x) = (x-1)^7</td><td>Newton</td><td>33</td><td>67</td><td>0.993823</td><td>-3.42998e-16</td><td>false</td><td>false</td></tr><tr><th>10</th><td>f4(x) = sin(x) - x/2</td><td>Newton</td><td>0</td><td>1</td><td>0.0</td><td>0.0</td><td>true</td><td>true</td></tr><tr><th>11</th><td>f5(x) = cos(x) - x</td><td>Newton</td><td>5</td><td>11</td><td>0.739085</td><td>0.0</td><td>true</td><td>true</td></tr><tr><th>12</th><td>f6(x) = cos(100*x)-4*erf(30*x-10)</td><td>Newton</td><td>1</td><td>3</td><td>9.92617e41</td><td>-3.31529</td><td>false</td><td>false</td></tr><tr><th>13</th><td>f1(x) = 2*x - exp(-x)</td><td>Secant</td><td>6</td><td>9</td><td>0.351734</td><td>0.0</td><td>true</td><td>true</td></tr><tr><th>14</th><td>f2(x) = x^3 - 2*x - 5</td><td>Secant</td><td>-1</td><td>-1</td><td>0.351734</td><td>0.0</td><td>true</td><td>true</td></tr><tr><th>15</th><td>f3(x) = (x-1)^7</td><td>Secant</td><td>41</td><td>43</td><td>0.985647</td><td>-1.25492e-13</td><td>false</td><td>false</td></tr><tr><th>16</th><td>f4(x) = sin(x) - x/2</td><td>Secant</td><td>0</td><td>2</td><td>0.0</td><td>0.0</td><td>true</td><td>true</td></tr><tr><th>17</th><td>f5(x) = cos(x) - x</td><td>Secant</td><td>2</td><td>11</td><td>0.739085</td><td>0.0</td><td>true</td><td>true</td></tr><tr><th>18</th><td>f6(x) = cos(100*x)-4*erf(30*x-10)</td><td>Secant</td><td>8</td><td>33</td><td>0.331866</td><td>7.07767e-15</td><td>false</td><td>true</td></tr></tbody></table>"
      ],
      "text/latex": [
       "\\begin{tabular}{r|cccccccc}\n",
       "\t& Function & Method & Iterations & Evaluations & Root & Value & Is\\_zero & Change\\_sign\\\\\n",
       "\t\\hline\n",
       "\t& String & String & Int64 & Int64 & Float64 & Float64 & Bool & Bool\\\\\n",
       "\t\\hline\n",
       "\t1 & f1 = 2*x - exp(-x) & FalsePosition & 7 & 9 & 0.351734 & 0.0 & true & true \\\\\n",
       "\t2 & f2 = x\\^3 - 2*x - 5 & FalsePosition & 13 & 15 & 2.09455 & -8.88178e-16 & false & true \\\\\n",
       "\t3 & f3 = (x-1)\\^7 & FalsePosition & 41 & 43 & 0.983044 & -4.0291e-13 & false & false \\\\\n",
       "\t4 & f4(x) = sin(x) - x/2 & FalsePosition & 10 & 12 & 1.89549 & 0.0 & true & true \\\\\n",
       "\t5 & f5(x) = cos(x) - x & FalsePosition & 8 & 10 & 0.739085 & 0.0 & true & true \\\\\n",
       "\t6 & f6(x) = cos(100*x)-4*erf(30*x-10) & FalsePosition & 15 & 17 & 0.331866 & 7.07767e-15 & false & true \\\\\n",
       "\t7 & f1(x) = 2*x - exp(-x) & Newton & 4 & 9 & 0.351734 & 0.0 & true & true \\\\\n",
       "\t8 & f2(x) = x\\^3 - 2x - 5 & Newton & 19 & 39 & 2.09455 & -8.88178e-16 & false & true \\\\\n",
       "\t9 & f3(x) = (x-1)\\^7 & Newton & 33 & 67 & 0.993823 & -3.42998e-16 & false & false \\\\\n",
       "\t10 & f4(x) = sin(x) - x/2 & Newton & 0 & 1 & 0.0 & 0.0 & true & true \\\\\n",
       "\t11 & f5(x) = cos(x) - x & Newton & 5 & 11 & 0.739085 & 0.0 & true & true \\\\\n",
       "\t12 & f6(x) = cos(100*x)-4*erf(30*x-10) & Newton & 1 & 3 & 9.92617e41 & -3.31529 & false & false \\\\\n",
       "\t13 & f1(x) = 2*x - exp(-x) & Secant & 6 & 9 & 0.351734 & 0.0 & true & true \\\\\n",
       "\t14 & f2(x) = x\\^3 - 2*x - 5 & Secant & -1 & -1 & 0.351734 & 0.0 & true & true \\\\\n",
       "\t15 & f3(x) = (x-1)\\^7 & Secant & 41 & 43 & 0.985647 & -1.25492e-13 & false & false \\\\\n",
       "\t16 & f4(x) = sin(x) - x/2 & Secant & 0 & 2 & 0.0 & 0.0 & true & true \\\\\n",
       "\t17 & f5(x) = cos(x) - x & Secant & 2 & 11 & 0.739085 & 0.0 & true & true \\\\\n",
       "\t18 & f6(x) = cos(100*x)-4*erf(30*x-10) & Secant & 8 & 33 & 0.331866 & 7.07767e-15 & false & true \\\\\n",
       "\\end{tabular}\n"
      ],
      "text/plain": [
       "18×8 DataFrame. Omitted printing of 5 columns\n",
       "│ Row │ Function                          │ Method        │ Iterations │\n",
       "│     │ \u001b[90mString\u001b[39m                            │ \u001b[90mString\u001b[39m        │ \u001b[90mInt64\u001b[39m      │\n",
       "├─────┼───────────────────────────────────┼───────────────┼────────────┤\n",
       "│ 1   │ f1 = 2*x - exp(-x)                │ FalsePosition │ 7          │\n",
       "│ 2   │ f2 = x^3 - 2*x - 5                │ FalsePosition │ 13         │\n",
       "│ 3   │ f3 = (x-1)^7                      │ FalsePosition │ 41         │\n",
       "│ 4   │ f4(x) = sin(x) - x/2              │ FalsePosition │ 10         │\n",
       "│ 5   │ f5(x) = cos(x) - x                │ FalsePosition │ 8          │\n",
       "│ 6   │ f6(x) = cos(100*x)-4*erf(30*x-10) │ FalsePosition │ 15         │\n",
       "│ 7   │ f1(x) = 2*x - exp(-x)             │ Newton        │ 4          │\n",
       "│ 8   │ f2(x) = x^3 - 2x - 5              │ Newton        │ 19         │\n",
       "│ 9   │ f3(x) = (x-1)^7                   │ Newton        │ 33         │\n",
       "│ 10  │ f4(x) = sin(x) - x/2              │ Newton        │ 0          │\n",
       "│ 11  │ f5(x) = cos(x) - x                │ Newton        │ 5          │\n",
       "│ 12  │ f6(x) = cos(100*x)-4*erf(30*x-10) │ Newton        │ 1          │\n",
       "│ 13  │ f1(x) = 2*x - exp(-x)             │ Secant        │ 6          │\n",
       "│ 14  │ f2(x) = x^3 - 2*x - 5             │ Secant        │ -1         │\n",
       "│ 15  │ f3(x) = (x-1)^7                   │ Secant        │ 41         │\n",
       "│ 16  │ f4(x) = sin(x) - x/2              │ Secant        │ 0          │\n",
       "│ 17  │ f5(x) = cos(x) - x                │ Secant        │ 2          │\n",
       "│ 18  │ f6(x) = cos(100*x)-4*erf(30*x-10) │ Secant        │ 8          │"
      ]
     },
     "execution_count": 48,
     "metadata": {},
     "output_type": "execute_result"
    }
   ],
   "source": [
    "push!(df, (\"f6(x) = cos(100*x)-4*erf(30*x-10)\",\"Secant\",8,33,x,value,is_zero,change))"
   ]
  },
  {
   "cell_type": "code",
   "execution_count": 49,
   "metadata": {},
   "outputs": [
    {
     "data": {
      "text/plain": [
       "g (generic function with 1 method)"
      ]
     },
     "execution_count": 49,
     "metadata": {},
     "output_type": "execute_result"
    }
   ],
   "source": [
    "g(x) = 2*x^3-4*x^2+3*x"
   ]
  },
  {
   "cell_type": "code",
   "execution_count": 54,
   "metadata": {},
   "outputs": [
    {
     "data": {
      "image/svg+xml": [
       "<?xml version=\"1.0\" encoding=\"utf-8\"?>\n",
       "<svg xmlns=\"http://www.w3.org/2000/svg\" xmlns:xlink=\"http://www.w3.org/1999/xlink\" width=\"600\" height=\"400\" viewBox=\"0 0 2400 1600\">\n",
       "<defs>\n",
       "  <clipPath id=\"clip5500\">\n",
       "    <rect x=\"0\" y=\"0\" width=\"2000\" height=\"2000\"/>\n",
       "  </clipPath>\n",
       "</defs>\n",
       "<defs>\n",
       "  <clipPath id=\"clip5501\">\n",
       "    <rect x=\"0\" y=\"0\" width=\"2400\" height=\"1600\"/>\n",
       "  </clipPath>\n",
       "</defs>\n",
       "<polygon clip-path=\"url(#clip5501)\" points=\"\n",
       "0,1600 2400,1600 2400,0 0,0 \n",
       "  \" fill=\"#ffffff\" fill-rule=\"evenodd\" fill-opacity=\"1\"/>\n",
       "<defs>\n",
       "  <clipPath id=\"clip5502\">\n",
       "    <rect x=\"480\" y=\"0\" width=\"1681\" height=\"1600\"/>\n",
       "  </clipPath>\n",
       "</defs>\n",
       "<polygon clip-path=\"url(#clip5501)\" points=\"\n",
       "202.885,1503.47 2321.26,1503.47 2321.26,47.2441 202.885,47.2441 \n",
       "  \" fill=\"#ffffff\" fill-rule=\"evenodd\" fill-opacity=\"1\"/>\n",
       "<defs>\n",
       "  <clipPath id=\"clip5503\">\n",
       "    <rect x=\"202\" y=\"47\" width=\"2119\" height=\"1457\"/>\n",
       "  </clipPath>\n",
       "</defs>\n",
       "<polyline clip-path=\"url(#clip5503)\" style=\"stroke:#000000; stroke-width:2; stroke-opacity:0.1; fill:none\" points=\"\n",
       "  458.908,1503.47 458.908,47.2441 \n",
       "  \"/>\n",
       "<polyline clip-path=\"url(#clip5503)\" style=\"stroke:#000000; stroke-width:2; stroke-opacity:0.1; fill:none\" points=\"\n",
       "  860.86,1503.47 860.86,47.2441 \n",
       "  \"/>\n",
       "<polyline clip-path=\"url(#clip5503)\" style=\"stroke:#000000; stroke-width:2; stroke-opacity:0.1; fill:none\" points=\"\n",
       "  1262.81,1503.47 1262.81,47.2441 \n",
       "  \"/>\n",
       "<polyline clip-path=\"url(#clip5503)\" style=\"stroke:#000000; stroke-width:2; stroke-opacity:0.1; fill:none\" points=\"\n",
       "  1664.76,1503.47 1664.76,47.2441 \n",
       "  \"/>\n",
       "<polyline clip-path=\"url(#clip5503)\" style=\"stroke:#000000; stroke-width:2; stroke-opacity:0.1; fill:none\" points=\"\n",
       "  2066.72,1503.47 2066.72,47.2441 \n",
       "  \"/>\n",
       "<polyline clip-path=\"url(#clip5503)\" style=\"stroke:#000000; stroke-width:2; stroke-opacity:0.1; fill:none\" points=\"\n",
       "  202.885,1303.46 2321.26,1303.46 \n",
       "  \"/>\n",
       "<polyline clip-path=\"url(#clip5503)\" style=\"stroke:#000000; stroke-width:2; stroke-opacity:0.1; fill:none\" points=\"\n",
       "  202.885,1040.15 2321.26,1040.15 \n",
       "  \"/>\n",
       "<polyline clip-path=\"url(#clip5503)\" style=\"stroke:#000000; stroke-width:2; stroke-opacity:0.1; fill:none\" points=\"\n",
       "  202.885,776.844 2321.26,776.844 \n",
       "  \"/>\n",
       "<polyline clip-path=\"url(#clip5503)\" style=\"stroke:#000000; stroke-width:2; stroke-opacity:0.1; fill:none\" points=\"\n",
       "  202.885,513.534 2321.26,513.534 \n",
       "  \"/>\n",
       "<polyline clip-path=\"url(#clip5503)\" style=\"stroke:#000000; stroke-width:2; stroke-opacity:0.1; fill:none\" points=\"\n",
       "  202.885,250.225 2321.26,250.225 \n",
       "  \"/>\n",
       "<polyline clip-path=\"url(#clip5501)\" style=\"stroke:#000000; stroke-width:4; stroke-opacity:1; fill:none\" points=\"\n",
       "  202.885,1503.47 2321.26,1503.47 \n",
       "  \"/>\n",
       "<polyline clip-path=\"url(#clip5501)\" style=\"stroke:#000000; stroke-width:4; stroke-opacity:1; fill:none\" points=\"\n",
       "  202.885,1503.47 202.885,47.2441 \n",
       "  \"/>\n",
       "<polyline clip-path=\"url(#clip5501)\" style=\"stroke:#000000; stroke-width:4; stroke-opacity:1; fill:none\" points=\"\n",
       "  458.908,1503.47 458.908,1481.63 \n",
       "  \"/>\n",
       "<polyline clip-path=\"url(#clip5501)\" style=\"stroke:#000000; stroke-width:4; stroke-opacity:1; fill:none\" points=\"\n",
       "  860.86,1503.47 860.86,1481.63 \n",
       "  \"/>\n",
       "<polyline clip-path=\"url(#clip5501)\" style=\"stroke:#000000; stroke-width:4; stroke-opacity:1; fill:none\" points=\"\n",
       "  1262.81,1503.47 1262.81,1481.63 \n",
       "  \"/>\n",
       "<polyline clip-path=\"url(#clip5501)\" style=\"stroke:#000000; stroke-width:4; stroke-opacity:1; fill:none\" points=\"\n",
       "  1664.76,1503.47 1664.76,1481.63 \n",
       "  \"/>\n",
       "<polyline clip-path=\"url(#clip5501)\" style=\"stroke:#000000; stroke-width:4; stroke-opacity:1; fill:none\" points=\"\n",
       "  2066.72,1503.47 2066.72,1481.63 \n",
       "  \"/>\n",
       "<polyline clip-path=\"url(#clip5501)\" style=\"stroke:#000000; stroke-width:4; stroke-opacity:1; fill:none\" points=\"\n",
       "  202.885,1303.46 234.661,1303.46 \n",
       "  \"/>\n",
       "<polyline clip-path=\"url(#clip5501)\" style=\"stroke:#000000; stroke-width:4; stroke-opacity:1; fill:none\" points=\"\n",
       "  202.885,1040.15 234.661,1040.15 \n",
       "  \"/>\n",
       "<polyline clip-path=\"url(#clip5501)\" style=\"stroke:#000000; stroke-width:4; stroke-opacity:1; fill:none\" points=\"\n",
       "  202.885,776.844 234.661,776.844 \n",
       "  \"/>\n",
       "<polyline clip-path=\"url(#clip5501)\" style=\"stroke:#000000; stroke-width:4; stroke-opacity:1; fill:none\" points=\"\n",
       "  202.885,513.534 234.661,513.534 \n",
       "  \"/>\n",
       "<polyline clip-path=\"url(#clip5501)\" style=\"stroke:#000000; stroke-width:4; stroke-opacity:1; fill:none\" points=\"\n",
       "  202.885,250.225 234.661,250.225 \n",
       "  \"/>\n",
       "<g clip-path=\"url(#clip5501)\">\n",
       "<text style=\"fill:#000000; fill-opacity:1; font-family:Arial,Helvetica Neue,Helvetica,sans-serif; font-size:48px; text-anchor:middle;\" transform=\"rotate(0, 458.908, 1557.47)\" x=\"458.908\" y=\"1557.47\">-4</text>\n",
       "</g>\n",
       "<g clip-path=\"url(#clip5501)\">\n",
       "<text style=\"fill:#000000; fill-opacity:1; font-family:Arial,Helvetica Neue,Helvetica,sans-serif; font-size:48px; text-anchor:middle;\" transform=\"rotate(0, 860.86, 1557.47)\" x=\"860.86\" y=\"1557.47\">-2</text>\n",
       "</g>\n",
       "<g clip-path=\"url(#clip5501)\">\n",
       "<text style=\"fill:#000000; fill-opacity:1; font-family:Arial,Helvetica Neue,Helvetica,sans-serif; font-size:48px; text-anchor:middle;\" transform=\"rotate(0, 1262.81, 1557.47)\" x=\"1262.81\" y=\"1557.47\">0</text>\n",
       "</g>\n",
       "<g clip-path=\"url(#clip5501)\">\n",
       "<text style=\"fill:#000000; fill-opacity:1; font-family:Arial,Helvetica Neue,Helvetica,sans-serif; font-size:48px; text-anchor:middle;\" transform=\"rotate(0, 1664.76, 1557.47)\" x=\"1664.76\" y=\"1557.47\">2</text>\n",
       "</g>\n",
       "<g clip-path=\"url(#clip5501)\">\n",
       "<text style=\"fill:#000000; fill-opacity:1; font-family:Arial,Helvetica Neue,Helvetica,sans-serif; font-size:48px; text-anchor:middle;\" transform=\"rotate(0, 2066.72, 1557.47)\" x=\"2066.72\" y=\"1557.47\">4</text>\n",
       "</g>\n",
       "<g clip-path=\"url(#clip5501)\">\n",
       "<text style=\"fill:#000000; fill-opacity:1; font-family:Arial,Helvetica Neue,Helvetica,sans-serif; font-size:48px; text-anchor:end;\" transform=\"rotate(0, 178.885, 1320.96)\" x=\"178.885\" y=\"1320.96\">-300</text>\n",
       "</g>\n",
       "<g clip-path=\"url(#clip5501)\">\n",
       "<text style=\"fill:#000000; fill-opacity:1; font-family:Arial,Helvetica Neue,Helvetica,sans-serif; font-size:48px; text-anchor:end;\" transform=\"rotate(0, 178.885, 1057.65)\" x=\"178.885\" y=\"1057.65\">-200</text>\n",
       "</g>\n",
       "<g clip-path=\"url(#clip5501)\">\n",
       "<text style=\"fill:#000000; fill-opacity:1; font-family:Arial,Helvetica Neue,Helvetica,sans-serif; font-size:48px; text-anchor:end;\" transform=\"rotate(0, 178.885, 794.344)\" x=\"178.885\" y=\"794.344\">-100</text>\n",
       "</g>\n",
       "<g clip-path=\"url(#clip5501)\">\n",
       "<text style=\"fill:#000000; fill-opacity:1; font-family:Arial,Helvetica Neue,Helvetica,sans-serif; font-size:48px; text-anchor:end;\" transform=\"rotate(0, 178.885, 531.034)\" x=\"178.885\" y=\"531.034\">0</text>\n",
       "</g>\n",
       "<g clip-path=\"url(#clip5501)\">\n",
       "<text style=\"fill:#000000; fill-opacity:1; font-family:Arial,Helvetica Neue,Helvetica,sans-serif; font-size:48px; text-anchor:end;\" transform=\"rotate(0, 178.885, 267.725)\" x=\"178.885\" y=\"267.725\">100</text>\n",
       "</g>\n",
       "<polyline clip-path=\"url(#clip5503)\" style=\"stroke:#009af9; stroke-width:4; stroke-opacity:1; fill:none\" points=\"\n",
       "  262.839,1462.26 267.746,1450.01 272.653,1437.87 277.559,1425.83 322.929,1319.45 368.299,1221.67 413.669,1132.13 459.039,1050.46 486.304,1005.02 513.57,962.219 \n",
       "  540.835,921.97 568.1,884.198 614.206,825.741 660.311,773.759 710.394,724.184 760.477,681.311 806.649,647.302 852.821,618.189 902.322,591.98 951.824,570.488 \n",
       "  1009.18,550.863 1066.53,536.201 1168.46,520.109 1257.85,513.736 1355.31,511.616 1453.35,511.025 1561.74,507.757 1664.87,497.72 1718.49,488.387 1772.1,475.455 \n",
       "  1817.24,461.337 1862.37,443.886 1917.48,417.54 1972.58,385.039 2024.38,348.295 2076.18,304.996 2117.67,265.22 2159.16,220.612 2200.66,170.896 2242.15,115.793 \n",
       "  2248.53,106.817 2254.92,97.7057 2261.31,88.4582 \n",
       "  \"/>\n",
       "<polygon clip-path=\"url(#clip5501)\" points=\"\n",
       "1958.43,251.724 2249.26,251.724 2249.26,130.764 1958.43,130.764 \n",
       "  \" fill=\"#ffffff\" fill-rule=\"evenodd\" fill-opacity=\"1\"/>\n",
       "<polyline clip-path=\"url(#clip5501)\" style=\"stroke:#000000; stroke-width:4; stroke-opacity:1; fill:none\" points=\"\n",
       "  1958.43,251.724 2249.26,251.724 2249.26,130.764 1958.43,130.764 1958.43,251.724 \n",
       "  \"/>\n",
       "<polyline clip-path=\"url(#clip5501)\" style=\"stroke:#009af9; stroke-width:4; stroke-opacity:1; fill:none\" points=\"\n",
       "  1982.43,191.244 2126.43,191.244 \n",
       "  \"/>\n",
       "<g clip-path=\"url(#clip5501)\">\n",
       "<text style=\"fill:#000000; fill-opacity:1; font-family:Arial,Helvetica Neue,Helvetica,sans-serif; font-size:48px; text-anchor:start;\" transform=\"rotate(0, 2150.43, 208.744)\" x=\"2150.43\" y=\"208.744\">y1</text>\n",
       "</g>\n",
       "</svg>\n"
      ]
     },
     "execution_count": 54,
     "metadata": {},
     "output_type": "execute_result"
    }
   ],
   "source": [
    "plot(g)"
   ]
  },
  {
   "cell_type": "code",
   "execution_count": 50,
   "metadata": {},
   "outputs": [
    {
     "name": "stdout",
     "output_type": "stream",
     "text": [
      "Results of univariate zero finding:\n",
      "\n",
      "* Converged to: 4.547473508864641e-13\n",
      "* Algorithm: FalsePosition{:anderson_bjork}()\n",
      "* iterations: 41\n",
      "* function evaluations: 43\n",
      "* Note: Too many steps taken. \n",
      "\tAlgorithm stopped early, but |f(xn)| < ϵ^(1/3), where ϵ depends on xn, rtol, and atol. \n",
      "\n",
      "Trace:\n",
      "(a_0, b_0) = ( 0.0000000000000000,  1.0000000000000000)\n",
      "(a_1, b_1) = ( 0.0000000000000000,  0.5000000000000000)\n",
      "(a_2, b_2) = ( 0.0000000000000000,  0.2500000000000000)\n",
      "(a_3, b_3) = ( 0.0000000000000000,  0.1250000000000000)\n",
      "(a_4, b_4) = ( 0.0000000000000000,  0.0625000000000000)\n",
      "(a_5, b_5) = ( 0.0000000000000000,  0.0312500000000000)\n",
      "(a_6, b_6) = ( 0.0000000000000000,  0.0156250000000000)\n",
      "(a_7, b_7) = ( 0.0000000000000000,  0.0078125000000000)\n",
      "(a_8, b_8) = ( 0.0000000000000000,  0.0039062500000000)\n",
      "(a_9, b_9) = ( 0.0000000000000000,  0.0019531250000000)\n",
      "(a_10, b_10) = ( 0.0000000000000000,  0.0009765625000000)\n",
      "(a_11, b_11) = ( 0.0000000000000000,  0.0004882812500000)\n",
      "(a_12, b_12) = ( 0.0000000000000000,  0.0002441406250000)\n",
      "(a_13, b_13) = ( 0.0000000000000000,  0.0001220703125000)\n",
      "(a_14, b_14) = ( 0.0000000000000000,  0.0000610351562500)\n",
      "(a_15, b_15) = ( 0.0000000000000000,  0.0000305175781250)\n",
      "(a_16, b_16) = ( 0.0000000000000000,  0.0000152587890625)\n",
      "(a_17, b_17) = ( 0.0000000000000000,  0.0000076293945313)\n",
      "(a_18, b_18) = ( 0.0000000000000000,  0.0000038146972656)\n",
      "(a_19, b_19) = ( 0.0000000000000000,  0.0000019073486328)\n",
      "(a_20, b_20) = ( 0.0000000000000000,  0.0000009536743164)\n",
      "(a_21, b_21) = ( 0.0000000000000000,  0.0000004768371582)\n",
      "(a_22, b_22) = ( 0.0000000000000000,  0.0000002384185791)\n",
      "(a_23, b_23) = ( 0.0000000000000000,  0.0000001192092896)\n",
      "(a_24, b_24) = ( 0.0000000000000000,  0.0000000596046448)\n",
      "(a_25, b_25) = ( 0.0000000000000000,  0.0000000298023224)\n",
      "(a_26, b_26) = ( 0.0000000000000000,  0.0000000149011612)\n",
      "(a_27, b_27) = ( 0.0000000000000000,  0.0000000074505806)\n",
      "(a_28, b_28) = ( 0.0000000000000000,  0.0000000037252903)\n",
      "(a_29, b_29) = ( 0.0000000000000000,  0.0000000018626451)\n",
      "(a_30, b_30) = ( 0.0000000000000000,  0.0000000009313226)\n",
      "(a_31, b_31) = ( 0.0000000000000000,  0.0000000004656613)\n",
      "(a_32, b_32) = ( 0.0000000000000000,  0.0000000002328306)\n",
      "(a_33, b_33) = ( 0.0000000000000000,  0.0000000001164153)\n",
      "(a_34, b_34) = ( 0.0000000000000000,  0.0000000000582077)\n",
      "(a_35, b_35) = ( 0.0000000000000000,  0.0000000000291038)\n",
      "(a_36, b_36) = ( 0.0000000000000000,  0.0000000000145519)\n",
      "(a_37, b_37) = ( 0.0000000000000000,  0.0000000000072760)\n",
      "(a_38, b_38) = ( 0.0000000000000000,  0.0000000000036380)\n",
      "(a_39, b_39) = ( 0.0000000000000000,  0.0000000000018190)\n",
      "(a_40, b_40) = ( 0.0000000000000000,  0.0000000000009095)\n",
      "(a_41, b_41) = ( 0.0000000000000000,  0.0000000000004547)\n",
      "\n"
     ]
    },
    {
     "data": {
      "text/plain": [
       "false"
      ]
     },
     "execution_count": 50,
     "metadata": {},
     "output_type": "execute_result"
    }
   ],
   "source": [
    "x = find_zero(g, (-1, 1), FalsePosition(), verbose=true)\n",
    "value = g(x)\n",
    "is_zero = iszero(g(x))\n",
    "if sign(g(prevfloat(x))) *sign(g(nextfloat(x))) < 0\n",
    "    change = true\n",
    "else\n",
    "    change = false\n",
    "end"
   ]
  },
  {
   "cell_type": "code",
   "execution_count": null,
   "metadata": {},
   "outputs": [],
   "source": []
  },
  {
   "cell_type": "code",
   "execution_count": 65,
   "metadata": {},
   "outputs": [
    {
     "data": {
      "text/plain": [
       "h (generic function with 1 method)"
      ]
     },
     "execution_count": 65,
     "metadata": {},
     "output_type": "execute_result"
    }
   ],
   "source": [
    "h(x) = (x-2)^2-1"
   ]
  },
  {
   "cell_type": "code",
   "execution_count": 67,
   "metadata": {},
   "outputs": [
    {
     "name": "stdout",
     "output_type": "stream",
     "text": [
      "Results of univariate zero finding:\n",
      "\n",
      "* Convergence failed: \n",
      "* Algorithm Roots.Newton()\n",
      "\n",
      "Trace:\n",
      "x_0 =  2.0000000000000000,\t fx_0 = -1.0000000000000000\n",
      "x_1 =  2.0000000000000000,\t fx_1 = -1.0000000000000000\n",
      "\n"
     ]
    },
    {
     "ename": "Roots.ConvergenceFailed",
     "evalue": "Roots.ConvergenceFailed(\"Stopped at: xn = 2.0\")",
     "output_type": "error",
     "traceback": [
      "Roots.ConvergenceFailed(\"Stopped at: xn = 2.0\")",
      "",
      "Stacktrace:",
      " [1] #find_zero#4(::Roots.NullTracks, ::Bool, ::Base.Iterators.Pairs{Union{},Union{},Tuple{},NamedTuple{(),Tuple{}}}, ::Function, ::Tuple{typeof(h),getfield(Main, Symbol(\"##31#32\")){typeof(h)}}, ::Int64, ::Roots.Newton, ::Nothing) at /home/jrun/.julia/packages/Roots/xWzoi/src/find_zero.jl:542",
      " [2] #find_zero at ./none:0 [inlined] (repeats 2 times)",
      " [3] top-level scope at In[67]:2"
     ]
    }
   ],
   "source": [
    "D(h) = x->ForwardDiff.derivative(h, float(x))\n",
    "x = find_zero((h, D(h)),2, Roots.Newton(),verbose=true)\n",
    "value = h(x)\n",
    "is_zero = iszero(h(x))\n",
    "if sign(h(prevfloat(x))) *sign(h(nextfloat(x))) < 0\n",
    "    change = true\n",
    "else\n",
    "    change = false\n",
    "end"
   ]
  },
  {
   "cell_type": "code",
   "execution_count": 3,
   "metadata": {},
   "outputs": [
    {
     "data": {
      "text/plain": [
       "p (generic function with 1 method)"
      ]
     },
     "execution_count": 3,
     "metadata": {},
     "output_type": "execute_result"
    }
   ],
   "source": [
    "p(x) = 1/((x+1)^2-2)"
   ]
  },
  {
   "cell_type": "code",
   "execution_count": 9,
   "metadata": {},
   "outputs": [
    {
     "data": {
      "text/plain": [
       "95887.50793455799"
      ]
     },
     "execution_count": 9,
     "metadata": {},
     "output_type": "execute_result"
    }
   ],
   "source": [
    "x = Roots.secant_method(p, (0,4))"
   ]
  },
  {
   "cell_type": "code",
   "execution_count": 8,
   "metadata": {},
   "outputs": [
    {
     "data": {
      "image/svg+xml": [
       "<?xml version=\"1.0\" encoding=\"utf-8\"?>\n",
       "<svg xmlns=\"http://www.w3.org/2000/svg\" xmlns:xlink=\"http://www.w3.org/1999/xlink\" width=\"600\" height=\"400\" viewBox=\"0 0 2400 1600\">\n",
       "<defs>\n",
       "  <clipPath id=\"clip0700\">\n",
       "    <rect x=\"0\" y=\"0\" width=\"2000\" height=\"2000\"/>\n",
       "  </clipPath>\n",
       "</defs>\n",
       "<defs>\n",
       "  <clipPath id=\"clip0701\">\n",
       "    <rect x=\"0\" y=\"0\" width=\"2400\" height=\"1600\"/>\n",
       "  </clipPath>\n",
       "</defs>\n",
       "<polygon clip-path=\"url(#clip0701)\" points=\"\n",
       "0,1600 2400,1600 2400,0 0,0 \n",
       "  \" fill=\"#ffffff\" fill-rule=\"evenodd\" fill-opacity=\"1\"/>\n",
       "<defs>\n",
       "  <clipPath id=\"clip0702\">\n",
       "    <rect x=\"480\" y=\"0\" width=\"1681\" height=\"1600\"/>\n",
       "  </clipPath>\n",
       "</defs>\n",
       "<polygon clip-path=\"url(#clip0701)\" points=\"\n",
       "202.885,1503.47 2321.26,1503.47 2321.26,47.2441 202.885,47.2441 \n",
       "  \" fill=\"#ffffff\" fill-rule=\"evenodd\" fill-opacity=\"1\"/>\n",
       "<defs>\n",
       "  <clipPath id=\"clip0703\">\n",
       "    <rect x=\"202\" y=\"47\" width=\"2119\" height=\"1457\"/>\n",
       "  </clipPath>\n",
       "</defs>\n",
       "<polyline clip-path=\"url(#clip0703)\" style=\"stroke:#000000; stroke-width:2; stroke-opacity:0.1; fill:none\" points=\"\n",
       "  257.885,1503.47 257.885,47.2441 \n",
       "  \"/>\n",
       "<polyline clip-path=\"url(#clip0703)\" style=\"stroke:#000000; stroke-width:2; stroke-opacity:0.1; fill:none\" points=\"\n",
       "  765.188,1503.47 765.188,47.2441 \n",
       "  \"/>\n",
       "<polyline clip-path=\"url(#clip0703)\" style=\"stroke:#000000; stroke-width:2; stroke-opacity:0.1; fill:none\" points=\"\n",
       "  1272.49,1503.47 1272.49,47.2441 \n",
       "  \"/>\n",
       "<polyline clip-path=\"url(#clip0703)\" style=\"stroke:#000000; stroke-width:2; stroke-opacity:0.1; fill:none\" points=\"\n",
       "  1779.79,1503.47 1779.79,47.2441 \n",
       "  \"/>\n",
       "<polyline clip-path=\"url(#clip0703)\" style=\"stroke:#000000; stroke-width:2; stroke-opacity:0.1; fill:none\" points=\"\n",
       "  2287.1,1503.47 2287.1,47.2441 \n",
       "  \"/>\n",
       "<polyline clip-path=\"url(#clip0703)\" style=\"stroke:#000000; stroke-width:2; stroke-opacity:0.1; fill:none\" points=\"\n",
       "  202.885,1273.22 2321.26,1273.22 \n",
       "  \"/>\n",
       "<polyline clip-path=\"url(#clip0703)\" style=\"stroke:#000000; stroke-width:2; stroke-opacity:0.1; fill:none\" points=\"\n",
       "  202.885,982.861 2321.26,982.861 \n",
       "  \"/>\n",
       "<polyline clip-path=\"url(#clip0703)\" style=\"stroke:#000000; stroke-width:2; stroke-opacity:0.1; fill:none\" points=\"\n",
       "  202.885,692.504 2321.26,692.504 \n",
       "  \"/>\n",
       "<polyline clip-path=\"url(#clip0703)\" style=\"stroke:#000000; stroke-width:2; stroke-opacity:0.1; fill:none\" points=\"\n",
       "  202.885,402.148 2321.26,402.148 \n",
       "  \"/>\n",
       "<polyline clip-path=\"url(#clip0703)\" style=\"stroke:#000000; stroke-width:2; stroke-opacity:0.1; fill:none\" points=\"\n",
       "  202.885,111.791 2321.26,111.791 \n",
       "  \"/>\n",
       "<polyline clip-path=\"url(#clip0701)\" style=\"stroke:#000000; stroke-width:4; stroke-opacity:1; fill:none\" points=\"\n",
       "  202.885,1503.47 2321.26,1503.47 \n",
       "  \"/>\n",
       "<polyline clip-path=\"url(#clip0701)\" style=\"stroke:#000000; stroke-width:4; stroke-opacity:1; fill:none\" points=\"\n",
       "  202.885,1503.47 202.885,47.2441 \n",
       "  \"/>\n",
       "<polyline clip-path=\"url(#clip0701)\" style=\"stroke:#000000; stroke-width:4; stroke-opacity:1; fill:none\" points=\"\n",
       "  257.885,1503.47 257.885,1481.63 \n",
       "  \"/>\n",
       "<polyline clip-path=\"url(#clip0701)\" style=\"stroke:#000000; stroke-width:4; stroke-opacity:1; fill:none\" points=\"\n",
       "  765.188,1503.47 765.188,1481.63 \n",
       "  \"/>\n",
       "<polyline clip-path=\"url(#clip0701)\" style=\"stroke:#000000; stroke-width:4; stroke-opacity:1; fill:none\" points=\"\n",
       "  1272.49,1503.47 1272.49,1481.63 \n",
       "  \"/>\n",
       "<polyline clip-path=\"url(#clip0701)\" style=\"stroke:#000000; stroke-width:4; stroke-opacity:1; fill:none\" points=\"\n",
       "  1779.79,1503.47 1779.79,1481.63 \n",
       "  \"/>\n",
       "<polyline clip-path=\"url(#clip0701)\" style=\"stroke:#000000; stroke-width:4; stroke-opacity:1; fill:none\" points=\"\n",
       "  2287.1,1503.47 2287.1,1481.63 \n",
       "  \"/>\n",
       "<polyline clip-path=\"url(#clip0701)\" style=\"stroke:#000000; stroke-width:4; stroke-opacity:1; fill:none\" points=\"\n",
       "  202.885,1273.22 234.661,1273.22 \n",
       "  \"/>\n",
       "<polyline clip-path=\"url(#clip0701)\" style=\"stroke:#000000; stroke-width:4; stroke-opacity:1; fill:none\" points=\"\n",
       "  202.885,982.861 234.661,982.861 \n",
       "  \"/>\n",
       "<polyline clip-path=\"url(#clip0701)\" style=\"stroke:#000000; stroke-width:4; stroke-opacity:1; fill:none\" points=\"\n",
       "  202.885,692.504 234.661,692.504 \n",
       "  \"/>\n",
       "<polyline clip-path=\"url(#clip0701)\" style=\"stroke:#000000; stroke-width:4; stroke-opacity:1; fill:none\" points=\"\n",
       "  202.885,402.148 234.661,402.148 \n",
       "  \"/>\n",
       "<polyline clip-path=\"url(#clip0701)\" style=\"stroke:#000000; stroke-width:4; stroke-opacity:1; fill:none\" points=\"\n",
       "  202.885,111.791 234.661,111.791 \n",
       "  \"/>\n",
       "<g clip-path=\"url(#clip0701)\">\n",
       "<text style=\"fill:#000000; fill-opacity:1; font-family:Arial,Helvetica Neue,Helvetica,sans-serif; font-size:48px; text-anchor:middle;\" transform=\"rotate(0, 257.885, 1557.47)\" x=\"257.885\" y=\"1557.47\">0</text>\n",
       "</g>\n",
       "<g clip-path=\"url(#clip0701)\">\n",
       "<text style=\"fill:#000000; fill-opacity:1; font-family:Arial,Helvetica Neue,Helvetica,sans-serif; font-size:48px; text-anchor:middle;\" transform=\"rotate(0, 765.188, 1557.47)\" x=\"765.188\" y=\"1557.47\">1</text>\n",
       "</g>\n",
       "<g clip-path=\"url(#clip0701)\">\n",
       "<text style=\"fill:#000000; fill-opacity:1; font-family:Arial,Helvetica Neue,Helvetica,sans-serif; font-size:48px; text-anchor:middle;\" transform=\"rotate(0, 1272.49, 1557.47)\" x=\"1272.49\" y=\"1557.47\">2</text>\n",
       "</g>\n",
       "<g clip-path=\"url(#clip0701)\">\n",
       "<text style=\"fill:#000000; fill-opacity:1; font-family:Arial,Helvetica Neue,Helvetica,sans-serif; font-size:48px; text-anchor:middle;\" transform=\"rotate(0, 1779.79, 1557.47)\" x=\"1779.79\" y=\"1557.47\">3</text>\n",
       "</g>\n",
       "<g clip-path=\"url(#clip0701)\">\n",
       "<text style=\"fill:#000000; fill-opacity:1; font-family:Arial,Helvetica Neue,Helvetica,sans-serif; font-size:48px; text-anchor:middle;\" transform=\"rotate(0, 2287.1, 1557.47)\" x=\"2287.1\" y=\"1557.47\">4</text>\n",
       "</g>\n",
       "<g clip-path=\"url(#clip0701)\">\n",
       "<text style=\"fill:#000000; fill-opacity:1; font-family:Arial,Helvetica Neue,Helvetica,sans-serif; font-size:48px; text-anchor:end;\" transform=\"rotate(0, 178.885, 1290.72)\" x=\"178.885\" y=\"1290.72\">-750</text>\n",
       "</g>\n",
       "<g clip-path=\"url(#clip0701)\">\n",
       "<text style=\"fill:#000000; fill-opacity:1; font-family:Arial,Helvetica Neue,Helvetica,sans-serif; font-size:48px; text-anchor:end;\" transform=\"rotate(0, 178.885, 1000.36)\" x=\"178.885\" y=\"1000.36\">-500</text>\n",
       "</g>\n",
       "<g clip-path=\"url(#clip0701)\">\n",
       "<text style=\"fill:#000000; fill-opacity:1; font-family:Arial,Helvetica Neue,Helvetica,sans-serif; font-size:48px; text-anchor:end;\" transform=\"rotate(0, 178.885, 710.004)\" x=\"178.885\" y=\"710.004\">-250</text>\n",
       "</g>\n",
       "<g clip-path=\"url(#clip0701)\">\n",
       "<text style=\"fill:#000000; fill-opacity:1; font-family:Arial,Helvetica Neue,Helvetica,sans-serif; font-size:48px; text-anchor:end;\" transform=\"rotate(0, 178.885, 419.648)\" x=\"178.885\" y=\"419.648\">0</text>\n",
       "</g>\n",
       "<g clip-path=\"url(#clip0701)\">\n",
       "<text style=\"fill:#000000; fill-opacity:1; font-family:Arial,Helvetica Neue,Helvetica,sans-serif; font-size:48px; text-anchor:end;\" transform=\"rotate(0, 178.885, 129.291)\" x=\"178.885\" y=\"129.291\">250</text>\n",
       "</g>\n",
       "<polyline clip-path=\"url(#clip0703)\" style=\"stroke:#009af9; stroke-width:4; stroke-opacity:1; fill:none\" points=\"\n",
       "  262.839,403.332 267.794,403.357 272.748,403.382 277.702,403.409 300.606,403.556 323.511,403.751 346.415,404.019 369.32,404.414 380.772,404.69 392.224,405.049 \n",
       "  403.677,405.537 415.129,406.237 426.581,407.324 438.033,409.243 443.759,410.883 449.486,413.536 455.212,418.562 460.938,431.721 461.798,435.792 462.658,441.17 \n",
       "  463.519,448.606 464.379,459.558 465.239,477.296 466.1,510.952 466.96,599.405 467.82,1462.26 468.68,88.4582 469.541,265.61 470.401,314.926 471.261,338.09 \n",
       "  472.122,351.545 472.982,360.338 473.842,366.534 474.702,371.135 478.144,381.722 481.585,386.938 485.026,390.044 488.467,392.105 495.349,394.669 502.232,396.201 \n",
       "  509.114,397.22 515.996,397.946 522.879,398.49 529.761,398.913 536.643,399.251 543.526,399.527 557.29,399.951 571.055,400.261 594.331,400.632 617.606,400.886 \n",
       "  640.882,401.072 664.158,401.213 765.293,401.567 858.531,401.728 958.492,401.831 1074.31,401.906 1177.23,401.951 1267.48,401.98 1365.88,402.005 1464.87,402.024 \n",
       "  1574.31,402.041 1678.44,402.054 1786.71,402.065 1877.85,402.073 1989.13,402.081 2093.73,402.087 2261.31,402.096 \n",
       "  \"/>\n",
       "<polygon clip-path=\"url(#clip0701)\" points=\"\n",
       "1958.43,251.724 2249.26,251.724 2249.26,130.764 1958.43,130.764 \n",
       "  \" fill=\"#ffffff\" fill-rule=\"evenodd\" fill-opacity=\"1\"/>\n",
       "<polyline clip-path=\"url(#clip0701)\" style=\"stroke:#000000; stroke-width:4; stroke-opacity:1; fill:none\" points=\"\n",
       "  1958.43,251.724 2249.26,251.724 2249.26,130.764 1958.43,130.764 1958.43,251.724 \n",
       "  \"/>\n",
       "<polyline clip-path=\"url(#clip0701)\" style=\"stroke:#009af9; stroke-width:4; stroke-opacity:1; fill:none\" points=\"\n",
       "  1982.43,191.244 2126.43,191.244 \n",
       "  \"/>\n",
       "<g clip-path=\"url(#clip0701)\">\n",
       "<text style=\"fill:#000000; fill-opacity:1; font-family:Arial,Helvetica Neue,Helvetica,sans-serif; font-size:48px; text-anchor:start;\" transform=\"rotate(0, 2150.43, 208.744)\" x=\"2150.43\" y=\"208.744\">y1</text>\n",
       "</g>\n",
       "</svg>\n"
      ]
     },
     "execution_count": 8,
     "metadata": {},
     "output_type": "execute_result"
    }
   ],
   "source": [
    "plot(p, 0, 4)"
   ]
  },
  {
   "cell_type": "code",
   "execution_count": 10,
   "metadata": {},
   "outputs": [
    {
     "data": {
      "text/plain": [
       "1.087594188624951e-10"
      ]
     },
     "execution_count": 10,
     "metadata": {},
     "output_type": "execute_result"
    }
   ],
   "source": [
    "p(x)"
   ]
  },
  {
   "cell_type": "code",
   "execution_count": 11,
   "metadata": {},
   "outputs": [
    {
     "data": {
      "text/plain": [
       "false"
      ]
     },
     "execution_count": 11,
     "metadata": {},
     "output_type": "execute_result"
    }
   ],
   "source": [
    "iszero(p(x))"
   ]
  },
  {
   "cell_type": "code",
   "execution_count": 12,
   "metadata": {},
   "outputs": [
    {
     "data": {
      "text/plain": [
       "1.0"
      ]
     },
     "execution_count": 12,
     "metadata": {},
     "output_type": "execute_result"
    }
   ],
   "source": [
    "sign(p(prevfloat(x))) *sign(p(nextfloat(x)))"
   ]
  },
  {
   "cell_type": "code",
   "execution_count": null,
   "metadata": {},
   "outputs": [],
   "source": []
  },
  {
   "cell_type": "code",
   "execution_count": null,
   "metadata": {},
   "outputs": [],
   "source": []
  }
 ],
 "metadata": {
  "kernelspec": {
   "display_name": "Julia 1.0.3 (4 threads)",
   "language": "julia",
   "name": "julia-1.0k"
  },
  "language_info": {
   "file_extension": ".jl",
   "mimetype": "application/julia",
   "name": "julia",
   "version": "1.0.3"
  }
 },
 "nbformat": 4,
 "nbformat_minor": 2
}
